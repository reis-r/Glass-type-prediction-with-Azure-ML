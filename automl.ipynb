{
 "cells": [
  {
   "cell_type": "markdown",
   "metadata": {},
   "source": [
    "# Automated ML"
   ]
  },
  {
   "cell_type": "code",
   "execution_count": 1,
   "metadata": {
    "collapsed": false,
    "gather": {
     "logged": 1598423888013
    },
    "jupyter": {
     "outputs_hidden": false,
     "source_hidden": false
    },
    "nteract": {
     "transient": {
      "deleting": false
     }
    }
   },
   "outputs": [],
   "source": [
    "from azureml.core import Workspace, Experiment, Dataset\n",
    "from azureml.data.dataset_factory import TabularDatasetFactory\n",
    "from train import clean_data\n",
    "from azureml.train.automl import AutoMLConfig\n",
    "from azureml.core.compute import ComputeTarget, AmlCompute\n",
    "from azureml.core.compute_target import ComputeTargetException\n",
    "import pandas as pd\n",
    "import os\n",
    "from azureml.widgets import RunDetails"
   ]
  },
  {
   "cell_type": "code",
   "execution_count": 2,
   "metadata": {
    "collapsed": false,
    "gather": {
     "logged": 1598423890461
    },
    "jupyter": {
     "outputs_hidden": false,
     "source_hidden": false
    },
    "nteract": {
     "transient": {
      "deleting": false
     }
    }
   },
   "outputs": [],
   "source": [
    "ws = Workspace.from_config()\n",
    "\n",
    "# choose a name for experiment\n",
    "experiment_name = 'automl'\n",
    "\n",
    "experiment=Experiment(ws, experiment_name)"
   ]
  },
  {
   "cell_type": "markdown",
   "metadata": {},
   "source": [
    "## Dataset\n",
    "\n",
    "### Overview\n",
    "\n",
    "The dataset used is the [UCI Glass Identification](https://archive.ics.uci.edu/ml/datasets/Glass+Identification) dataset. All data importing and treating is done by the [train.py](https://github.com/reis-r/nd00333-capstone/blob/master/train.py) script. This will be the script used by our Hyperdrive run. The objective will be to classify the glass type according to it's composition and other characteristics. This dataset was chosen because it will not take too much time for cleaning, and it's a very known dataset for experimenting with machine learning."
   ]
  },
  {
   "cell_type": "code",
   "execution_count": 3,
   "metadata": {},
   "outputs": [
    {
     "data": {
      "text/html": [
       "<div>\n",
       "<style scoped>\n",
       "    .dataframe tbody tr th:only-of-type {\n",
       "        vertical-align: middle;\n",
       "    }\n",
       "\n",
       "    .dataframe tbody tr th {\n",
       "        vertical-align: top;\n",
       "    }\n",
       "\n",
       "    .dataframe thead th {\n",
       "        text-align: right;\n",
       "    }\n",
       "</style>\n",
       "<table border=\"1\" class=\"dataframe\">\n",
       "  <thead>\n",
       "    <tr style=\"text-align: right;\">\n",
       "      <th></th>\n",
       "      <th>RI</th>\n",
       "      <th>Na</th>\n",
       "      <th>Mg</th>\n",
       "      <th>Al</th>\n",
       "      <th>Si</th>\n",
       "      <th>K</th>\n",
       "      <th>Ca</th>\n",
       "      <th>Ba</th>\n",
       "      <th>Fe</th>\n",
       "      <th>Type</th>\n",
       "    </tr>\n",
       "  </thead>\n",
       "  <tbody>\n",
       "    <tr>\n",
       "      <th>0</th>\n",
       "      <td>1.52101</td>\n",
       "      <td>13.64</td>\n",
       "      <td>4.49</td>\n",
       "      <td>1.10</td>\n",
       "      <td>71.78</td>\n",
       "      <td>0.06</td>\n",
       "      <td>8.75</td>\n",
       "      <td>0.0</td>\n",
       "      <td>0.0</td>\n",
       "      <td>1</td>\n",
       "    </tr>\n",
       "    <tr>\n",
       "      <th>1</th>\n",
       "      <td>1.51761</td>\n",
       "      <td>13.89</td>\n",
       "      <td>3.60</td>\n",
       "      <td>1.36</td>\n",
       "      <td>72.73</td>\n",
       "      <td>0.48</td>\n",
       "      <td>7.83</td>\n",
       "      <td>0.0</td>\n",
       "      <td>0.0</td>\n",
       "      <td>1</td>\n",
       "    </tr>\n",
       "    <tr>\n",
       "      <th>2</th>\n",
       "      <td>1.51618</td>\n",
       "      <td>13.53</td>\n",
       "      <td>3.55</td>\n",
       "      <td>1.54</td>\n",
       "      <td>72.99</td>\n",
       "      <td>0.39</td>\n",
       "      <td>7.78</td>\n",
       "      <td>0.0</td>\n",
       "      <td>0.0</td>\n",
       "      <td>1</td>\n",
       "    </tr>\n",
       "    <tr>\n",
       "      <th>3</th>\n",
       "      <td>1.51766</td>\n",
       "      <td>13.21</td>\n",
       "      <td>3.69</td>\n",
       "      <td>1.29</td>\n",
       "      <td>72.61</td>\n",
       "      <td>0.57</td>\n",
       "      <td>8.22</td>\n",
       "      <td>0.0</td>\n",
       "      <td>0.0</td>\n",
       "      <td>1</td>\n",
       "    </tr>\n",
       "    <tr>\n",
       "      <th>4</th>\n",
       "      <td>1.51742</td>\n",
       "      <td>13.27</td>\n",
       "      <td>3.62</td>\n",
       "      <td>1.24</td>\n",
       "      <td>73.08</td>\n",
       "      <td>0.55</td>\n",
       "      <td>8.07</td>\n",
       "      <td>0.0</td>\n",
       "      <td>0.0</td>\n",
       "      <td>1</td>\n",
       "    </tr>\n",
       "  </tbody>\n",
       "</table>\n",
       "</div>"
      ],
      "text/plain": [
       "        RI     Na    Mg    Al     Si     K    Ca   Ba   Fe Type\n",
       "0  1.52101  13.64  4.49  1.10  71.78  0.06  8.75  0.0  0.0    1\n",
       "1  1.51761  13.89  3.60  1.36  72.73  0.48  7.83  0.0  0.0    1\n",
       "2  1.51618  13.53  3.55  1.54  72.99  0.39  7.78  0.0  0.0    1\n",
       "3  1.51766  13.21  3.69  1.29  72.61  0.57  8.22  0.0  0.0    1\n",
       "4  1.51742  13.27  3.62  1.24  73.08  0.55  8.07  0.0  0.0    1"
      ]
     },
     "execution_count": 3,
     "metadata": {},
     "output_type": "execute_result"
    }
   ],
   "source": [
    "# Select the data URL\n",
    "data_url = 'https://archive.ics.uci.edu/ml/machine-learning-databases/glass/glass.data'\n",
    "ds = TabularDatasetFactory.from_delimited_files(path=data_url, header=False)\n",
    "x, y = clean_data(ds)\n",
    "\n",
    "# Use of X= and y= are deprecated on AutoMLConfig instantiation\n",
    "# See more at the official docs: https://docs.microsoft.com/en-us/python/api/azureml-train-automl-client/azureml.train.automl.automlconfig.automlconfig?view=azure-ml-py\n",
    "training_data = x.join(y)\n",
    "training_data.head()"
   ]
  },
  {
   "cell_type": "markdown",
   "metadata": {},
   "source": [
    "It's not allowed to create an automl remote job from a pandas dataframe."
   ]
  },
  {
   "cell_type": "code",
   "execution_count": 4,
   "metadata": {},
   "outputs": [
    {
     "name": "stdout",
     "output_type": "stream",
     "text": [
      "Uploading an estimated of 1 files\n",
      "Uploading automl-data/prepared-automl.csv\n",
      "Uploaded automl-data/prepared-automl.csv, 1 files out of an estimated total of 1\n",
      "Uploaded 1 files\n"
     ]
    }
   ],
   "source": [
    "# Create a dataset from the clean data\n",
    "if \"automl-data\" not in os.listdir():\n",
    "    os.mkdir(\"./automl-data\")\n",
    "    \n",
    "training_data.to_csv('automl-data/prepared-automl.csv')\n",
    "\n",
    "datastore = ws.get_default_datastore()\n",
    "datastore.upload(src_dir='automl-data', target_path='automl-data')\n",
    "training_data = Dataset.Tabular.from_delimited_files(path = [(datastore, ('automl-data/prepared-automl.csv'))])"
   ]
  },
  {
   "cell_type": "markdown",
   "metadata": {},
   "source": [
    "## AutoML Configuration\n",
    "\n",
    "The automl run is configured with accuracy as the primary metric, that way, it's possible to compare it to the Hyperdrive-optimized SVC model from the other notebook in the project.\n",
    "The concurrency settings were choosen acording to the compute cluster used. There should not be more concurrent iterations than the number of processing unities on the compute cluster. A experiment timeout of one hour was set, so that the experiment does not take too long. This also helps to avoide extra charges."
   ]
  },
  {
   "cell_type": "code",
   "execution_count": 5,
   "metadata": {},
   "outputs": [
    {
     "name": "stdout",
     "output_type": "stream",
     "text": [
      "Trying to connect to an existing cluster...\n",
      "Creating a compute cluster...\n",
      "Creating\n",
      "Succeeded\n",
      "AmlCompute wait for completion finished\n",
      "\n",
      "Minimum number of nodes requested have been provisioned\n",
      "Success!\n"
     ]
    }
   ],
   "source": [
    "# Create a computer cluster\n",
    "cluster_name = \"automl\"\n",
    "# Check if a compute cluster already exists\n",
    "try:\n",
    "    print(\"Trying to connect to an existing cluster...\")\n",
    "    compute_cluster = ComputeTarget(workspace=ws, name=cluster_name)\n",
    "except ComputeTargetException:\n",
    "    print(\"Creating a compute cluster...\")\n",
    "    compute_configuration = AmlCompute.provisioning_configuration(vm_size='STANDARD_D2_V2', max_nodes=4)\n",
    "    compute_cluster = ComputeTarget.create(ws, cluster_name, compute_configuration)\n",
    "    compute_cluster.wait_for_completion(show_output=True)\n",
    "print(\"Success!\")"
   ]
  },
  {
   "cell_type": "code",
   "execution_count": 6,
   "metadata": {
    "collapsed": false,
    "gather": {
     "logged": 1598429217746
    },
    "jupyter": {
     "outputs_hidden": false,
     "source_hidden": false
    },
    "nteract": {
     "transient": {
      "deleting": false
     }
    }
   },
   "outputs": [],
   "source": [
    " automl_settings = {\n",
    "       \"n_cross_validations\": 3,\n",
    "       \"primary_metric\": 'accuracy',\n",
    "       \"enable_early_stopping\": True,\n",
    "       \"experiment_timeout_hours\": 1.0,\n",
    "       \"max_concurrent_iterations\": 4,\n",
    "       \"max_cores_per_iteration\": 1,\n",
    "   }\n",
    "\n",
    "# automl config here\n",
    "automl_config = AutoMLConfig(task=\"classification\",\n",
    "                             compute_target = compute_cluster,\n",
    "                             training_data=training_data,\n",
    "                             label_column_name=\"Type\",\n",
    "                             **automl_settings)"
   ]
  },
  {
   "cell_type": "code",
   "execution_count": 7,
   "metadata": {
    "collapsed": false,
    "gather": {
     "logged": 1598431107951
    },
    "jupyter": {
     "outputs_hidden": false,
     "source_hidden": false
    },
    "nteract": {
     "transient": {
      "deleting": false
     }
    }
   },
   "outputs": [
    {
     "name": "stdout",
     "output_type": "stream",
     "text": [
      "Running on remote.\n"
     ]
    }
   ],
   "source": [
    "# TODO: Submit your experiment\n",
    "remote_run = experiment.submit(automl_config)"
   ]
  },
  {
   "cell_type": "markdown",
   "metadata": {},
   "source": [
    "## Run Details"
   ]
  },
  {
   "cell_type": "code",
   "execution_count": 8,
   "metadata": {
    "collapsed": false,
    "gather": {
     "logged": 1598431121770
    },
    "jupyter": {
     "outputs_hidden": false,
     "source_hidden": false
    },
    "nteract": {
     "transient": {
      "deleting": false
     }
    }
   },
   "outputs": [
    {
     "data": {
      "application/vnd.jupyter.widget-view+json": {
       "model_id": "6b29d2c3bc0a4b5e9a48cb5738daf04f",
       "version_major": 2,
       "version_minor": 0
      },
      "text/plain": [
       "_AutoMLWidget(widget_settings={'childWidgetDisplay': 'popup', 'send_telemetry': False, 'log_level': 'INFO', 's…"
      ]
     },
     "metadata": {},
     "output_type": "display_data"
    },
    {
     "data": {
      "application/aml.mini.widget.v1": "{\"status\": \"Completed\", \"workbench_run_details_uri\": \"https://ml.azure.com/experiments/automl/runs/AutoML_89b818da-96ca-4f06-81a5-999e5a71dd1a?wsid=/subscriptions/d4ad7261-832d-46b2-b093-22156001df5b/resourcegroups/aml-quickstarts-136601/workspaces/quick-starts-ws-136601\", \"run_id\": \"AutoML_89b818da-96ca-4f06-81a5-999e5a71dd1a\", \"run_properties\": {\"run_id\": \"AutoML_89b818da-96ca-4f06-81a5-999e5a71dd1a\", \"created_utc\": \"2021-01-30T14:00:01.823713Z\", \"properties\": {\"num_iterations\": \"1000\", \"training_type\": \"TrainFull\", \"acquisition_function\": \"EI\", \"primary_metric\": \"accuracy\", \"train_split\": \"0\", \"acquisition_parameter\": \"0\", \"num_cross_validation\": \"3\", \"target\": \"automl\", \"AMLSettingsJsonString\": \"{\\\"path\\\":null,\\\"name\\\":\\\"automl\\\",\\\"subscription_id\\\":\\\"d4ad7261-832d-46b2-b093-22156001df5b\\\",\\\"resource_group\\\":\\\"aml-quickstarts-136601\\\",\\\"workspace_name\\\":\\\"quick-starts-ws-136601\\\",\\\"region\\\":\\\"southcentralus\\\",\\\"compute_target\\\":\\\"automl\\\",\\\"spark_service\\\":null,\\\"azure_service\\\":\\\"remote\\\",\\\"many_models\\\":false,\\\"pipeline_fetch_max_batch_size\\\":1,\\\"iterations\\\":1000,\\\"primary_metric\\\":\\\"accuracy\\\",\\\"task_type\\\":\\\"classification\\\",\\\"data_script\\\":null,\\\"validation_size\\\":0.0,\\\"n_cross_validations\\\":3,\\\"y_min\\\":null,\\\"y_max\\\":null,\\\"num_classes\\\":null,\\\"featurization\\\":\\\"auto\\\",\\\"_ignore_package_version_incompatibilities\\\":false,\\\"is_timeseries\\\":false,\\\"max_cores_per_iteration\\\":1,\\\"max_concurrent_iterations\\\":4,\\\"iteration_timeout_minutes\\\":null,\\\"mem_in_mb\\\":null,\\\"enforce_time_on_windows\\\":false,\\\"experiment_timeout_minutes\\\":60,\\\"experiment_exit_score\\\":null,\\\"whitelist_models\\\":null,\\\"blacklist_algos\\\":[\\\"TensorFlowLinearClassifier\\\",\\\"TensorFlowDNN\\\"],\\\"supported_models\\\":[\\\"XGBoostClassifier\\\",\\\"MultinomialNaiveBayes\\\",\\\"SGD\\\",\\\"LinearSVM\\\",\\\"RandomForest\\\",\\\"DecisionTree\\\",\\\"AveragedPerceptronClassifier\\\",\\\"GradientBoosting\\\",\\\"SVM\\\",\\\"ExtremeRandomTrees\\\",\\\"TensorFlowLinearClassifier\\\",\\\"TensorFlowDNN\\\",\\\"BernoulliNaiveBayes\\\",\\\"LogisticRegression\\\",\\\"KNN\\\",\\\"LightGBM\\\"],\\\"auto_blacklist\\\":true,\\\"blacklist_samples_reached\\\":false,\\\"exclude_nan_labels\\\":true,\\\"verbosity\\\":20,\\\"_debug_log\\\":\\\"azureml_automl.log\\\",\\\"show_warnings\\\":false,\\\"model_explainability\\\":true,\\\"service_url\\\":null,\\\"sdk_url\\\":null,\\\"sdk_packages\\\":null,\\\"enable_onnx_compatible_models\\\":false,\\\"enable_split_onnx_featurizer_estimator_models\\\":false,\\\"vm_type\\\":\\\"STANDARD_D2_V2\\\",\\\"telemetry_verbosity\\\":20,\\\"send_telemetry\\\":true,\\\"enable_dnn\\\":false,\\\"scenario\\\":\\\"SDK-1.13.0\\\",\\\"environment_label\\\":null,\\\"force_text_dnn\\\":false,\\\"enable_feature_sweeping\\\":true,\\\"enable_early_stopping\\\":true,\\\"early_stopping_n_iters\\\":10,\\\"metrics\\\":null,\\\"enable_ensembling\\\":true,\\\"enable_stack_ensembling\\\":true,\\\"ensemble_iterations\\\":15,\\\"enable_tf\\\":false,\\\"enable_subsampling\\\":null,\\\"subsample_seed\\\":null,\\\"enable_nimbusml\\\":false,\\\"enable_streaming\\\":false,\\\"force_streaming\\\":false,\\\"track_child_runs\\\":true,\\\"allowed_private_models\\\":[],\\\"label_column_name\\\":\\\"Type\\\",\\\"weight_column_name\\\":null,\\\"cv_split_column_names\\\":null,\\\"enable_local_managed\\\":false,\\\"_local_managed_run_id\\\":null,\\\"cost_mode\\\":1,\\\"lag_length\\\":0,\\\"metric_operation\\\":\\\"maximize\\\",\\\"preprocess\\\":true}\", \"DataPrepJsonString\": \"{\\\\\\\"training_data\\\\\\\": \\\\\\\"{\\\\\\\\\\\\\\\"blocks\\\\\\\\\\\\\\\": [{\\\\\\\\\\\\\\\"id\\\\\\\\\\\\\\\": \\\\\\\\\\\\\\\"2afdb3b6-de5c-4de4-af66-72d6c363491f\\\\\\\\\\\\\\\", \\\\\\\\\\\\\\\"type\\\\\\\\\\\\\\\": \\\\\\\\\\\\\\\"Microsoft.DPrep.GetDatastoreFilesBlock\\\\\\\\\\\\\\\", \\\\\\\\\\\\\\\"arguments\\\\\\\\\\\\\\\": {\\\\\\\\\\\\\\\"datastores\\\\\\\\\\\\\\\": [{\\\\\\\\\\\\\\\"datastoreName\\\\\\\\\\\\\\\": \\\\\\\\\\\\\\\"workspaceblobstore\\\\\\\\\\\\\\\", \\\\\\\\\\\\\\\"path\\\\\\\\\\\\\\\": \\\\\\\\\\\\\\\"automl-data/prepared-automl.csv\\\\\\\\\\\\\\\", \\\\\\\\\\\\\\\"resourceGroup\\\\\\\\\\\\\\\": \\\\\\\\\\\\\\\"aml-quickstarts-136601\\\\\\\\\\\\\\\", \\\\\\\\\\\\\\\"subscription\\\\\\\\\\\\\\\": \\\\\\\\\\\\\\\"d4ad7261-832d-46b2-b093-22156001df5b\\\\\\\\\\\\\\\", \\\\\\\\\\\\\\\"workspaceName\\\\\\\\\\\\\\\": \\\\\\\\\\\\\\\"quick-starts-ws-136601\\\\\\\\\\\\\\\"}]}, \\\\\\\\\\\\\\\"localData\\\\\\\\\\\\\\\": {}, \\\\\\\\\\\\\\\"isEnabled\\\\\\\\\\\\\\\": true, \\\\\\\\\\\\\\\"name\\\\\\\\\\\\\\\": null, \\\\\\\\\\\\\\\"annotation\\\\\\\\\\\\\\\": null}, {\\\\\\\\\\\\\\\"id\\\\\\\\\\\\\\\": \\\\\\\\\\\\\\\"0682fb2d-f748-4d3c-819d-36d39886b001\\\\\\\\\\\\\\\", \\\\\\\\\\\\\\\"type\\\\\\\\\\\\\\\": \\\\\\\\\\\\\\\"Microsoft.DPrep.ParseDelimitedBlock\\\\\\\\\\\\\\\", \\\\\\\\\\\\\\\"arguments\\\\\\\\\\\\\\\": {\\\\\\\\\\\\\\\"columnHeadersMode\\\\\\\\\\\\\\\": 3, \\\\\\\\\\\\\\\"fileEncoding\\\\\\\\\\\\\\\": 0, \\\\\\\\\\\\\\\"handleQuotedLineBreaks\\\\\\\\\\\\\\\": false, \\\\\\\\\\\\\\\"preview\\\\\\\\\\\\\\\": false, \\\\\\\\\\\\\\\"separator\\\\\\\\\\\\\\\": \\\\\\\\\\\\\\\",\\\\\\\\\\\\\\\", \\\\\\\\\\\\\\\"skipRows\\\\\\\\\\\\\\\": 0, \\\\\\\\\\\\\\\"skipRowsMode\\\\\\\\\\\\\\\": 0}, \\\\\\\\\\\\\\\"localData\\\\\\\\\\\\\\\": {}, \\\\\\\\\\\\\\\"isEnabled\\\\\\\\\\\\\\\": true, \\\\\\\\\\\\\\\"name\\\\\\\\\\\\\\\": null, \\\\\\\\\\\\\\\"annotation\\\\\\\\\\\\\\\": null}, {\\\\\\\\\\\\\\\"id\\\\\\\\\\\\\\\": \\\\\\\\\\\\\\\"535aa58e-7e29-42ad-adf0-eb1e1d0a79cd\\\\\\\\\\\\\\\", \\\\\\\\\\\\\\\"type\\\\\\\\\\\\\\\": \\\\\\\\\\\\\\\"Microsoft.DPrep.DropColumnsBlock\\\\\\\\\\\\\\\", \\\\\\\\\\\\\\\"arguments\\\\\\\\\\\\\\\": {\\\\\\\\\\\\\\\"columns\\\\\\\\\\\\\\\": {\\\\\\\\\\\\\\\"type\\\\\\\\\\\\\\\": 0, \\\\\\\\\\\\\\\"details\\\\\\\\\\\\\\\": {\\\\\\\\\\\\\\\"selectedColumns\\\\\\\\\\\\\\\": [\\\\\\\\\\\\\\\"Path\\\\\\\\\\\\\\\"]}}}, \\\\\\\\\\\\\\\"localData\\\\\\\\\\\\\\\": {}, \\\\\\\\\\\\\\\"isEnabled\\\\\\\\\\\\\\\": true, \\\\\\\\\\\\\\\"name\\\\\\\\\\\\\\\": null, \\\\\\\\\\\\\\\"annotation\\\\\\\\\\\\\\\": null}, {\\\\\\\\\\\\\\\"id\\\\\\\\\\\\\\\": \\\\\\\\\\\\\\\"43dba9b8-8880-4614-a564-741096957d87\\\\\\\\\\\\\\\", \\\\\\\\\\\\\\\"type\\\\\\\\\\\\\\\": \\\\\\\\\\\\\\\"Microsoft.DPrep.SetColumnTypesBlock\\\\\\\\\\\\\\\", \\\\\\\\\\\\\\\"arguments\\\\\\\\\\\\\\\": {\\\\\\\\\\\\\\\"columnConversion\\\\\\\\\\\\\\\": [{\\\\\\\\\\\\\\\"column\\\\\\\\\\\\\\\": {\\\\\\\\\\\\\\\"type\\\\\\\\\\\\\\\": 2, \\\\\\\\\\\\\\\"details\\\\\\\\\\\\\\\": {\\\\\\\\\\\\\\\"selectedColumn\\\\\\\\\\\\\\\": \\\\\\\\\\\\\\\"Column1\\\\\\\\\\\\\\\"}}, \\\\\\\\\\\\\\\"typeProperty\\\\\\\\\\\\\\\": 2}, {\\\\\\\\\\\\\\\"column\\\\\\\\\\\\\\\": {\\\\\\\\\\\\\\\"type\\\\\\\\\\\\\\\": 2, \\\\\\\\\\\\\\\"details\\\\\\\\\\\\\\\": {\\\\\\\\\\\\\\\"selectedColumn\\\\\\\\\\\\\\\": \\\\\\\\\\\\\\\"RI\\\\\\\\\\\\\\\"}}, \\\\\\\\\\\\\\\"typeProperty\\\\\\\\\\\\\\\": 3}, {\\\\\\\\\\\\\\\"column\\\\\\\\\\\\\\\": {\\\\\\\\\\\\\\\"type\\\\\\\\\\\\\\\": 2, \\\\\\\\\\\\\\\"details\\\\\\\\\\\\\\\": {\\\\\\\\\\\\\\\"selectedColumn\\\\\\\\\\\\\\\": \\\\\\\\\\\\\\\"Na\\\\\\\\\\\\\\\"}}, \\\\\\\\\\\\\\\"typeProperty\\\\\\\\\\\\\\\": 3}, {\\\\\\\\\\\\\\\"column\\\\\\\\\\\\\\\": {\\\\\\\\\\\\\\\"type\\\\\\\\\\\\\\\": 2, \\\\\\\\\\\\\\\"details\\\\\\\\\\\\\\\": {\\\\\\\\\\\\\\\"selectedColumn\\\\\\\\\\\\\\\": \\\\\\\\\\\\\\\"Mg\\\\\\\\\\\\\\\"}}, \\\\\\\\\\\\\\\"typeProperty\\\\\\\\\\\\\\\": 3}, {\\\\\\\\\\\\\\\"column\\\\\\\\\\\\\\\": {\\\\\\\\\\\\\\\"type\\\\\\\\\\\\\\\": 2, \\\\\\\\\\\\\\\"details\\\\\\\\\\\\\\\": {\\\\\\\\\\\\\\\"selectedColumn\\\\\\\\\\\\\\\": \\\\\\\\\\\\\\\"Al\\\\\\\\\\\\\\\"}}, \\\\\\\\\\\\\\\"typeProperty\\\\\\\\\\\\\\\": 3}, {\\\\\\\\\\\\\\\"column\\\\\\\\\\\\\\\": {\\\\\\\\\\\\\\\"type\\\\\\\\\\\\\\\": 2, \\\\\\\\\\\\\\\"details\\\\\\\\\\\\\\\": {\\\\\\\\\\\\\\\"selectedColumn\\\\\\\\\\\\\\\": \\\\\\\\\\\\\\\"Si\\\\\\\\\\\\\\\"}}, \\\\\\\\\\\\\\\"typeProperty\\\\\\\\\\\\\\\": 3}, {\\\\\\\\\\\\\\\"column\\\\\\\\\\\\\\\": {\\\\\\\\\\\\\\\"type\\\\\\\\\\\\\\\": 2, \\\\\\\\\\\\\\\"details\\\\\\\\\\\\\\\": {\\\\\\\\\\\\\\\"selectedColumn\\\\\\\\\\\\\\\": \\\\\\\\\\\\\\\"K\\\\\\\\\\\\\\\"}}, \\\\\\\\\\\\\\\"typeProperty\\\\\\\\\\\\\\\": 3}, {\\\\\\\\\\\\\\\"column\\\\\\\\\\\\\\\": {\\\\\\\\\\\\\\\"type\\\\\\\\\\\\\\\": 2, \\\\\\\\\\\\\\\"details\\\\\\\\\\\\\\\": {\\\\\\\\\\\\\\\"selectedColumn\\\\\\\\\\\\\\\": \\\\\\\\\\\\\\\"Ca\\\\\\\\\\\\\\\"}}, \\\\\\\\\\\\\\\"typeProperty\\\\\\\\\\\\\\\": 3}, {\\\\\\\\\\\\\\\"column\\\\\\\\\\\\\\\": {\\\\\\\\\\\\\\\"type\\\\\\\\\\\\\\\": 2, \\\\\\\\\\\\\\\"details\\\\\\\\\\\\\\\": {\\\\\\\\\\\\\\\"selectedColumn\\\\\\\\\\\\\\\": \\\\\\\\\\\\\\\"Ba\\\\\\\\\\\\\\\"}}, \\\\\\\\\\\\\\\"typeProperty\\\\\\\\\\\\\\\": 3}, {\\\\\\\\\\\\\\\"column\\\\\\\\\\\\\\\": {\\\\\\\\\\\\\\\"type\\\\\\\\\\\\\\\": 2, \\\\\\\\\\\\\\\"details\\\\\\\\\\\\\\\": {\\\\\\\\\\\\\\\"selectedColumn\\\\\\\\\\\\\\\": \\\\\\\\\\\\\\\"Fe\\\\\\\\\\\\\\\"}}, \\\\\\\\\\\\\\\"typeProperty\\\\\\\\\\\\\\\": 3}, {\\\\\\\\\\\\\\\"column\\\\\\\\\\\\\\\": {\\\\\\\\\\\\\\\"type\\\\\\\\\\\\\\\": 2, \\\\\\\\\\\\\\\"details\\\\\\\\\\\\\\\": {\\\\\\\\\\\\\\\"selectedColumn\\\\\\\\\\\\\\\": \\\\\\\\\\\\\\\"Type\\\\\\\\\\\\\\\"}}, \\\\\\\\\\\\\\\"typeProperty\\\\\\\\\\\\\\\": 2}]}, \\\\\\\\\\\\\\\"localData\\\\\\\\\\\\\\\": {}, \\\\\\\\\\\\\\\"isEnabled\\\\\\\\\\\\\\\": true, \\\\\\\\\\\\\\\"name\\\\\\\\\\\\\\\": null, \\\\\\\\\\\\\\\"annotation\\\\\\\\\\\\\\\": null}], \\\\\\\\\\\\\\\"inspectors\\\\\\\\\\\\\\\": [], \\\\\\\\\\\\\\\"meta\\\\\\\\\\\\\\\": {\\\\\\\\\\\\\\\"savedDatasetId\\\\\\\\\\\\\\\": \\\\\\\\\\\\\\\"0ab4d624-8708-4095-9ee8-becd87f8f7ee\\\\\\\\\\\\\\\", \\\\\\\\\\\\\\\"datasetType\\\\\\\\\\\\\\\": \\\\\\\\\\\\\\\"tabular\\\\\\\\\\\\\\\", \\\\\\\\\\\\\\\"subscriptionId\\\\\\\\\\\\\\\": \\\\\\\\\\\\\\\"d4ad7261-832d-46b2-b093-22156001df5b\\\\\\\\\\\\\\\", \\\\\\\\\\\\\\\"workspaceId\\\\\\\\\\\\\\\": \\\\\\\\\\\\\\\"e4f6abfb-b939-404e-932a-78b1cf892d47\\\\\\\\\\\\\\\", \\\\\\\\\\\\\\\"workspaceLocation\\\\\\\\\\\\\\\": \\\\\\\\\\\\\\\"southcentralus\\\\\\\\\\\\\\\"}}\\\\\\\", \\\\\\\"activities\\\\\\\": 0}\", \"EnableSubsampling\": null, \"runTemplate\": \"AutoML\", \"azureml.runsource\": \"automl\", \"display_task_type\": \"classification\", \"dependencies_versions\": \"{\\\"azureml-widgets\\\": \\\"1.20.0\\\", \\\"azureml-train\\\": \\\"1.20.0\\\", \\\"azureml-train-restclients-hyperdrive\\\": \\\"1.20.0\\\", \\\"azureml-train-core\\\": \\\"1.20.0\\\", \\\"azureml-train-automl\\\": \\\"1.20.0\\\", \\\"azureml-train-automl-runtime\\\": \\\"1.20.0\\\", \\\"azureml-train-automl-client\\\": \\\"1.20.0\\\", \\\"azureml-tensorboard\\\": \\\"1.20.0\\\", \\\"azureml-telemetry\\\": \\\"1.20.0\\\", \\\"azureml-sdk\\\": \\\"1.20.0\\\", \\\"azureml-samples\\\": \\\"0+unknown\\\", \\\"azureml-pipeline\\\": \\\"1.20.0\\\", \\\"azureml-pipeline-steps\\\": \\\"1.20.0\\\", \\\"azureml-pipeline-core\\\": \\\"1.20.0\\\", \\\"azureml-opendatasets\\\": \\\"1.20.0\\\", \\\"azureml-model-management-sdk\\\": \\\"1.0.1b6.post1\\\", \\\"azureml-mlflow\\\": \\\"1.20.0.post1\\\", \\\"azureml-interpret\\\": \\\"1.20.0\\\", \\\"azureml-explain-model\\\": \\\"1.20.0\\\", \\\"azureml-defaults\\\": \\\"1.20.0\\\", \\\"azureml-dataset-runtime\\\": \\\"1.20.0\\\", \\\"azureml-dataprep\\\": \\\"2.7.3\\\", \\\"azureml-dataprep-rslex\\\": \\\"1.5.0\\\", \\\"azureml-dataprep-native\\\": \\\"27.0.0\\\", \\\"azureml-datadrift\\\": \\\"1.20.0\\\", \\\"azureml-core\\\": \\\"1.20.0\\\", \\\"azureml-contrib-services\\\": \\\"1.20.0\\\", \\\"azureml-contrib-server\\\": \\\"1.20.0\\\", \\\"azureml-contrib-reinforcementlearning\\\": \\\"1.20.0\\\", \\\"azureml-contrib-pipeline-steps\\\": \\\"1.20.0\\\", \\\"azureml-contrib-notebook\\\": \\\"1.20.0\\\", \\\"azureml-contrib-interpret\\\": \\\"1.20.0\\\", \\\"azureml-contrib-gbdt\\\": \\\"1.20.0\\\", \\\"azureml-contrib-fairness\\\": \\\"1.20.0\\\", \\\"azureml-contrib-dataset\\\": \\\"1.20.0\\\", \\\"azureml-cli-common\\\": \\\"1.20.0\\\", \\\"azureml-automl-runtime\\\": \\\"1.20.0\\\", \\\"azureml-automl-core\\\": \\\"1.20.0\\\", \\\"azureml-accel-models\\\": \\\"1.20.0\\\"}\", \"_aml_system_scenario_identification\": \"Remote.Parent\", \"ClientType\": \"SDK\", \"environment_cpu_name\": \"AzureML-AutoML\", \"environment_cpu_label\": \"prod\", \"environment_gpu_name\": \"AzureML-AutoML-GPU\", \"environment_gpu_label\": \"prod\", \"root_attribution\": \"automl\", \"attribution\": \"AutoML\", \"Orchestrator\": \"AutoML\", \"CancelUri\": \"https://southcentralus.experiments.azureml.net/jasmine/v1.0/subscriptions/d4ad7261-832d-46b2-b093-22156001df5b/resourceGroups/aml-quickstarts-136601/providers/Microsoft.MachineLearningServices/workspaces/quick-starts-ws-136601/experimentids/a73f5c88-758d-43c2-b950-ded1ce41beb1/cancel/AutoML_89b818da-96ca-4f06-81a5-999e5a71dd1a\", \"ClientSdkVersion\": \"1.20.0.post1\", \"snapshotId\": \"00000000-0000-0000-0000-000000000000\", \"SetupRunId\": \"AutoML_89b818da-96ca-4f06-81a5-999e5a71dd1a_setup\", \"SetupRunContainerId\": \"dcid.AutoML_89b818da-96ca-4f06-81a5-999e5a71dd1a_setup\", \"FeaturizationRunJsonPath\": \"featurizer_container.json\", \"FeaturizationRunId\": \"AutoML_89b818da-96ca-4f06-81a5-999e5a71dd1a_featurize\", \"ProblemInfoJsonString\": \"{\\\"dataset_num_categorical\\\": 0, \\\"is_sparse\\\": false, \\\"subsampling\\\": false, \\\"dataset_classes\\\": 6, \\\"dataset_features\\\": 10, \\\"dataset_samples\\\": 214, \\\"single_frequency_class_detected\\\": false}\", \"ModelExplainRunId\": \"AutoML_89b818da-96ca-4f06-81a5-999e5a71dd1a_ModelExplain\"}, \"tags\": {\"model_explain_run\": \"best_run\", \"_aml_system_azureml.automlComponent\": \"AutoML\", \"pipeline_id\": \"\", \"score\": \"\", \"predicted_cost\": \"\", \"fit_time\": \"\", \"training_percent\": \"\", \"iteration\": \"\", \"run_preprocessor\": \"\", \"run_algorithm\": \"\", \"dynamic_whitelisting_iterations\": \"<25>;<30>;<34>;\", \"automl_best_child_run_id\": \"AutoML_89b818da-96ca-4f06-81a5-999e5a71dd1a_36\"}, \"end_time_utc\": \"2021-01-30T14:24:09.132212Z\", \"status\": \"Completed\", \"log_files\": {}, \"log_groups\": [], \"run_duration\": \"0:24:07\"}, \"child_runs\": [{\"run_id\": \"AutoML_89b818da-96ca-4f06-81a5-999e5a71dd1a_0\", \"run_number\": 5, \"metric\": null, \"status\": \"Completed\", \"run_type\": \"azureml.scriptrun\", \"training_percent\": \"100\", \"start_time\": \"2021-01-30T14:09:39.033711Z\", \"end_time\": \"2021-01-30T14:10:26.540917Z\", \"created_time\": \"2021-01-30T14:09:27.428415Z\", \"created_time_dt\": \"2021-01-30T14:09:27.428415Z\", \"duration\": \"0:00:59\", \"iteration\": \"0\", \"goal\": \"accuracy_max\", \"run_name\": \"MaxAbsScaler, LightGBM\", \"run_properties\": \"copy=True\", \"primary_metric\": 0.9859807, \"best_metric\": 0.9859807}, {\"run_id\": \"AutoML_89b818da-96ca-4f06-81a5-999e5a71dd1a_1\", \"run_number\": 6, \"metric\": null, \"status\": \"Completed\", \"run_type\": \"azureml.scriptrun\", \"training_percent\": \"100\", \"start_time\": \"2021-01-30T14:10:32.145089Z\", \"end_time\": \"2021-01-30T14:11:30.710685Z\", \"created_time\": \"2021-01-30T14:09:27.579447Z\", \"created_time_dt\": \"2021-01-30T14:09:27.579447Z\", \"duration\": \"0:02:03\", \"iteration\": \"1\", \"goal\": \"accuracy_max\", \"run_name\": \"MaxAbsScaler, XGBoostClassifier\", \"run_properties\": \"copy=True\", \"primary_metric\": 0.97672144, \"best_metric\": 0.9859807}, {\"run_id\": \"AutoML_89b818da-96ca-4f06-81a5-999e5a71dd1a_2\", \"run_number\": 7, \"metric\": null, \"status\": \"Completed\", \"run_type\": \"azureml.scriptrun\", \"training_percent\": \"100\", \"start_time\": \"2021-01-30T14:11:20.53633Z\", \"end_time\": \"2021-01-30T14:14:50.599857Z\", \"created_time\": \"2021-01-30T14:09:27.62048Z\", \"created_time_dt\": \"2021-01-30T14:09:27.62048Z\", \"duration\": \"0:05:22\", \"iteration\": \"2\", \"goal\": \"accuracy_max\", \"run_name\": \"MinMaxScaler, RandomForest\", \"run_properties\": \"copy=True, feature_range=(0, 1\", \"primary_metric\": 0.9299687, \"best_metric\": 0.9859807}, {\"run_id\": \"AutoML_89b818da-96ca-4f06-81a5-999e5a71dd1a_3\", \"run_number\": 8, \"metric\": null, \"status\": \"Completed\", \"run_type\": \"azureml.scriptrun\", \"training_percent\": \"100\", \"start_time\": \"2021-01-30T14:11:20.729476Z\", \"end_time\": \"2021-01-30T14:14:55.686047Z\", \"created_time\": \"2021-01-30T14:09:27.71505Z\", \"created_time_dt\": \"2021-01-30T14:09:27.71505Z\", \"duration\": \"0:05:27\", \"iteration\": \"3\", \"goal\": \"accuracy_max\", \"run_name\": \"MinMaxScaler, RandomForest\", \"run_properties\": \"copy=True, feature_range=(0, 1\", \"primary_metric\": 0.91125456, \"best_metric\": 0.9859807}, {\"run_id\": \"AutoML_89b818da-96ca-4f06-81a5-999e5a71dd1a_4\", \"run_number\": 9, \"metric\": null, \"status\": \"Completed\", \"run_type\": \"azureml.scriptrun\", \"training_percent\": \"100\", \"start_time\": \"2021-01-30T14:11:24.088047Z\", \"end_time\": \"2021-01-30T14:14:48.613379Z\", \"created_time\": \"2021-01-30T14:10:28.75253Z\", \"created_time_dt\": \"2021-01-30T14:10:28.75253Z\", \"duration\": \"0:04:19\", \"iteration\": \"4\", \"goal\": \"accuracy_max\", \"run_name\": \"MinMaxScaler, RandomForest\", \"run_properties\": \"copy=True, feature_range=(0, 1\", \"primary_metric\": 0.97652582, \"best_metric\": 0.9859807}, {\"run_id\": \"AutoML_89b818da-96ca-4f06-81a5-999e5a71dd1a_5\", \"run_number\": 10, \"metric\": null, \"status\": \"Completed\", \"run_type\": \"azureml.scriptrun\", \"training_percent\": \"100\", \"start_time\": \"2021-01-30T14:11:46.872732Z\", \"end_time\": \"2021-01-30T14:12:45.077531Z\", \"created_time\": \"2021-01-30T14:11:32.597278Z\", \"created_time_dt\": \"2021-01-30T14:11:32.597278Z\", \"duration\": \"0:01:12\", \"iteration\": \"5\", \"goal\": \"accuracy_max\", \"run_name\": \"SparseNormalizer, LightGBM\", \"run_properties\": \"<azureml.automl.runtime.shared.model_wrappers.SparseNormalizer object at 0x7f36439ba160\", \"primary_metric\": 0.90173448, \"best_metric\": 0.9859807}, {\"run_id\": \"AutoML_89b818da-96ca-4f06-81a5-999e5a71dd1a_6\", \"run_number\": 11, \"metric\": null, \"status\": \"Completed\", \"run_type\": \"azureml.scriptrun\", \"training_percent\": \"100\", \"start_time\": \"2021-01-30T14:13:01.53814Z\", \"end_time\": \"2021-01-30T14:13:57.798954Z\", \"created_time\": \"2021-01-30T14:12:49.342157Z\", \"created_time_dt\": \"2021-01-30T14:12:49.342157Z\", \"duration\": \"0:01:08\", \"iteration\": \"6\", \"goal\": \"accuracy_max\", \"run_name\": \"StandardScalerWrapper, LightGBM\", \"run_properties\": \"<azureml.automl.runtime.shared.model_wrappers.StandardScalerWrapper object at 0x7f24d8d74b00\", \"primary_metric\": 0.8879108, \"best_metric\": 0.9859807}, {\"run_id\": \"AutoML_89b818da-96ca-4f06-81a5-999e5a71dd1a_7\", \"run_number\": 12, \"metric\": null, \"status\": \"Completed\", \"run_type\": \"azureml.scriptrun\", \"training_percent\": \"100\", \"start_time\": \"2021-01-30T14:14:12.223764Z\", \"end_time\": \"2021-01-30T14:15:02.768996Z\", \"created_time\": \"2021-01-30T14:14:01.27917Z\", \"created_time_dt\": \"2021-01-30T14:14:01.27917Z\", \"duration\": \"0:01:01\", \"iteration\": \"7\", \"goal\": \"accuracy_max\", \"run_name\": \"StandardScalerWrapper, LogisticRegression\", \"run_properties\": \"<azureml.automl.runtime.shared.model_wrappers.StandardScalerWrapper object at 0x7f89adf6ce80\", \"primary_metric\": 0.83183359, \"best_metric\": 0.9859807}, {\"run_id\": \"AutoML_89b818da-96ca-4f06-81a5-999e5a71dd1a_8\", \"run_number\": 13, \"metric\": null, \"status\": \"Completed\", \"run_type\": \"azureml.scriptrun\", \"training_percent\": \"100\", \"start_time\": \"2021-01-30T14:15:02.044075Z\", \"end_time\": \"2021-01-30T14:15:58.514642Z\", \"created_time\": \"2021-01-30T14:14:51.994095Z\", \"created_time_dt\": \"2021-01-30T14:14:51.994095Z\", \"duration\": \"0:01:06\", \"iteration\": \"8\", \"goal\": \"accuracy_max\", \"run_name\": \"SparseNormalizer, XGBoostClassifier\", \"run_properties\": \"<azureml.automl.runtime.shared.model_wrappers.SparseNormalizer object at 0x7f5d40591dd8\", \"primary_metric\": 0.97665623, \"best_metric\": 0.9859807}, {\"run_id\": \"AutoML_89b818da-96ca-4f06-81a5-999e5a71dd1a_9\", \"run_number\": 14, \"metric\": null, \"status\": \"Completed\", \"run_type\": \"azureml.scriptrun\", \"training_percent\": \"100\", \"start_time\": \"2021-01-30T14:15:06.016489Z\", \"end_time\": \"2021-01-30T14:15:56.884815Z\", \"created_time\": \"2021-01-30T14:14:55.893631Z\", \"created_time_dt\": \"2021-01-30T14:14:55.893631Z\", \"duration\": \"0:01:00\", \"iteration\": \"9\", \"goal\": \"accuracy_max\", \"run_name\": \"MinMaxScaler, SVM\", \"run_properties\": \"copy=True, feature_range=(0, 1\", \"primary_metric\": 0.93453312, \"best_metric\": 0.9859807}, {\"run_id\": \"AutoML_89b818da-96ca-4f06-81a5-999e5a71dd1a_10\", \"run_number\": 15, \"metric\": null, \"status\": \"Completed\", \"run_type\": \"azureml.scriptrun\", \"training_percent\": \"100\", \"start_time\": \"2021-01-30T14:15:12.8331Z\", \"end_time\": \"2021-01-30T14:16:04.128404Z\", \"created_time\": \"2021-01-30T14:15:00.874971Z\", \"created_time_dt\": \"2021-01-30T14:15:00.874971Z\", \"duration\": \"0:01:03\", \"iteration\": \"10\", \"goal\": \"accuracy_max\", \"run_name\": \"MinMaxScaler, LogisticRegression\", \"run_properties\": \"copy=True, feature_range=(0, 1\", \"primary_metric\": 0.87363067, \"best_metric\": 0.9859807}, {\"run_id\": \"AutoML_89b818da-96ca-4f06-81a5-999e5a71dd1a_11\", \"run_number\": 16, \"metric\": null, \"status\": \"Completed\", \"run_type\": \"azureml.scriptrun\", \"training_percent\": \"100\", \"start_time\": \"2021-01-30T14:15:21.005814Z\", \"end_time\": \"2021-01-30T14:16:13.164059Z\", \"created_time\": \"2021-01-30T14:15:07.554024Z\", \"created_time_dt\": \"2021-01-30T14:15:07.554024Z\", \"duration\": \"0:01:05\", \"iteration\": \"11\", \"goal\": \"accuracy_max\", \"run_name\": \"SparseNormalizer, XGBoostClassifier\", \"run_properties\": \"<azureml.automl.runtime.shared.model_wrappers.SparseNormalizer object at 0x7fd0866062b0\", \"primary_metric\": 0.97665623, \"best_metric\": 0.9859807}, {\"run_id\": \"AutoML_89b818da-96ca-4f06-81a5-999e5a71dd1a_12\", \"run_number\": 17, \"metric\": null, \"status\": \"Completed\", \"run_type\": \"azureml.scriptrun\", \"training_percent\": \"100\", \"start_time\": \"2021-01-30T14:16:14.718801Z\", \"end_time\": \"2021-01-30T14:17:03.634499Z\", \"created_time\": \"2021-01-30T14:16:00.246775Z\", \"created_time_dt\": \"2021-01-30T14:16:00.246775Z\", \"duration\": \"0:01:03\", \"iteration\": \"12\", \"goal\": \"accuracy_max\", \"run_name\": \"SparseNormalizer, XGBoostClassifier\", \"run_properties\": \"<azureml.automl.runtime.shared.model_wrappers.SparseNormalizer object at 0x7fad059f77b8\", \"primary_metric\": 0.98135107, \"best_metric\": 0.9859807}, {\"run_id\": \"AutoML_89b818da-96ca-4f06-81a5-999e5a71dd1a_13\", \"run_number\": 18, \"metric\": null, \"status\": \"Completed\", \"run_type\": \"azureml.scriptrun\", \"training_percent\": \"100\", \"start_time\": \"2021-01-30T14:16:20.568007Z\", \"end_time\": \"2021-01-30T14:17:09.650476Z\", \"created_time\": \"2021-01-30T14:16:06.564618Z\", \"created_time_dt\": \"2021-01-30T14:16:06.564618Z\", \"duration\": \"0:01:03\", \"iteration\": \"13\", \"goal\": \"accuracy_max\", \"run_name\": \"StandardScalerWrapper, LightGBM\", \"run_properties\": \"<azureml.automl.runtime.shared.model_wrappers.StandardScalerWrapper object at 0x7ff75c134f28\", \"primary_metric\": 0.80359937, \"best_metric\": 0.9859807}, {\"run_id\": \"AutoML_89b818da-96ca-4f06-81a5-999e5a71dd1a_14\", \"run_number\": 19, \"metric\": null, \"status\": \"Completed\", \"run_type\": \"azureml.scriptrun\", \"training_percent\": \"100\", \"start_time\": \"2021-01-30T14:16:23.210413Z\", \"end_time\": \"2021-01-30T14:17:11.418708Z\", \"created_time\": \"2021-01-30T14:16:11.435402Z\", \"created_time_dt\": \"2021-01-30T14:16:11.435402Z\", \"duration\": \"0:00:59\", \"iteration\": \"14\", \"goal\": \"accuracy_max\", \"run_name\": \"StandardScalerWrapper, LightGBM\", \"run_properties\": \"<azureml.automl.runtime.shared.model_wrappers.StandardScalerWrapper object at 0x7f74b8274828\", \"primary_metric\": 0.8598722, \"best_metric\": 0.9859807}, {\"run_id\": \"AutoML_89b818da-96ca-4f06-81a5-999e5a71dd1a_15\", \"run_number\": 20, \"metric\": null, \"status\": \"Completed\", \"run_type\": \"azureml.scriptrun\", \"training_percent\": \"100\", \"start_time\": \"2021-01-30T14:16:29.354417Z\", \"end_time\": \"2021-01-30T14:17:15.361091Z\", \"created_time\": \"2021-01-30T14:16:15.646604Z\", \"created_time_dt\": \"2021-01-30T14:16:15.646604Z\", \"duration\": \"0:00:59\", \"iteration\": \"15\", \"goal\": \"accuracy_max\", \"run_name\": \"StandardScalerWrapper, ExtremeRandomTrees\", \"run_properties\": \"<azureml.automl.runtime.shared.model_wrappers.StandardScalerWrapper object at 0x7f325d856a20\", \"primary_metric\": 0.8782603, \"best_metric\": 0.9859807}, {\"run_id\": \"AutoML_89b818da-96ca-4f06-81a5-999e5a71dd1a_16\", \"run_number\": 21, \"metric\": null, \"status\": \"Completed\", \"run_type\": \"azureml.scriptrun\", \"training_percent\": \"100\", \"start_time\": \"2021-01-30T14:17:17.521119Z\", \"end_time\": \"2021-01-30T14:17:59.284864Z\", \"created_time\": \"2021-01-30T14:17:06.189058Z\", \"created_time_dt\": \"2021-01-30T14:17:06.189058Z\", \"duration\": \"0:00:53\", \"iteration\": \"16\", \"goal\": \"accuracy_max\", \"run_name\": \"MaxAbsScaler, RandomForest\", \"run_properties\": \"copy=True\", \"primary_metric\": 0.9579421, \"best_metric\": 0.9859807}, {\"run_id\": \"AutoML_89b818da-96ca-4f06-81a5-999e5a71dd1a_17\", \"run_number\": 22, \"metric\": null, \"status\": \"Completed\", \"run_type\": \"azureml.scriptrun\", \"training_percent\": \"100\", \"start_time\": \"2021-01-30T14:17:26.617854Z\", \"end_time\": \"2021-01-30T14:18:23.304627Z\", \"created_time\": \"2021-01-30T14:17:12.779005Z\", \"created_time_dt\": \"2021-01-30T14:17:12.779005Z\", \"duration\": \"0:01:10\", \"iteration\": \"17\", \"goal\": \"accuracy_max\", \"run_name\": \"MaxAbsScaler, LightGBM\", \"run_properties\": \"copy=True\", \"primary_metric\": 0.93466354, \"best_metric\": 0.9859807}, {\"run_id\": \"AutoML_89b818da-96ca-4f06-81a5-999e5a71dd1a_19\", \"run_number\": 23, \"metric\": null, \"status\": \"Completed\", \"run_type\": \"azureml.scriptrun\", \"training_percent\": \"100\", \"start_time\": \"2021-01-30T14:17:33.953858Z\", \"end_time\": \"2021-01-30T14:18:18.99645Z\", \"created_time\": \"2021-01-30T14:17:21.478652Z\", \"created_time_dt\": \"2021-01-30T14:17:21.478652Z\", \"duration\": \"0:00:57\", \"iteration\": \"19\", \"goal\": \"accuracy_max\", \"run_name\": \"MaxAbsScaler, LightGBM\", \"run_properties\": \"copy=True\", \"primary_metric\": 0.85967658, \"best_metric\": 0.9859807}, {\"run_id\": \"AutoML_89b818da-96ca-4f06-81a5-999e5a71dd1a_18\", \"run_number\": 24, \"metric\": null, \"status\": \"Completed\", \"run_type\": \"azureml.scriptrun\", \"training_percent\": \"100\", \"start_time\": \"2021-01-30T14:17:33.291456Z\", \"end_time\": \"2021-01-30T14:18:17.741481Z\", \"created_time\": \"2021-01-30T14:17:21.524363Z\", \"created_time_dt\": \"2021-01-30T14:17:21.524363Z\", \"duration\": \"0:00:56\", \"iteration\": \"18\", \"goal\": \"accuracy_max\", \"run_name\": \"MaxAbsScaler, RandomForest\", \"run_properties\": \"copy=True\", \"primary_metric\": 0.87845592, \"best_metric\": 0.9859807}, {\"run_id\": \"AutoML_89b818da-96ca-4f06-81a5-999e5a71dd1a_20\", \"run_number\": 25, \"metric\": null, \"status\": \"Completed\", \"run_type\": \"azureml.scriptrun\", \"training_percent\": \"100\", \"start_time\": \"2021-01-30T14:18:14.673844Z\", \"end_time\": \"2021-01-30T14:19:08.795035Z\", \"created_time\": \"2021-01-30T14:18:02.932265Z\", \"created_time_dt\": \"2021-01-30T14:18:02.932265Z\", \"duration\": \"0:01:05\", \"iteration\": \"20\", \"goal\": \"accuracy_max\", \"run_name\": \"StandardScalerWrapper, XGBoostClassifier\", \"run_properties\": \"<azureml.automl.runtime.shared.model_wrappers.StandardScalerWrapper object at 0x7fcf1025d9b0\", \"primary_metric\": 0.89717006, \"best_metric\": 0.9859807}, {\"run_id\": \"AutoML_89b818da-96ca-4f06-81a5-999e5a71dd1a_21\", \"run_number\": 26, \"metric\": null, \"status\": \"Completed\", \"run_type\": \"azureml.scriptrun\", \"training_percent\": \"100\", \"start_time\": \"2021-01-30T14:18:33.978867Z\", \"end_time\": \"2021-01-30T14:19:20.022185Z\", \"created_time\": \"2021-01-30T14:18:20.440951Z\", \"created_time_dt\": \"2021-01-30T14:18:20.440951Z\", \"duration\": \"0:00:59\", \"iteration\": \"21\", \"goal\": \"accuracy_max\", \"run_name\": \"SparseNormalizer, XGBoostClassifier\", \"run_properties\": \"<azureml.automl.runtime.shared.model_wrappers.SparseNormalizer object at 0x7ff7ec16ec50\", \"primary_metric\": 0.95350809, \"best_metric\": 0.9859807}, {\"run_id\": \"AutoML_89b818da-96ca-4f06-81a5-999e5a71dd1a_22\", \"run_number\": 27, \"metric\": null, \"status\": \"Completed\", \"run_type\": \"azureml.scriptrun\", \"training_percent\": \"100\", \"start_time\": \"2021-01-30T14:18:35.943362Z\", \"end_time\": \"2021-01-30T14:19:20.579465Z\", \"created_time\": \"2021-01-30T14:18:25.106143Z\", \"created_time_dt\": \"2021-01-30T14:18:25.106143Z\", \"duration\": \"0:00:55\", \"iteration\": \"22\", \"goal\": \"accuracy_max\", \"run_name\": \"RobustScaler, ExtremeRandomTrees\", \"run_properties\": \"copy=True, quantile_range=[10, 90], with_centering=False,\\n             with_scaling=False\", \"primary_metric\": 0.93922796, \"best_metric\": 0.9859807}, {\"run_id\": \"AutoML_89b818da-96ca-4f06-81a5-999e5a71dd1a_23\", \"run_number\": 28, \"metric\": null, \"status\": \"Completed\", \"run_type\": \"azureml.scriptrun\", \"training_percent\": \"100\", \"start_time\": \"2021-01-30T14:18:36.660776Z\", \"end_time\": \"2021-01-30T14:19:25.063732Z\", \"created_time\": \"2021-01-30T14:18:25.281645Z\", \"created_time_dt\": \"2021-01-30T14:18:25.281645Z\", \"duration\": \"0:00:59\", \"iteration\": \"23\", \"goal\": \"accuracy_max\", \"run_name\": \"StandardScalerWrapper, RandomForest\", \"run_properties\": \"<azureml.automl.runtime.shared.model_wrappers.StandardScalerWrapper object at 0x7f7ab4f23208\", \"primary_metric\": 0.96726656, \"best_metric\": 0.9859807}, {\"run_id\": \"AutoML_89b818da-96ca-4f06-81a5-999e5a71dd1a_24\", \"run_number\": 29, \"metric\": null, \"status\": \"Completed\", \"run_type\": \"azureml.scriptrun\", \"training_percent\": \"100\", \"start_time\": \"2021-01-30T14:19:24.343873Z\", \"end_time\": \"2021-01-30T14:20:13.332537Z\", \"created_time\": \"2021-01-30T14:19:11.489693Z\", \"created_time_dt\": \"2021-01-30T14:19:11.489693Z\", \"duration\": \"0:01:01\", \"iteration\": \"24\", \"goal\": \"accuracy_max\", \"run_name\": \"SparseNormalizer, ExtremeRandomTrees\", \"run_properties\": \"<azureml.automl.runtime.shared.model_wrappers.SparseNormalizer object at 0x7fd1efc4f710\", \"primary_metric\": 0.96250652, \"best_metric\": 0.9859807}, {\"run_id\": \"AutoML_89b818da-96ca-4f06-81a5-999e5a71dd1a_25\", \"run_number\": 30, \"metric\": null, \"status\": \"Completed\", \"run_type\": \"azureml.scriptrun\", \"training_percent\": \"100\", \"start_time\": \"2021-01-30T14:19:34.042251Z\", \"end_time\": \"2021-01-30T14:20:18.499931Z\", \"created_time\": \"2021-01-30T14:19:24.389703Z\", \"created_time_dt\": \"2021-01-30T14:19:24.389703Z\", \"duration\": \"0:00:54\", \"iteration\": \"25\", \"goal\": \"accuracy_max\", \"run_name\": \"MinMaxScaler, LightGBM\", \"run_properties\": \"copy=True, feature_range=(0, 1\", \"primary_metric\": 0.97672144, \"best_metric\": 0.9859807}, {\"run_id\": \"AutoML_89b818da-96ca-4f06-81a5-999e5a71dd1a_26\", \"run_number\": 31, \"metric\": null, \"status\": \"Completed\", \"run_type\": \"azureml.scriptrun\", \"training_percent\": \"100\", \"start_time\": \"2021-01-30T14:19:37.14242Z\", \"end_time\": \"2021-01-30T14:20:23.498727Z\", \"created_time\": \"2021-01-30T14:19:24.501201Z\", \"created_time_dt\": \"2021-01-30T14:19:24.501201Z\", \"duration\": \"0:00:58\", \"iteration\": \"26\", \"goal\": \"accuracy_max\", \"run_name\": \"SparseNormalizer, XGBoostClassifier\", \"run_properties\": \"<azureml.automl.runtime.shared.model_wrappers.SparseNormalizer object at 0x7f7c2464b2e8\", \"primary_metric\": 0.97672144, \"best_metric\": 0.9859807}, {\"run_id\": \"AutoML_89b818da-96ca-4f06-81a5-999e5a71dd1a_27\", \"run_number\": 32, \"metric\": null, \"status\": \"Completed\", \"run_type\": \"azureml.scriptrun\", \"training_percent\": \"100\", \"start_time\": \"2021-01-30T14:19:39.388539Z\", \"end_time\": \"2021-01-30T14:20:21.623654Z\", \"created_time\": \"2021-01-30T14:19:29.19895Z\", \"created_time_dt\": \"2021-01-30T14:19:29.19895Z\", \"duration\": \"0:00:52\", \"iteration\": \"27\", \"goal\": \"accuracy_max\", \"run_name\": \"SparseNormalizer, XGBoostClassifier\", \"run_properties\": \"<azureml.automl.runtime.shared.model_wrappers.SparseNormalizer object at 0x7faac5104400\", \"primary_metric\": 0.97665623, \"best_metric\": 0.9859807}, {\"run_id\": \"AutoML_89b818da-96ca-4f06-81a5-999e5a71dd1a_28\", \"run_number\": 33, \"metric\": null, \"status\": \"Completed\", \"run_type\": \"azureml.scriptrun\", \"training_percent\": \"100\", \"start_time\": \"2021-01-30T14:20:27.187232Z\", \"end_time\": \"2021-01-30T14:21:12.195872Z\", \"created_time\": \"2021-01-30T14:20:15.74171Z\", \"created_time_dt\": \"2021-01-30T14:20:15.74171Z\", \"duration\": \"0:00:56\", \"iteration\": \"28\", \"goal\": \"accuracy_max\", \"run_name\": \"StandardScalerWrapper, XGBoostClassifier\", \"run_properties\": \"<azureml.automl.runtime.shared.model_wrappers.StandardScalerWrapper object at 0x7fe3f2f039b0\", \"primary_metric\": 0.98135107, \"best_metric\": 0.9859807}, {\"run_id\": \"AutoML_89b818da-96ca-4f06-81a5-999e5a71dd1a_29\", \"run_number\": 34, \"metric\": null, \"status\": \"Completed\", \"run_type\": \"azureml.scriptrun\", \"training_percent\": \"100\", \"start_time\": \"2021-01-30T14:20:33.974464Z\", \"end_time\": \"2021-01-30T14:21:20.854778Z\", \"created_time\": \"2021-01-30T14:20:20.687184Z\", \"created_time_dt\": \"2021-01-30T14:20:20.687184Z\", \"duration\": \"0:01:00\", \"iteration\": \"29\", \"goal\": \"accuracy_max\", \"run_name\": \"StandardScalerWrapper, LightGBM\", \"run_properties\": \"<azureml.automl.runtime.shared.model_wrappers.StandardScalerWrapper object at 0x7fefcab12b00\", \"primary_metric\": 0.98122066, \"best_metric\": 0.9859807}, {\"run_id\": \"AutoML_89b818da-96ca-4f06-81a5-999e5a71dd1a_30\", \"run_number\": 35, \"metric\": null, \"status\": \"Completed\", \"run_type\": \"azureml.scriptrun\", \"training_percent\": \"100\", \"start_time\": \"2021-01-30T14:20:37.246379Z\", \"end_time\": \"2021-01-30T14:21:22.739467Z\", \"created_time\": \"2021-01-30T14:20:26.316992Z\", \"created_time_dt\": \"2021-01-30T14:20:26.316992Z\", \"duration\": \"0:00:56\", \"iteration\": \"30\", \"goal\": \"accuracy_max\", \"run_name\": \"StandardScalerWrapper, LightGBM\", \"run_properties\": \"<azureml.automl.runtime.shared.model_wrappers.StandardScalerWrapper object at 0x7fd4d8882198\", \"primary_metric\": 0.70129108, \"best_metric\": 0.9859807}, {\"run_id\": \"AutoML_89b818da-96ca-4f06-81a5-999e5a71dd1a_31\", \"run_number\": 36, \"metric\": null, \"status\": \"Completed\", \"run_type\": \"azureml.scriptrun\", \"training_percent\": \"100\", \"start_time\": \"2021-01-30T14:20:40.344976Z\", \"end_time\": \"2021-01-30T14:21:23.817455Z\", \"created_time\": \"2021-01-30T14:20:26.500362Z\", \"created_time_dt\": \"2021-01-30T14:20:26.500362Z\", \"duration\": \"0:00:57\", \"iteration\": \"31\", \"goal\": \"accuracy_max\", \"run_name\": \"SparseNormalizer, XGBoostClassifier\", \"run_properties\": \"<azureml.automl.runtime.shared.model_wrappers.SparseNormalizer object at 0x7f6b24448ac8\", \"primary_metric\": 0.97665623, \"best_metric\": 0.9859807}, {\"run_id\": \"AutoML_89b818da-96ca-4f06-81a5-999e5a71dd1a_32\", \"run_number\": 37, \"metric\": null, \"status\": \"Completed\", \"run_type\": \"azureml.scriptrun\", \"training_percent\": \"100\", \"start_time\": \"2021-01-30T14:21:27.375497Z\", \"end_time\": \"2021-01-30T14:22:20.738674Z\", \"created_time\": \"2021-01-30T14:21:16.113147Z\", \"created_time_dt\": \"2021-01-30T14:21:16.113147Z\", \"duration\": \"0:01:04\", \"iteration\": \"32\", \"goal\": \"accuracy_max\", \"run_name\": \"SparseNormalizer, XGBoostClassifier\", \"run_properties\": \"<azureml.automl.runtime.shared.model_wrappers.SparseNormalizer object at 0x7f903911dbe0\", \"primary_metric\": 0.9720266, \"best_metric\": 0.9859807}, {\"run_id\": \"AutoML_89b818da-96ca-4f06-81a5-999e5a71dd1a_33\", \"run_number\": 38, \"metric\": null, \"status\": \"Completed\", \"run_type\": \"azureml.scriptrun\", \"training_percent\": \"100\", \"start_time\": \"2021-01-30T14:21:34.737788Z\", \"end_time\": \"2021-01-30T14:22:19.392858Z\", \"created_time\": \"2021-01-30T14:21:23.213426Z\", \"created_time_dt\": \"2021-01-30T14:21:23.213426Z\", \"duration\": \"0:00:56\", \"iteration\": \"33\", \"goal\": \"accuracy_max\", \"run_name\": \"StandardScalerWrapper, XGBoostClassifier\", \"run_properties\": \"<azureml.automl.runtime.shared.model_wrappers.StandardScalerWrapper object at 0x7fbb5522bc18\", \"primary_metric\": 0.95813772, \"best_metric\": 0.9859807}, {\"run_id\": \"AutoML_89b818da-96ca-4f06-81a5-999e5a71dd1a_34\", \"run_number\": 39, \"metric\": null, \"status\": \"Canceled\", \"run_type\": \"azureml.scriptrun\", \"training_percent\": \"100\", \"start_time\": \"2021-01-30T14:21:41.372672Z\", \"end_time\": \"2021-01-30T14:22:28.324205Z\", \"created_time\": \"2021-01-30T14:21:30.046788Z\", \"created_time_dt\": \"2021-01-30T14:21:30.046788Z\", \"duration\": \"0:00:58\", \"iteration\": \"34\", \"goal\": \"accuracy_max\", \"run_name\": \"SparseNormalizer, LightGBM\", \"run_properties\": \"<azureml.automl.runtime.shared.model_wrappers.SparseNormalizer object at 0x7f50a4cf2208\", \"primary_metric\": 0.93459833, \"best_metric\": 0.9859807}, {\"run_id\": \"AutoML_89b818da-96ca-4f06-81a5-999e5a71dd1a_35\", \"run_number\": 40, \"metric\": null, \"status\": \"Canceled\", \"run_type\": \"azureml.scriptrun\", \"training_percent\": \"100\", \"start_time\": \"2021-01-30T14:21:42.680756Z\", \"end_time\": \"2021-01-30T14:22:28.874542Z\", \"created_time\": \"2021-01-30T14:21:30.208646Z\", \"created_time_dt\": \"2021-01-30T14:21:30.208646Z\", \"duration\": \"0:00:58\", \"iteration\": \"35\", \"goal\": \"accuracy_max\", \"run_name\": \"SparseNormalizer, XGBoostClassifier\", \"run_properties\": \"<azureml.automl.runtime.shared.model_wrappers.SparseNormalizer object at 0x7fb45867fcf8\", \"primary_metric\": 0.97672144, \"best_metric\": 0.9859807}, {\"run_id\": \"AutoML_89b818da-96ca-4f06-81a5-999e5a71dd1a_37\", \"run_number\": 41, \"metric\": null, \"status\": \"Completed\", \"run_type\": \"azureml.scriptrun\", \"training_percent\": \"100\", \"start_time\": \"2021-01-30T14:22:40.362657Z\", \"end_time\": \"2021-01-30T14:23:55.796803Z\", \"created_time\": \"2021-01-30T14:22:29.964375Z\", \"created_time_dt\": \"2021-01-30T14:22:29.964375Z\", \"duration\": \"0:01:25\", \"iteration\": \"37\", \"goal\": \"accuracy_max\", \"run_name\": \"StackEnsemble\", \"run_properties\": \"base_learners=[('0',\\n                                        Pipeline(memory=None,\\n                                                 steps=[('maxabsscaler',\\n                                                         MaxAbsScaler(copy=True\", \"primary_metric\": 0.98604591, \"best_metric\": 0.99067553}, {\"run_id\": \"AutoML_89b818da-96ca-4f06-81a5-999e5a71dd1a_36\", \"run_number\": 42, \"metric\": null, \"status\": \"Completed\", \"run_type\": \"azureml.scriptrun\", \"training_percent\": \"100\", \"start_time\": \"2021-01-30T14:22:41.854828Z\", \"end_time\": \"2021-01-30T14:23:56.173756Z\", \"created_time\": \"2021-01-30T14:22:29.974645Z\", \"created_time_dt\": \"2021-01-30T14:22:29.974645Z\", \"duration\": \"0:01:26\", \"iteration\": \"36\", \"goal\": \"accuracy_max\", \"run_name\": \"VotingEnsemble\", \"run_properties\": \"classification_labels=None,\\n                              estimators=[('0',\\n                                           Pipeline(memory=None,\\n                                                    steps=[('maxabsscaler',\\n                                                            MaxAbsScaler(copy=True\", \"primary_metric\": 0.99067553, \"best_metric\": 0.99067553}], \"children_metrics\": {\"categories\": [0], \"series\": {\"f1_score_macro\": [{\"categories\": [\"0\", \"1\", \"2\", \"3\", \"4\", \"5\", \"6\", \"7\", \"8\", \"9\", \"10\", \"11\", \"12\", \"13\", \"14\", \"15\", \"16\", \"17\", \"18\", \"19\", \"20\", \"21\", \"22\", \"23\", \"24\", \"25\", \"26\", \"27\", \"28\", \"29\", \"30\", \"31\", \"32\", \"33\", \"34\", \"35\", \"36\", \"37\"], \"mode\": \"markers\", \"name\": \"f1_score_macro\", \"stepped\": false, \"type\": \"scatter\", \"data\": [0.9694812525001204, 0.9550426680211928, 0.8956060686643927, 0.810607437441819, 0.9524350271205617, 0.8008790318152994, 0.8210109100154867, 0.6889172098045396, 0.9604205341957047, 0.8661742137932614, 0.6995598884210499, 0.956744562382478, 0.9676826983206138, 0.5820287863196151, 0.6093962675856566, 0.704310749640987, 0.9513177210968208, 0.9240430690103892, 0.670497664202883, 0.6815137334985976, 0.854587412918615, 0.9184543111183704, 0.9193848418079993, 0.93753698035977, 0.9459963581392152, 0.9708150813268125, 0.9614163309431354, 0.9604205341957047, 0.9682113923010283, 0.9796820569866392, 0.35812646797849573, 0.9604205341957047, 0.9484075471827177, 0.9055537959956331, 0.7436410114299942, 0.9561513284559107, 0.9816912647101327, 0.9793229099608256]}, {\"categories\": [\"0\", \"1\", \"2\", \"3\", \"4\", \"5\", \"6\", \"7\", \"8\", \"9\", \"10\", \"11\", \"12\", \"13\", \"14\", \"15\", \"16\", \"17\", \"18\", \"19\", \"20\", \"21\", \"22\", \"23\", \"24\", \"25\", \"26\", \"27\", \"28\", \"29\", \"30\", \"31\", \"32\", \"33\", \"34\", \"35\", \"36\", \"37\"], \"mode\": \"lines\", \"name\": \"f1_score_macro_max\", \"stepped\": true, \"type\": \"scatter\", \"data\": [0.9694812525001204, 0.9694812525001204, 0.9694812525001204, 0.9694812525001204, 0.9694812525001204, 0.9694812525001204, 0.9694812525001204, 0.9694812525001204, 0.9694812525001204, 0.9694812525001204, 0.9694812525001204, 0.9694812525001204, 0.9694812525001204, 0.9694812525001204, 0.9694812525001204, 0.9694812525001204, 0.9694812525001204, 0.9694812525001204, 0.9694812525001204, 0.9694812525001204, 0.9694812525001204, 0.9694812525001204, 0.9694812525001204, 0.9694812525001204, 0.9694812525001204, 0.9708150813268125, 0.9708150813268125, 0.9708150813268125, 0.9708150813268125, 0.9796820569866392, 0.9796820569866392, 0.9796820569866392, 0.9796820569866392, 0.9796820569866392, 0.9796820569866392, 0.9796820569866392, 0.9816912647101327, 0.9816912647101327]}], \"precision_score_macro\": [{\"categories\": [\"0\", \"1\", \"2\", \"3\", \"4\", \"5\", \"6\", \"7\", \"8\", \"9\", \"10\", \"11\", \"12\", \"13\", \"14\", \"15\", \"16\", \"17\", \"18\", \"19\", \"20\", \"21\", \"22\", \"23\", \"24\", \"25\", \"26\", \"27\", \"28\", \"29\", \"30\", \"31\", \"32\", \"33\", \"34\", \"35\", \"36\", \"37\"], \"mode\": \"markers\", \"name\": \"precision_score_macro\", \"stepped\": false, \"type\": \"scatter\", \"data\": [0.9701646090534979, 0.9514814814814815, 0.9038726088726089, 0.9132128159905938, 0.9538947677836567, 0.8284585784585784, 0.9518434210385278, 0.7415283442508137, 0.963775720164609, 0.9123417259624156, 0.7714335818502486, 0.9609979423868312, 0.9748868312757201, 0.6787626573617954, 0.617404295051354, 0.8129983952959918, 0.9673448876226655, 0.972993827160494, 0.6833645526118645, 0.7470214390017257, 0.9048114765368638, 0.9300709989598879, 0.9173280423280423, 0.9360376249265139, 0.9406790123456791, 0.977366255144033, 0.9656275720164609, 0.963775720164609, 0.9699999999999999, 0.9808392122281012, 0.3493273068711666, 0.963775720164609, 0.9554423868312757, 0.9250852439741329, 0.7178497942386831, 0.9623868312757202, 0.9840534979423868, 0.9818312757201646]}, {\"categories\": [\"0\", \"1\", \"2\", \"3\", \"4\", \"5\", \"6\", \"7\", \"8\", \"9\", \"10\", \"11\", \"12\", \"13\", \"14\", \"15\", \"16\", \"17\", \"18\", \"19\", \"20\", \"21\", \"22\", \"23\", \"24\", \"25\", \"26\", \"27\", \"28\", \"29\", \"30\", \"31\", \"32\", \"33\", \"34\", \"35\", \"36\", \"37\"], \"mode\": \"lines\", \"name\": \"precision_score_macro_max\", \"stepped\": true, \"type\": \"scatter\", \"data\": [0.9701646090534979, 0.9701646090534979, 0.9701646090534979, 0.9701646090534979, 0.9701646090534979, 0.9701646090534979, 0.9701646090534979, 0.9701646090534979, 0.9701646090534979, 0.9701646090534979, 0.9701646090534979, 0.9701646090534979, 0.9748868312757201, 0.9748868312757201, 0.9748868312757201, 0.9748868312757201, 0.9748868312757201, 0.9748868312757201, 0.9748868312757201, 0.9748868312757201, 0.9748868312757201, 0.9748868312757201, 0.9748868312757201, 0.9748868312757201, 0.9748868312757201, 0.977366255144033, 0.977366255144033, 0.977366255144033, 0.977366255144033, 0.9808392122281012, 0.9808392122281012, 0.9808392122281012, 0.9808392122281012, 0.9808392122281012, 0.9808392122281012, 0.9808392122281012, 0.9840534979423868, 0.9840534979423868]}], \"recall_score_micro\": [{\"categories\": [\"0\", \"1\", \"2\", \"3\", \"4\", \"5\", \"6\", \"7\", \"8\", \"9\", \"10\", \"11\", \"12\", \"13\", \"14\", \"15\", \"16\", \"17\", \"18\", \"19\", \"20\", \"21\", \"22\", \"23\", \"24\", \"25\", \"26\", \"27\", \"28\", \"29\", \"30\", \"31\", \"32\", \"33\", \"34\", \"35\", \"36\", \"37\"], \"mode\": \"markers\", \"name\": \"recall_score_micro\", \"stepped\": false, \"type\": \"scatter\", \"data\": [0.9859806990088681, 0.9767214397496088, 0.9299687010954617, 0.9112545644235786, 0.9765258215962441, 0.9017344809598331, 0.8879107981220656, 0.8318335941575379, 0.9766562336984873, 0.9345331246739698, 0.8736306729264477, 0.9766562336984873, 0.9813510693792384, 0.8035993740219092, 0.8598721961398018, 0.8782603025560771, 0.957942097026604, 0.9346635367762128, 0.8784559207094418, 0.8596765779864372, 0.8971700573813249, 0.9535080855503391, 0.9392279603547209, 0.9672665623369849, 0.9625065206051122, 0.9767214397496088, 0.9767214397496088, 0.9766562336984873, 0.9813510693792384, 0.9812206572769954, 0.7012910798122065, 0.9766562336984873, 0.9720266040688577, 0.9581377151799687, 0.9345983307250912, 0.9767214397496088, 0.9906755346896192, 0.9860459050599896]}, {\"categories\": [\"0\", \"1\", \"2\", \"3\", \"4\", \"5\", \"6\", \"7\", \"8\", \"9\", \"10\", \"11\", \"12\", \"13\", \"14\", \"15\", \"16\", \"17\", \"18\", \"19\", \"20\", \"21\", \"22\", \"23\", \"24\", \"25\", \"26\", \"27\", \"28\", \"29\", \"30\", \"31\", \"32\", \"33\", \"34\", \"35\", \"36\", \"37\"], \"mode\": \"lines\", \"name\": \"recall_score_micro_max\", \"stepped\": true, \"type\": \"scatter\", \"data\": [0.9859806990088681, 0.9859806990088681, 0.9859806990088681, 0.9859806990088681, 0.9859806990088681, 0.9859806990088681, 0.9859806990088681, 0.9859806990088681, 0.9859806990088681, 0.9859806990088681, 0.9859806990088681, 0.9859806990088681, 0.9859806990088681, 0.9859806990088681, 0.9859806990088681, 0.9859806990088681, 0.9859806990088681, 0.9859806990088681, 0.9859806990088681, 0.9859806990088681, 0.9859806990088681, 0.9859806990088681, 0.9859806990088681, 0.9859806990088681, 0.9859806990088681, 0.9859806990088681, 0.9859806990088681, 0.9859806990088681, 0.9859806990088681, 0.9859806990088681, 0.9859806990088681, 0.9859806990088681, 0.9859806990088681, 0.9859806990088681, 0.9859806990088681, 0.9859806990088681, 0.9906755346896192, 0.9906755346896192]}], \"accuracy\": [{\"categories\": [\"0\", \"1\", \"2\", \"3\", \"4\", \"5\", \"6\", \"7\", \"8\", \"9\", \"10\", \"11\", \"12\", \"13\", \"14\", \"15\", \"16\", \"17\", \"18\", \"19\", \"20\", \"21\", \"22\", \"23\", \"24\", \"25\", \"26\", \"27\", \"28\", \"29\", \"30\", \"31\", \"32\", \"33\", \"34\", \"35\", \"36\", \"37\"], \"mode\": \"markers\", \"name\": \"accuracy\", \"stepped\": false, \"type\": \"scatter\", \"data\": [0.9859806990088681, 0.9767214397496088, 0.9299687010954617, 0.9112545644235786, 0.9765258215962441, 0.9017344809598331, 0.8879107981220656, 0.8318335941575379, 0.9766562336984873, 0.9345331246739698, 0.8736306729264477, 0.9766562336984873, 0.9813510693792384, 0.8035993740219092, 0.8598721961398018, 0.8782603025560771, 0.957942097026604, 0.9346635367762128, 0.8784559207094418, 0.8596765779864372, 0.8971700573813249, 0.9535080855503391, 0.9392279603547209, 0.9672665623369849, 0.9625065206051122, 0.9767214397496088, 0.9767214397496088, 0.9766562336984873, 0.9813510693792384, 0.9812206572769954, 0.7012910798122065, 0.9766562336984873, 0.9720266040688577, 0.9581377151799687, 0.9345983307250912, 0.9767214397496088, 0.9906755346896192, 0.9860459050599896]}, {\"categories\": [\"0\", \"1\", \"2\", \"3\", \"4\", \"5\", \"6\", \"7\", \"8\", \"9\", \"10\", \"11\", \"12\", \"13\", \"14\", \"15\", \"16\", \"17\", \"18\", \"19\", \"20\", \"21\", \"22\", \"23\", \"24\", \"25\", \"26\", \"27\", \"28\", \"29\", \"30\", \"31\", \"32\", \"33\", \"34\", \"35\", \"36\", \"37\"], \"mode\": \"lines\", \"name\": \"accuracy_max\", \"stepped\": true, \"type\": \"scatter\", \"data\": [0.9859806990088681, 0.9859806990088681, 0.9859806990088681, 0.9859806990088681, 0.9859806990088681, 0.9859806990088681, 0.9859806990088681, 0.9859806990088681, 0.9859806990088681, 0.9859806990088681, 0.9859806990088681, 0.9859806990088681, 0.9859806990088681, 0.9859806990088681, 0.9859806990088681, 0.9859806990088681, 0.9859806990088681, 0.9859806990088681, 0.9859806990088681, 0.9859806990088681, 0.9859806990088681, 0.9859806990088681, 0.9859806990088681, 0.9859806990088681, 0.9859806990088681, 0.9859806990088681, 0.9859806990088681, 0.9859806990088681, 0.9859806990088681, 0.9859806990088681, 0.9859806990088681, 0.9859806990088681, 0.9859806990088681, 0.9859806990088681, 0.9859806990088681, 0.9859806990088681, 0.9906755346896192, 0.9906755346896192]}], \"AUC_micro\": [{\"categories\": [\"0\", \"1\", \"2\", \"3\", \"4\", \"5\", \"6\", \"7\", \"8\", \"9\", \"10\", \"11\", \"12\", \"13\", \"14\", \"15\", \"16\", \"17\", \"18\", \"19\", \"20\", \"21\", \"22\", \"23\", \"24\", \"25\", \"26\", \"27\", \"28\", \"29\", \"30\", \"31\", \"32\", \"33\", \"34\", \"35\", \"36\", \"37\"], \"mode\": \"markers\", \"name\": \"AUC_micro\", \"stepped\": false, \"type\": \"scatter\", \"data\": [0.9996175726328059, 0.9965867897642623, 0.9920843948449871, 0.9911994255132605, 0.9988373041675546, 0.9937722608764509, 0.9878765113721801, 0.9652350341398067, 0.9984795918325696, 0.9945469653981385, 0.9838365322054625, 0.999222922957673, 0.99233886043905, 0.9659942381933169, 0.9640124130279853, 0.9902479631017428, 0.9943311706149491, 0.996555781174615, 0.9886286871521833, 0.9813151397225875, 0.9833984654026283, 0.9982988210664322, 0.9941905311629821, 0.9982843206284597, 0.9982105352365744, 0.99844274633193, 0.9981640185254576, 0.995584614086303, 0.9997156189615524, 0.9995643082689029, 0.8818662915737047, 0.9986989428456207, 0.9954400535975371, 0.9974513337341618, 0.9941786762130774, 0.9990899444513834, 0.9999088850030572, 0.9992406173696674]}, {\"categories\": [\"0\", \"1\", \"2\", \"3\", \"4\", \"5\", \"6\", \"7\", \"8\", \"9\", \"10\", \"11\", \"12\", \"13\", \"14\", \"15\", \"16\", \"17\", \"18\", \"19\", \"20\", \"21\", \"22\", \"23\", \"24\", \"25\", \"26\", \"27\", \"28\", \"29\", \"30\", \"31\", \"32\", \"33\", \"34\", \"35\", \"36\", \"37\"], \"mode\": \"lines\", \"name\": \"AUC_micro_max\", \"stepped\": true, \"type\": \"scatter\", \"data\": [0.9996175726328059, 0.9996175726328059, 0.9996175726328059, 0.9996175726328059, 0.9996175726328059, 0.9996175726328059, 0.9996175726328059, 0.9996175726328059, 0.9996175726328059, 0.9996175726328059, 0.9996175726328059, 0.9996175726328059, 0.9996175726328059, 0.9996175726328059, 0.9996175726328059, 0.9996175726328059, 0.9996175726328059, 0.9996175726328059, 0.9996175726328059, 0.9996175726328059, 0.9996175726328059, 0.9996175726328059, 0.9996175726328059, 0.9996175726328059, 0.9996175726328059, 0.9996175726328059, 0.9996175726328059, 0.9996175726328059, 0.9997156189615524, 0.9997156189615524, 0.9997156189615524, 0.9997156189615524, 0.9997156189615524, 0.9997156189615524, 0.9997156189615524, 0.9997156189615524, 0.9999088850030572, 0.9999088850030572]}], \"f1_score_weighted\": [{\"categories\": [\"0\", \"1\", \"2\", \"3\", \"4\", \"5\", \"6\", \"7\", \"8\", \"9\", \"10\", \"11\", \"12\", \"13\", \"14\", \"15\", \"16\", \"17\", \"18\", \"19\", \"20\", \"21\", \"22\", \"23\", \"24\", \"25\", \"26\", \"27\", \"28\", \"29\", \"30\", \"31\", \"32\", \"33\", \"34\", \"35\", \"36\", \"37\"], \"mode\": \"markers\", \"name\": \"f1_score_weighted\", \"stepped\": false, \"type\": \"scatter\", \"data\": [0.9861194442313229, 0.977146335579067, 0.930245033145721, 0.9034564307067776, 0.975265991476462, 0.8943664271366328, 0.8716480105156904, 0.8104278769842188, 0.9766719504283499, 0.9290616097848381, 0.845227741222433, 0.9761905974200706, 0.9811519897054066, 0.7493928289957835, 0.8160544946816416, 0.8467381343444221, 0.9562428264515558, 0.9320436825707775, 0.8411137730769763, 0.8252753349888645, 0.8956004675308735, 0.9530338559394096, 0.9449120285176277, 0.9663214547771611, 0.9633859288487056, 0.9765326479659527, 0.9766470639041845, 0.9766719504283499, 0.981398736127764, 0.981100985158538, 0.6070510298424329, 0.9766719504283499, 0.9721535521599516, 0.9581899515584681, 0.9166538460624709, 0.9764713645142181, 0.990659505109412, 0.986025676269234]}, {\"categories\": [\"0\", \"1\", \"2\", \"3\", \"4\", \"5\", \"6\", \"7\", \"8\", \"9\", \"10\", \"11\", \"12\", \"13\", \"14\", \"15\", \"16\", \"17\", \"18\", \"19\", \"20\", \"21\", \"22\", \"23\", \"24\", \"25\", \"26\", \"27\", \"28\", \"29\", \"30\", \"31\", \"32\", \"33\", \"34\", \"35\", \"36\", \"37\"], \"mode\": \"lines\", \"name\": \"f1_score_weighted_max\", \"stepped\": true, \"type\": \"scatter\", \"data\": [0.9861194442313229, 0.9861194442313229, 0.9861194442313229, 0.9861194442313229, 0.9861194442313229, 0.9861194442313229, 0.9861194442313229, 0.9861194442313229, 0.9861194442313229, 0.9861194442313229, 0.9861194442313229, 0.9861194442313229, 0.9861194442313229, 0.9861194442313229, 0.9861194442313229, 0.9861194442313229, 0.9861194442313229, 0.9861194442313229, 0.9861194442313229, 0.9861194442313229, 0.9861194442313229, 0.9861194442313229, 0.9861194442313229, 0.9861194442313229, 0.9861194442313229, 0.9861194442313229, 0.9861194442313229, 0.9861194442313229, 0.9861194442313229, 0.9861194442313229, 0.9861194442313229, 0.9861194442313229, 0.9861194442313229, 0.9861194442313229, 0.9861194442313229, 0.9861194442313229, 0.990659505109412, 0.990659505109412]}], \"average_precision_score_weighted\": [{\"categories\": [\"0\", \"1\", \"2\", \"3\", \"4\", \"5\", \"6\", \"7\", \"8\", \"9\", \"10\", \"11\", \"12\", \"13\", \"14\", \"15\", \"16\", \"17\", \"18\", \"19\", \"20\", \"21\", \"22\", \"23\", \"24\", \"25\", \"26\", \"27\", \"28\", \"29\", \"30\", \"31\", \"32\", \"33\", \"34\", \"35\", \"36\", \"37\"], \"mode\": \"markers\", \"name\": \"average_precision_score_weighted\", \"stepped\": false, \"type\": \"scatter\", \"data\": [0.9989567031820551, 0.9899727066100305, 0.9790223437219372, 0.9803419074757107, 0.9946543458280548, 0.9844837894421086, 0.9902147607727828, 0.9062247605899008, 0.9978408029878617, 0.9824072701203329, 0.9487800897082979, 0.9973249217527386, 0.975887293857928, 0.9614869593034844, 0.9828421321992266, 0.9894356453750172, 0.9878816345365641, 0.9977021150382005, 0.981905026918865, 0.9795737726098231, 0.9597306493476624, 0.99430765993266, 0.9841187020030916, 0.9913386118315696, 0.9945656847065297, 0.9961231412833179, 0.9949188459099779, 0.9953206688545716, 0.9993386243386243, 0.9974285408557707, 0.9360831946439842, 0.9981438812083973, 0.9865072438896397, 0.989446167747224, 0.9755502148694637, 0.9962921665797252, 1.0, 0.999413145539906]}, {\"categories\": [\"0\", \"1\", \"2\", \"3\", \"4\", \"5\", \"6\", \"7\", \"8\", \"9\", \"10\", \"11\", \"12\", \"13\", \"14\", \"15\", \"16\", \"17\", \"18\", \"19\", \"20\", \"21\", \"22\", \"23\", \"24\", \"25\", \"26\", \"27\", \"28\", \"29\", \"30\", \"31\", \"32\", \"33\", \"34\", \"35\", \"36\", \"37\"], \"mode\": \"lines\", \"name\": \"average_precision_score_weighted_max\", \"stepped\": true, \"type\": \"scatter\", \"data\": [0.9989567031820551, 0.9989567031820551, 0.9989567031820551, 0.9989567031820551, 0.9989567031820551, 0.9989567031820551, 0.9989567031820551, 0.9989567031820551, 0.9989567031820551, 0.9989567031820551, 0.9989567031820551, 0.9989567031820551, 0.9989567031820551, 0.9989567031820551, 0.9989567031820551, 0.9989567031820551, 0.9989567031820551, 0.9989567031820551, 0.9989567031820551, 0.9989567031820551, 0.9989567031820551, 0.9989567031820551, 0.9989567031820551, 0.9989567031820551, 0.9989567031820551, 0.9989567031820551, 0.9989567031820551, 0.9989567031820551, 0.9993386243386243, 0.9993386243386243, 0.9993386243386243, 0.9993386243386243, 0.9993386243386243, 0.9993386243386243, 0.9993386243386243, 0.9993386243386243, 1.0, 1.0]}], \"recall_score_weighted\": [{\"categories\": [\"0\", \"1\", \"2\", \"3\", \"4\", \"5\", \"6\", \"7\", \"8\", \"9\", \"10\", \"11\", \"12\", \"13\", \"14\", \"15\", \"16\", \"17\", \"18\", \"19\", \"20\", \"21\", \"22\", \"23\", \"24\", \"25\", \"26\", \"27\", \"28\", \"29\", \"30\", \"31\", \"32\", \"33\", \"34\", \"35\", \"36\", \"37\"], \"mode\": \"markers\", \"name\": \"recall_score_weighted\", \"stepped\": false, \"type\": \"scatter\", \"data\": [0.9859806990088681, 0.9767214397496088, 0.9299687010954617, 0.9112545644235786, 0.9765258215962441, 0.9017344809598331, 0.8879107981220656, 0.8318335941575379, 0.9766562336984873, 0.9345331246739698, 0.8736306729264477, 0.9766562336984873, 0.9813510693792384, 0.8035993740219092, 0.8598721961398018, 0.8782603025560771, 0.957942097026604, 0.9346635367762128, 0.8784559207094418, 0.8596765779864372, 0.8971700573813249, 0.9535080855503391, 0.9392279603547209, 0.9672665623369849, 0.9625065206051122, 0.9767214397496088, 0.9767214397496088, 0.9766562336984873, 0.9813510693792384, 0.9812206572769954, 0.7012910798122065, 0.9766562336984873, 0.9720266040688577, 0.9581377151799687, 0.9345983307250912, 0.9767214397496088, 0.9906755346896192, 0.9860459050599896]}, {\"categories\": [\"0\", \"1\", \"2\", \"3\", \"4\", \"5\", \"6\", \"7\", \"8\", \"9\", \"10\", \"11\", \"12\", \"13\", \"14\", \"15\", \"16\", \"17\", \"18\", \"19\", \"20\", \"21\", \"22\", \"23\", \"24\", \"25\", \"26\", \"27\", \"28\", \"29\", \"30\", \"31\", \"32\", \"33\", \"34\", \"35\", \"36\", \"37\"], \"mode\": \"lines\", \"name\": \"recall_score_weighted_max\", \"stepped\": true, \"type\": \"scatter\", \"data\": [0.9859806990088681, 0.9859806990088681, 0.9859806990088681, 0.9859806990088681, 0.9859806990088681, 0.9859806990088681, 0.9859806990088681, 0.9859806990088681, 0.9859806990088681, 0.9859806990088681, 0.9859806990088681, 0.9859806990088681, 0.9859806990088681, 0.9859806990088681, 0.9859806990088681, 0.9859806990088681, 0.9859806990088681, 0.9859806990088681, 0.9859806990088681, 0.9859806990088681, 0.9859806990088681, 0.9859806990088681, 0.9859806990088681, 0.9859806990088681, 0.9859806990088681, 0.9859806990088681, 0.9859806990088681, 0.9859806990088681, 0.9859806990088681, 0.9859806990088681, 0.9859806990088681, 0.9859806990088681, 0.9859806990088681, 0.9859806990088681, 0.9859806990088681, 0.9859806990088681, 0.9906755346896192, 0.9906755346896192]}], \"recall_score_macro\": [{\"categories\": [\"0\", \"1\", \"2\", \"3\", \"4\", \"5\", \"6\", \"7\", \"8\", \"9\", \"10\", \"11\", \"12\", \"13\", \"14\", \"15\", \"16\", \"17\", \"18\", \"19\", \"20\", \"21\", \"22\", \"23\", \"24\", \"25\", \"26\", \"27\", \"28\", \"29\", \"30\", \"31\", \"32\", \"33\", \"34\", \"35\", \"36\", \"37\"], \"mode\": \"markers\", \"name\": \"recall_score_macro\", \"stepped\": false, \"type\": \"scatter\", \"data\": [0.974867724867725, 0.9683313868096478, 0.9125999805347632, 0.7843163277945887, 0.9543650793650794, 0.8316035816035815, 0.784621578099839, 0.682184663162924, 0.9643631328413939, 0.8672935357717967, 0.7002442002442001, 0.9585633770416379, 0.966499884978146, 0.5755262249827466, 0.6181849551414769, 0.6964285714285715, 0.9430464865247474, 0.8994731114296332, 0.7020757020757019, 0.6668701668701669, 0.8463097892445718, 0.9302016421581639, 0.9496591371591373, 0.9528897028897029, 0.9641839641839643, 0.9685846560846562, 0.962531631009892, 0.9643631328413939, 0.9722996407779018, 0.9798534798534799, 0.3965489019836846, 0.9643631328413939, 0.9551038735821346, 0.9310643060643061, 0.7896825396825399, 0.9631930066712676, 0.9828042328042329, 0.9803887738670348]}, {\"categories\": [\"0\", \"1\", \"2\", \"3\", \"4\", \"5\", \"6\", \"7\", \"8\", \"9\", \"10\", \"11\", \"12\", \"13\", \"14\", \"15\", \"16\", \"17\", \"18\", \"19\", \"20\", \"21\", \"22\", \"23\", \"24\", \"25\", \"26\", \"27\", \"28\", \"29\", \"30\", \"31\", \"32\", \"33\", \"34\", \"35\", \"36\", \"37\"], \"mode\": \"lines\", \"name\": \"recall_score_macro_max\", \"stepped\": true, \"type\": \"scatter\", \"data\": [0.974867724867725, 0.974867724867725, 0.974867724867725, 0.974867724867725, 0.974867724867725, 0.974867724867725, 0.974867724867725, 0.974867724867725, 0.974867724867725, 0.974867724867725, 0.974867724867725, 0.974867724867725, 0.974867724867725, 0.974867724867725, 0.974867724867725, 0.974867724867725, 0.974867724867725, 0.974867724867725, 0.974867724867725, 0.974867724867725, 0.974867724867725, 0.974867724867725, 0.974867724867725, 0.974867724867725, 0.974867724867725, 0.974867724867725, 0.974867724867725, 0.974867724867725, 0.974867724867725, 0.9798534798534799, 0.9798534798534799, 0.9798534798534799, 0.9798534798534799, 0.9798534798534799, 0.9798534798534799, 0.9798534798534799, 0.9828042328042329, 0.9828042328042329]}], \"average_precision_score_micro\": [{\"categories\": [\"0\", \"1\", \"2\", \"3\", \"4\", \"5\", \"6\", \"7\", \"8\", \"9\", \"10\", \"11\", \"12\", \"13\", \"14\", \"15\", \"16\", \"17\", \"18\", \"19\", \"20\", \"21\", \"22\", \"23\", \"24\", \"25\", \"26\", \"27\", \"28\", \"29\", \"30\", \"31\", \"32\", \"33\", \"34\", \"35\", \"36\", \"37\"], \"mode\": \"markers\", \"name\": \"average_precision_score_micro\", \"stepped\": false, \"type\": \"scatter\", \"data\": [0.998285584448405, 0.9895846595136386, 0.9781600146203914, 0.9746468240239343, 0.9952448115351237, 0.9706130888905377, 0.9595945090989036, 0.901420412428294, 0.994860090114987, 0.9812528847438262, 0.9458565458204741, 0.9964573304776217, 0.9707465401853342, 0.8981050454198254, 0.9220764043570537, 0.9640782418296364, 0.982413331246196, 0.9865930529595244, 0.9621044380568827, 0.9464013427634935, 0.9497737159709736, 0.993203988065397, 0.9767670723818708, 0.9933087540809881, 0.9911967246371276, 0.9951587872826635, 0.9929919561533708, 0.9899065963759859, 0.9986168050879601, 0.9978777574574661, 0.7845619067623734, 0.9954326021033036, 0.9887288967627711, 0.9901154182270222, 0.9814365790320329, 0.995805207216179, 0.9995557643219951, 0.9968490054019918]}, {\"categories\": [\"0\", \"1\", \"2\", \"3\", \"4\", \"5\", \"6\", \"7\", \"8\", \"9\", \"10\", \"11\", \"12\", \"13\", \"14\", \"15\", \"16\", \"17\", \"18\", \"19\", \"20\", \"21\", \"22\", \"23\", \"24\", \"25\", \"26\", \"27\", \"28\", \"29\", \"30\", \"31\", \"32\", \"33\", \"34\", \"35\", \"36\", \"37\"], \"mode\": \"lines\", \"name\": \"average_precision_score_micro_max\", \"stepped\": true, \"type\": \"scatter\", \"data\": [0.998285584448405, 0.998285584448405, 0.998285584448405, 0.998285584448405, 0.998285584448405, 0.998285584448405, 0.998285584448405, 0.998285584448405, 0.998285584448405, 0.998285584448405, 0.998285584448405, 0.998285584448405, 0.998285584448405, 0.998285584448405, 0.998285584448405, 0.998285584448405, 0.998285584448405, 0.998285584448405, 0.998285584448405, 0.998285584448405, 0.998285584448405, 0.998285584448405, 0.998285584448405, 0.998285584448405, 0.998285584448405, 0.998285584448405, 0.998285584448405, 0.998285584448405, 0.9986168050879601, 0.9986168050879601, 0.9986168050879601, 0.9986168050879601, 0.9986168050879601, 0.9986168050879601, 0.9986168050879601, 0.9986168050879601, 0.9995557643219951, 0.9995557643219951]}], \"AUC_weighted\": [{\"categories\": [\"0\", \"1\", \"2\", \"3\", \"4\", \"5\", \"6\", \"7\", \"8\", \"9\", \"10\", \"11\", \"12\", \"13\", \"14\", \"15\", \"16\", \"17\", \"18\", \"19\", \"20\", \"21\", \"22\", \"23\", \"24\", \"25\", \"26\", \"27\", \"28\", \"29\", \"30\", \"31\", \"32\", \"33\", \"34\", \"35\", \"36\", \"37\"], \"mode\": \"markers\", \"name\": \"AUC_weighted\", \"stepped\": false, \"type\": \"scatter\", \"data\": [0.9998532863849765, 0.9969294946365704, 0.9934873375933629, 0.9933605968097058, 0.9992386699546323, 0.994260621659906, 0.9965165617851964, 0.9564659858127281, 0.9988905494857877, 0.9963357835387011, 0.9909248375792234, 0.9996250078778832, 0.9905064312704902, 0.988347308927158, 0.9954134062860445, 0.99790140178559, 0.997057400033157, 0.9992305191982421, 0.995239848273694, 0.995141058138593, 0.9812219359488578, 0.9992985409652076, 0.9964902102005975, 0.9982423085476753, 0.9991033673985551, 0.9988800860719874, 0.9989747345433724, 0.9970173675530818, 0.9999298540965208, 0.9994979134063641, 0.9850767151320201, 0.9991739961978058, 0.9938845211362857, 0.9981540759709774, 0.9971037467189937, 0.9993805273923483, 1.0, 0.9999266431924884]}, {\"categories\": [\"0\", \"1\", \"2\", \"3\", \"4\", \"5\", \"6\", \"7\", \"8\", \"9\", \"10\", \"11\", \"12\", \"13\", \"14\", \"15\", \"16\", \"17\", \"18\", \"19\", \"20\", \"21\", \"22\", \"23\", \"24\", \"25\", \"26\", \"27\", \"28\", \"29\", \"30\", \"31\", \"32\", \"33\", \"34\", \"35\", \"36\", \"37\"], \"mode\": \"lines\", \"name\": \"AUC_weighted_max\", \"stepped\": true, \"type\": \"scatter\", \"data\": [0.9998532863849765, 0.9998532863849765, 0.9998532863849765, 0.9998532863849765, 0.9998532863849765, 0.9998532863849765, 0.9998532863849765, 0.9998532863849765, 0.9998532863849765, 0.9998532863849765, 0.9998532863849765, 0.9998532863849765, 0.9998532863849765, 0.9998532863849765, 0.9998532863849765, 0.9998532863849765, 0.9998532863849765, 0.9998532863849765, 0.9998532863849765, 0.9998532863849765, 0.9998532863849765, 0.9998532863849765, 0.9998532863849765, 0.9998532863849765, 0.9998532863849765, 0.9998532863849765, 0.9998532863849765, 0.9998532863849765, 0.9999298540965208, 0.9999298540965208, 0.9999298540965208, 0.9999298540965208, 0.9999298540965208, 0.9999298540965208, 0.9999298540965208, 0.9999298540965208, 1.0, 1.0]}], \"norm_macro_recall\": [{\"categories\": [\"0\", \"1\", \"2\", \"3\", \"4\", \"5\", \"6\", \"7\", \"8\", \"9\", \"10\", \"11\", \"12\", \"13\", \"14\", \"15\", \"16\", \"17\", \"18\", \"19\", \"20\", \"21\", \"22\", \"23\", \"24\", \"25\", \"26\", \"27\", \"28\", \"29\", \"30\", \"31\", \"32\", \"33\", \"34\", \"35\", \"36\", \"37\"], \"mode\": \"markers\", \"name\": \"norm_macro_recall\", \"stepped\": false, \"type\": \"scatter\", \"data\": [0.96984126984127, 0.9619976641715772, 0.8951199766417157, 0.7411795933535065, 0.9452380952380953, 0.7979242979242979, 0.7415458937198066, 0.6186215957955088, 0.9572357594096724, 0.8407522429261561, 0.6402930402930402, 0.9502760524499655, 0.959799861973775, 0.490631469979296, 0.5418219461697723, 0.6357142857142858, 0.9316557838296969, 0.8793677337155598, 0.6424908424908424, 0.6002442002442003, 0.8155717470934863, 0.9162419705897968, 0.9395909645909647, 0.9434676434676436, 0.9570207570207572, 0.9623015873015874, 0.9550379572118702, 0.9572357594096724, 0.9667595689334819, 0.9758241758241759, 0.27585868238042155, 0.9572357594096724, 0.9461246482985614, 0.9172771672771675, 0.7476190476190476, 0.955831608005521, 0.9793650793650794, 0.9764665286404416]}, {\"categories\": [\"0\", \"1\", \"2\", \"3\", \"4\", \"5\", \"6\", \"7\", \"8\", \"9\", \"10\", \"11\", \"12\", \"13\", \"14\", \"15\", \"16\", \"17\", \"18\", \"19\", \"20\", \"21\", \"22\", \"23\", \"24\", \"25\", \"26\", \"27\", \"28\", \"29\", \"30\", \"31\", \"32\", \"33\", \"34\", \"35\", \"36\", \"37\"], \"mode\": \"lines\", \"name\": \"norm_macro_recall_max\", \"stepped\": true, \"type\": \"scatter\", \"data\": [0.96984126984127, 0.96984126984127, 0.96984126984127, 0.96984126984127, 0.96984126984127, 0.96984126984127, 0.96984126984127, 0.96984126984127, 0.96984126984127, 0.96984126984127, 0.96984126984127, 0.96984126984127, 0.96984126984127, 0.96984126984127, 0.96984126984127, 0.96984126984127, 0.96984126984127, 0.96984126984127, 0.96984126984127, 0.96984126984127, 0.96984126984127, 0.96984126984127, 0.96984126984127, 0.96984126984127, 0.96984126984127, 0.96984126984127, 0.96984126984127, 0.96984126984127, 0.96984126984127, 0.9758241758241759, 0.9758241758241759, 0.9758241758241759, 0.9758241758241759, 0.9758241758241759, 0.9758241758241759, 0.9758241758241759, 0.9793650793650794, 0.9793650793650794]}], \"balanced_accuracy\": [{\"categories\": [\"0\", \"1\", \"2\", \"3\", \"4\", \"5\", \"6\", \"7\", \"8\", \"9\", \"10\", \"11\", \"12\", \"13\", \"14\", \"15\", \"16\", \"17\", \"18\", \"19\", \"20\", \"21\", \"22\", \"23\", \"24\", \"25\", \"26\", \"27\", \"28\", \"29\", \"30\", \"31\", \"32\", \"33\", \"34\", \"35\", \"36\", \"37\"], \"mode\": \"markers\", \"name\": \"balanced_accuracy\", \"stepped\": false, \"type\": \"scatter\", \"data\": [0.974867724867725, 0.9683313868096478, 0.9125999805347632, 0.7843163277945887, 0.9543650793650794, 0.8316035816035815, 0.784621578099839, 0.682184663162924, 0.9643631328413939, 0.8672935357717967, 0.7002442002442001, 0.9585633770416379, 0.966499884978146, 0.5755262249827466, 0.6181849551414769, 0.6964285714285715, 0.9430464865247474, 0.8994731114296332, 0.7020757020757019, 0.6668701668701669, 0.8463097892445718, 0.9302016421581639, 0.9496591371591373, 0.9528897028897029, 0.9641839641839643, 0.9685846560846562, 0.962531631009892, 0.9643631328413939, 0.9722996407779018, 0.9798534798534799, 0.3965489019836846, 0.9643631328413939, 0.9551038735821346, 0.9310643060643061, 0.7896825396825399, 0.9631930066712676, 0.9828042328042329, 0.9803887738670348]}, {\"categories\": [\"0\", \"1\", \"2\", \"3\", \"4\", \"5\", \"6\", \"7\", \"8\", \"9\", \"10\", \"11\", \"12\", \"13\", \"14\", \"15\", \"16\", \"17\", \"18\", \"19\", \"20\", \"21\", \"22\", \"23\", \"24\", \"25\", \"26\", \"27\", \"28\", \"29\", \"30\", \"31\", \"32\", \"33\", \"34\", \"35\", \"36\", \"37\"], \"mode\": \"lines\", \"name\": \"balanced_accuracy_max\", \"stepped\": true, \"type\": \"scatter\", \"data\": [0.974867724867725, 0.974867724867725, 0.974867724867725, 0.974867724867725, 0.974867724867725, 0.974867724867725, 0.974867724867725, 0.974867724867725, 0.974867724867725, 0.974867724867725, 0.974867724867725, 0.974867724867725, 0.974867724867725, 0.974867724867725, 0.974867724867725, 0.974867724867725, 0.974867724867725, 0.974867724867725, 0.974867724867725, 0.974867724867725, 0.974867724867725, 0.974867724867725, 0.974867724867725, 0.974867724867725, 0.974867724867725, 0.974867724867725, 0.974867724867725, 0.974867724867725, 0.974867724867725, 0.9798534798534799, 0.9798534798534799, 0.9798534798534799, 0.9798534798534799, 0.9798534798534799, 0.9798534798534799, 0.9798534798534799, 0.9828042328042329, 0.9828042328042329]}], \"weighted_accuracy\": [{\"categories\": [\"0\", \"1\", \"2\", \"3\", \"4\", \"5\", \"6\", \"7\", \"8\", \"9\", \"10\", \"11\", \"12\", \"13\", \"14\", \"15\", \"16\", \"17\", \"18\", \"19\", \"20\", \"21\", \"22\", \"23\", \"24\", \"25\", \"26\", \"27\", \"28\", \"29\", \"30\", \"31\", \"32\", \"33\", \"34\", \"35\", \"36\", \"37\"], \"mode\": \"markers\", \"name\": \"weighted_accuracy\", \"stepped\": false, \"type\": \"scatter\", \"data\": [0.9950835497565858, 0.98211739423094, 0.943672259518937, 0.9598489776427334, 0.9920099875156055, 0.9289781843556003, 0.9501744956668711, 0.9027641634989282, 0.9838263691234355, 0.9738163461014776, 0.9578257895875515, 0.9883451241503676, 0.9900929393813289, 0.9168979002807106, 0.9543624819421613, 0.9650237516432972, 0.9717296317660287, 0.9555098065234797, 0.9558344308707873, 0.9450130696475152, 0.9220897534384743, 0.9702461222098552, 0.9374161305357939, 0.981803897213323, 0.9632394069957745, 0.9857008337072032, 0.986636149257872, 0.9838263691234355, 0.9855741843543967, 0.9839712290222904, 0.854938683839705, 0.9838263691234355, 0.9823448876419539, 0.9781473567777564, 0.9849687288334749, 0.9878623942294354, 0.9967707032875571, 0.9910916909418782]}, {\"categories\": [\"0\", \"1\", \"2\", \"3\", \"4\", \"5\", \"6\", \"7\", \"8\", \"9\", \"10\", \"11\", \"12\", \"13\", \"14\", \"15\", \"16\", \"17\", \"18\", \"19\", \"20\", \"21\", \"22\", \"23\", \"24\", \"25\", \"26\", \"27\", \"28\", \"29\", \"30\", \"31\", \"32\", \"33\", \"34\", \"35\", \"36\", \"37\"], \"mode\": \"lines\", \"name\": \"weighted_accuracy_max\", \"stepped\": true, \"type\": \"scatter\", \"data\": [0.9950835497565858, 0.9950835497565858, 0.9950835497565858, 0.9950835497565858, 0.9950835497565858, 0.9950835497565858, 0.9950835497565858, 0.9950835497565858, 0.9950835497565858, 0.9950835497565858, 0.9950835497565858, 0.9950835497565858, 0.9950835497565858, 0.9950835497565858, 0.9950835497565858, 0.9950835497565858, 0.9950835497565858, 0.9950835497565858, 0.9950835497565858, 0.9950835497565858, 0.9950835497565858, 0.9950835497565858, 0.9950835497565858, 0.9950835497565858, 0.9950835497565858, 0.9950835497565858, 0.9950835497565858, 0.9950835497565858, 0.9950835497565858, 0.9950835497565858, 0.9950835497565858, 0.9950835497565858, 0.9950835497565858, 0.9950835497565858, 0.9950835497565858, 0.9950835497565858, 0.9967707032875571, 0.9967707032875571]}], \"average_precision_score_macro\": [{\"categories\": [\"0\", \"1\", \"2\", \"3\", \"4\", \"5\", \"6\", \"7\", \"8\", \"9\", \"10\", \"11\", \"12\", \"13\", \"14\", \"15\", \"16\", \"17\", \"18\", \"19\", \"20\", \"21\", \"22\", \"23\", \"24\", \"25\", \"26\", \"27\", \"28\", \"29\", \"30\", \"31\", \"32\", \"33\", \"34\", \"35\", \"36\", \"37\"], \"mode\": \"markers\", \"name\": \"average_precision_score_macro\", \"stepped\": false, \"type\": \"scatter\", \"data\": [0.998236331569665, 0.9864792442432192, 0.958682475259821, 0.9633156685338862, 0.9909733931559329, 0.9768914989610069, 0.9859320222907648, 0.8712502329105408, 0.9978957766681552, 0.9652989505670372, 0.8921629186510138, 0.9940351583467525, 0.9658214998100673, 0.9505691694803585, 0.9606447354770368, 0.9788684628483478, 0.9744520030234315, 0.9972074576617017, 0.9505634572369236, 0.9579058355430901, 0.9359405931093524, 0.9886153198653198, 0.9735052122700932, 0.9854254063442097, 0.9912460436727836, 0.9940989417170916, 0.9906274035501089, 0.9954574605241012, 0.9986772486772487, 0.9960908828430196, 0.8514048122335162, 0.9980539044353911, 0.981205282128102, 0.9806344118844118, 0.9168886999244142, 0.9935677862127137, 1.0, 0.9990079365079364]}, {\"categories\": [\"0\", \"1\", \"2\", \"3\", \"4\", \"5\", \"6\", \"7\", \"8\", \"9\", \"10\", \"11\", \"12\", \"13\", \"14\", \"15\", \"16\", \"17\", \"18\", \"19\", \"20\", \"21\", \"22\", \"23\", \"24\", \"25\", \"26\", \"27\", \"28\", \"29\", \"30\", \"31\", \"32\", \"33\", \"34\", \"35\", \"36\", \"37\"], \"mode\": \"lines\", \"name\": \"average_precision_score_macro_max\", \"stepped\": true, \"type\": \"scatter\", \"data\": [0.998236331569665, 0.998236331569665, 0.998236331569665, 0.998236331569665, 0.998236331569665, 0.998236331569665, 0.998236331569665, 0.998236331569665, 0.998236331569665, 0.998236331569665, 0.998236331569665, 0.998236331569665, 0.998236331569665, 0.998236331569665, 0.998236331569665, 0.998236331569665, 0.998236331569665, 0.998236331569665, 0.998236331569665, 0.998236331569665, 0.998236331569665, 0.998236331569665, 0.998236331569665, 0.998236331569665, 0.998236331569665, 0.998236331569665, 0.998236331569665, 0.998236331569665, 0.9986772486772487, 0.9986772486772487, 0.9986772486772487, 0.9986772486772487, 0.9986772486772487, 0.9986772486772487, 0.9986772486772487, 0.9986772486772487, 1.0, 1.0]}], \"log_loss\": [{\"categories\": [\"0\", \"1\", \"2\", \"3\", \"4\", \"5\", \"6\", \"7\", \"8\", \"9\", \"10\", \"11\", \"12\", \"13\", \"14\", \"15\", \"16\", \"17\", \"18\", \"19\", \"20\", \"21\", \"22\", \"23\", \"24\", \"25\", \"26\", \"27\", \"28\", \"29\", \"30\", \"31\", \"32\", \"33\", \"34\", \"35\", \"36\", \"37\"], \"mode\": \"markers\", \"name\": \"log_loss\", \"stepped\": false, \"type\": \"scatter\", \"data\": [0.05052477660946019, 0.11885166957915749, 0.475019101823037, 0.5634903128847601, 0.25222951224667906, 0.3394934473600009, 0.5389919393607944, 0.6217055502032892, 0.09422286075846298, 0.3080532225583774, 0.45589476599670836, 0.21958912486837587, 0.5782055311872815, 0.7653055130664521, 0.8131755819653836, 0.4902318976429358, 0.3759210279003245, 0.4033721953024525, 0.48601451118673394, 0.6630969706819818, 0.9447042458793516, 0.37245648195666786, 0.4275981321591836, 0.3391047157240787, 0.32015255518942026, 0.12972491049191062, 0.16329510104534437, 0.14735739255643185, 0.08388691080285238, 0.1211914671926958, 1.2225245104507783, 0.0872135386058897, 0.19639404400702798, 0.16718676232350468, 0.30739096198310534, 0.3370402462117354, 0.17174619342267705, 0.13149817081416768]}, {\"categories\": [\"0\", \"1\", \"2\", \"3\", \"4\", \"5\", \"6\", \"7\", \"8\", \"9\", \"10\", \"11\", \"12\", \"13\", \"14\", \"15\", \"16\", \"17\", \"18\", \"19\", \"20\", \"21\", \"22\", \"23\", \"24\", \"25\", \"26\", \"27\", \"28\", \"29\", \"30\", \"31\", \"32\", \"33\", \"34\", \"35\", \"36\", \"37\"], \"mode\": \"lines\", \"name\": \"log_loss_min\", \"stepped\": true, \"type\": \"scatter\", \"data\": [0.05052477660946019, 0.05052477660946019, 0.05052477660946019, 0.05052477660946019, 0.05052477660946019, 0.05052477660946019, 0.05052477660946019, 0.05052477660946019, 0.05052477660946019, 0.05052477660946019, 0.05052477660946019, 0.05052477660946019, 0.05052477660946019, 0.05052477660946019, 0.05052477660946019, 0.05052477660946019, 0.05052477660946019, 0.05052477660946019, 0.05052477660946019, 0.05052477660946019, 0.05052477660946019, 0.05052477660946019, 0.05052477660946019, 0.05052477660946019, 0.05052477660946019, 0.05052477660946019, 0.05052477660946019, 0.05052477660946019, 0.05052477660946019, 0.05052477660946019, 0.05052477660946019, 0.05052477660946019, 0.05052477660946019, 0.05052477660946019, 0.05052477660946019, 0.05052477660946019, 0.05052477660946019, 0.05052477660946019]}], \"AUC_macro\": [{\"categories\": [\"0\", \"1\", \"2\", \"3\", \"4\", \"5\", \"6\", \"7\", \"8\", \"9\", \"10\", \"11\", \"12\", \"13\", \"14\", \"15\", \"16\", \"17\", \"18\", \"19\", \"20\", \"21\", \"22\", \"23\", \"24\", \"25\", \"26\", \"27\", \"28\", \"29\", \"30\", \"31\", \"32\", \"33\", \"34\", \"35\", \"36\", \"37\"], \"mode\": \"markers\", \"name\": \"AUC_macro\", \"stepped\": false, \"type\": \"scatter\", \"data\": [0.9997519841269842, 0.9977665438522063, 0.9907529968887233, 0.9910582420512273, 0.9988201613201614, 0.9958268248992238, 0.9953463007525203, 0.9560469384212431, 0.9993174623091807, 0.9948771478619483, 0.985572853207739, 0.9993225326496856, 0.9905722774608644, 0.9907223325817062, 0.9911950406010437, 0.9963790833038345, 0.9960678077775779, 0.9994507999716333, 0.9879090361846302, 0.994144549636314, 0.9779459187986759, 0.9985970819304152, 0.994535971358888, 0.9972864260579778, 0.9988492024950358, 0.9984934625559626, 0.9985776297498336, 0.9982448430623897, 0.9998597081930415, 0.9994090014923348, 0.9797741203888185, 0.9994653475502336, 0.9953469212554342, 0.997134501301168, 0.9915911333501691, 0.9991085106088988, 1.0, 0.9998759920634921]}, {\"categories\": [\"0\", \"1\", \"2\", \"3\", \"4\", \"5\", \"6\", \"7\", \"8\", \"9\", \"10\", \"11\", \"12\", \"13\", \"14\", \"15\", \"16\", \"17\", \"18\", \"19\", \"20\", \"21\", \"22\", \"23\", \"24\", \"25\", \"26\", \"27\", \"28\", \"29\", \"30\", \"31\", \"32\", \"33\", \"34\", \"35\", \"36\", \"37\"], \"mode\": \"lines\", \"name\": \"AUC_macro_max\", \"stepped\": true, \"type\": \"scatter\", \"data\": [0.9997519841269842, 0.9997519841269842, 0.9997519841269842, 0.9997519841269842, 0.9997519841269842, 0.9997519841269842, 0.9997519841269842, 0.9997519841269842, 0.9997519841269842, 0.9997519841269842, 0.9997519841269842, 0.9997519841269842, 0.9997519841269842, 0.9997519841269842, 0.9997519841269842, 0.9997519841269842, 0.9997519841269842, 0.9997519841269842, 0.9997519841269842, 0.9997519841269842, 0.9997519841269842, 0.9997519841269842, 0.9997519841269842, 0.9997519841269842, 0.9997519841269842, 0.9997519841269842, 0.9997519841269842, 0.9997519841269842, 0.9998597081930415, 0.9998597081930415, 0.9998597081930415, 0.9998597081930415, 0.9998597081930415, 0.9998597081930415, 0.9998597081930415, 0.9998597081930415, 1.0, 1.0]}], \"precision_score_weighted\": [{\"categories\": [\"0\", \"1\", \"2\", \"3\", \"4\", \"5\", \"6\", \"7\", \"8\", \"9\", \"10\", \"11\", \"12\", \"13\", \"14\", \"15\", \"16\", \"17\", \"18\", \"19\", \"20\", \"21\", \"22\", \"23\", \"24\", \"25\", \"26\", \"27\", \"28\", \"29\", \"30\", \"31\", \"32\", \"33\", \"34\", \"35\", \"36\", \"37\"], \"mode\": \"markers\", \"name\": \"precision_score_weighted\", \"stepped\": false, \"type\": \"scatter\", \"data\": [0.9884856981394541, 0.9807809511389323, 0.9407753835453364, 0.9192593834612613, 0.9757607372630847, 0.9115719499375604, 0.9043007948126833, 0.8133931435051484, 0.9796985306903147, 0.9415849192644158, 0.8577995470014249, 0.9787595635541644, 0.9834543992349157, 0.73468534386395, 0.7935664531853429, 0.8726141493583989, 0.9593029305940104, 0.9438967136150235, 0.8334761076673843, 0.8207247266954975, 0.9098016965136927, 0.9614733605813418, 0.9647551978537893, 0.9716494957398712, 0.9711547991653626, 0.9784195139975657, 0.978824769605286, 0.9796985306903147, 0.9838673708920186, 0.98216918796731, 0.5556830211706252, 0.9796985306903147, 0.9776151973569814, 0.9746499987579799, 0.9052164840897235, 0.9817231785776387, 0.9920068249000175, 0.9875623804555729]}, {\"categories\": [\"0\", \"1\", \"2\", \"3\", \"4\", \"5\", \"6\", \"7\", \"8\", \"9\", \"10\", \"11\", \"12\", \"13\", \"14\", \"15\", \"16\", \"17\", \"18\", \"19\", \"20\", \"21\", \"22\", \"23\", \"24\", \"25\", \"26\", \"27\", \"28\", \"29\", \"30\", \"31\", \"32\", \"33\", \"34\", \"35\", \"36\", \"37\"], \"mode\": \"lines\", \"name\": \"precision_score_weighted_max\", \"stepped\": true, \"type\": \"scatter\", \"data\": [0.9884856981394541, 0.9884856981394541, 0.9884856981394541, 0.9884856981394541, 0.9884856981394541, 0.9884856981394541, 0.9884856981394541, 0.9884856981394541, 0.9884856981394541, 0.9884856981394541, 0.9884856981394541, 0.9884856981394541, 0.9884856981394541, 0.9884856981394541, 0.9884856981394541, 0.9884856981394541, 0.9884856981394541, 0.9884856981394541, 0.9884856981394541, 0.9884856981394541, 0.9884856981394541, 0.9884856981394541, 0.9884856981394541, 0.9884856981394541, 0.9884856981394541, 0.9884856981394541, 0.9884856981394541, 0.9884856981394541, 0.9884856981394541, 0.9884856981394541, 0.9884856981394541, 0.9884856981394541, 0.9884856981394541, 0.9884856981394541, 0.9884856981394541, 0.9884856981394541, 0.9920068249000175, 0.9920068249000175]}], \"f1_score_micro\": [{\"categories\": [\"0\", \"1\", \"2\", \"3\", \"4\", \"5\", \"6\", \"7\", \"8\", \"9\", \"10\", \"11\", \"12\", \"13\", \"14\", \"15\", \"16\", \"17\", \"18\", \"19\", \"20\", \"21\", \"22\", \"23\", \"24\", \"25\", \"26\", \"27\", \"28\", \"29\", \"30\", \"31\", \"32\", \"33\", \"34\", \"35\", \"36\", \"37\"], \"mode\": \"markers\", \"name\": \"f1_score_micro\", \"stepped\": false, \"type\": \"scatter\", \"data\": [0.9859806990088681, 0.9767214397496088, 0.9299687010954617, 0.9112545644235786, 0.9765258215962441, 0.9017344809598331, 0.8879107981220656, 0.8318335941575378, 0.9766562336984873, 0.9345331246739698, 0.8736306729264477, 0.9766562336984873, 0.9813510693792384, 0.8035993740219092, 0.8598721961398018, 0.8782603025560771, 0.957942097026604, 0.9346635367762128, 0.8784559207094418, 0.8596765779864372, 0.8971700573813249, 0.9535080855503391, 0.9392279603547209, 0.9672665623369849, 0.9625065206051122, 0.9767214397496088, 0.9767214397496088, 0.9766562336984873, 0.9813510693792384, 0.9812206572769954, 0.7012910798122066, 0.9766562336984873, 0.9720266040688577, 0.9581377151799687, 0.9345983307250912, 0.9767214397496088, 0.9906755346896192, 0.9860459050599896]}, {\"categories\": [\"0\", \"1\", \"2\", \"3\", \"4\", \"5\", \"6\", \"7\", \"8\", \"9\", \"10\", \"11\", \"12\", \"13\", \"14\", \"15\", \"16\", \"17\", \"18\", \"19\", \"20\", \"21\", \"22\", \"23\", \"24\", \"25\", \"26\", \"27\", \"28\", \"29\", \"30\", \"31\", \"32\", \"33\", \"34\", \"35\", \"36\", \"37\"], \"mode\": \"lines\", \"name\": \"f1_score_micro_max\", \"stepped\": true, \"type\": \"scatter\", \"data\": [0.9859806990088681, 0.9859806990088681, 0.9859806990088681, 0.9859806990088681, 0.9859806990088681, 0.9859806990088681, 0.9859806990088681, 0.9859806990088681, 0.9859806990088681, 0.9859806990088681, 0.9859806990088681, 0.9859806990088681, 0.9859806990088681, 0.9859806990088681, 0.9859806990088681, 0.9859806990088681, 0.9859806990088681, 0.9859806990088681, 0.9859806990088681, 0.9859806990088681, 0.9859806990088681, 0.9859806990088681, 0.9859806990088681, 0.9859806990088681, 0.9859806990088681, 0.9859806990088681, 0.9859806990088681, 0.9859806990088681, 0.9859806990088681, 0.9859806990088681, 0.9859806990088681, 0.9859806990088681, 0.9859806990088681, 0.9859806990088681, 0.9859806990088681, 0.9859806990088681, 0.9906755346896192, 0.9906755346896192]}], \"matthews_correlation\": [{\"categories\": [\"0\", \"1\", \"2\", \"3\", \"4\", \"5\", \"6\", \"7\", \"8\", \"9\", \"10\", \"11\", \"12\", \"13\", \"14\", \"15\", \"16\", \"17\", \"18\", \"19\", \"20\", \"21\", \"22\", \"23\", \"24\", \"25\", \"26\", \"27\", \"28\", \"29\", \"30\", \"31\", \"32\", \"33\", \"34\", \"35\", \"36\", \"37\"], \"mode\": \"markers\", \"name\": \"matthews_correlation\", \"stepped\": false, \"type\": \"scatter\", \"data\": [0.9811316018959584, 0.9688894814203612, 0.9062871266928357, 0.8800958006594349, 0.9681804794173446, 0.8704681768949936, 0.8494800858052819, 0.7698464218939366, 0.9686520161831232, 0.9119013339322205, 0.8295859450507308, 0.9686588402250035, 0.9749868618780426, 0.732388062125242, 0.8153292496954304, 0.8373891922849714, 0.9431146774919953, 0.9133680631218201, 0.8379249416303707, 0.8101222657229488, 0.8612827957229499, 0.9386348842917208, 0.9221505769366208, 0.9561099099498507, 0.9506676980219799, 0.9686220397391113, 0.9687665045459976, 0.9686520161831232, 0.9750080535427065, 0.9746533347707848, 0.5964937463417438, 0.9686520161831232, 0.9626530594799411, 0.9452958712203969, 0.9127061010349683, 0.9690929477845439, 0.9875049784168884, 0.9813288760706488]}, {\"categories\": [\"0\", \"1\", \"2\", \"3\", \"4\", \"5\", \"6\", \"7\", \"8\", \"9\", \"10\", \"11\", \"12\", \"13\", \"14\", \"15\", \"16\", \"17\", \"18\", \"19\", \"20\", \"21\", \"22\", \"23\", \"24\", \"25\", \"26\", \"27\", \"28\", \"29\", \"30\", \"31\", \"32\", \"33\", \"34\", \"35\", \"36\", \"37\"], \"mode\": \"lines\", \"name\": \"matthews_correlation_max\", \"stepped\": true, \"type\": \"scatter\", \"data\": [0.9811316018959584, 0.9811316018959584, 0.9811316018959584, 0.9811316018959584, 0.9811316018959584, 0.9811316018959584, 0.9811316018959584, 0.9811316018959584, 0.9811316018959584, 0.9811316018959584, 0.9811316018959584, 0.9811316018959584, 0.9811316018959584, 0.9811316018959584, 0.9811316018959584, 0.9811316018959584, 0.9811316018959584, 0.9811316018959584, 0.9811316018959584, 0.9811316018959584, 0.9811316018959584, 0.9811316018959584, 0.9811316018959584, 0.9811316018959584, 0.9811316018959584, 0.9811316018959584, 0.9811316018959584, 0.9811316018959584, 0.9811316018959584, 0.9811316018959584, 0.9811316018959584, 0.9811316018959584, 0.9811316018959584, 0.9811316018959584, 0.9811316018959584, 0.9811316018959584, 0.9875049784168884, 0.9875049784168884]}], \"precision_score_micro\": [{\"categories\": [\"0\", \"1\", \"2\", \"3\", \"4\", \"5\", \"6\", \"7\", \"8\", \"9\", \"10\", \"11\", \"12\", \"13\", \"14\", \"15\", \"16\", \"17\", \"18\", \"19\", \"20\", \"21\", \"22\", \"23\", \"24\", \"25\", \"26\", \"27\", \"28\", \"29\", \"30\", \"31\", \"32\", \"33\", \"34\", \"35\", \"36\", \"37\"], \"mode\": \"markers\", \"name\": \"precision_score_micro\", \"stepped\": false, \"type\": \"scatter\", \"data\": [0.9859806990088681, 0.9767214397496088, 0.9299687010954617, 0.9112545644235786, 0.9765258215962441, 0.9017344809598331, 0.8879107981220656, 0.8318335941575379, 0.9766562336984873, 0.9345331246739698, 0.8736306729264477, 0.9766562336984873, 0.9813510693792384, 0.8035993740219092, 0.8598721961398018, 0.8782603025560771, 0.957942097026604, 0.9346635367762128, 0.8784559207094418, 0.8596765779864372, 0.8971700573813249, 0.9535080855503391, 0.9392279603547209, 0.9672665623369849, 0.9625065206051122, 0.9767214397496088, 0.9767214397496088, 0.9766562336984873, 0.9813510693792384, 0.9812206572769954, 0.7012910798122065, 0.9766562336984873, 0.9720266040688577, 0.9581377151799687, 0.9345983307250912, 0.9767214397496088, 0.9906755346896192, 0.9860459050599896]}, {\"categories\": [\"0\", \"1\", \"2\", \"3\", \"4\", \"5\", \"6\", \"7\", \"8\", \"9\", \"10\", \"11\", \"12\", \"13\", \"14\", \"15\", \"16\", \"17\", \"18\", \"19\", \"20\", \"21\", \"22\", \"23\", \"24\", \"25\", \"26\", \"27\", \"28\", \"29\", \"30\", \"31\", \"32\", \"33\", \"34\", \"35\", \"36\", \"37\"], \"mode\": \"lines\", \"name\": \"precision_score_micro_max\", \"stepped\": true, \"type\": \"scatter\", \"data\": [0.9859806990088681, 0.9859806990088681, 0.9859806990088681, 0.9859806990088681, 0.9859806990088681, 0.9859806990088681, 0.9859806990088681, 0.9859806990088681, 0.9859806990088681, 0.9859806990088681, 0.9859806990088681, 0.9859806990088681, 0.9859806990088681, 0.9859806990088681, 0.9859806990088681, 0.9859806990088681, 0.9859806990088681, 0.9859806990088681, 0.9859806990088681, 0.9859806990088681, 0.9859806990088681, 0.9859806990088681, 0.9859806990088681, 0.9859806990088681, 0.9859806990088681, 0.9859806990088681, 0.9859806990088681, 0.9859806990088681, 0.9859806990088681, 0.9859806990088681, 0.9859806990088681, 0.9859806990088681, 0.9859806990088681, 0.9859806990088681, 0.9859806990088681, 0.9859806990088681, 0.9906755346896192, 0.9906755346896192]}]}, \"metricName\": null, \"primaryMetricName\": \"accuracy\", \"showLegend\": false}, \"run_metrics\": [{\"name\": \"experiment_status\", \"run_id\": \"AutoML_89b818da-96ca-4f06-81a5-999e5a71dd1a\", \"categories\": [0, 1, 2, 3, 4, 5, 6], \"series\": [{\"data\": [\"DatasetEvaluation\", \"FeaturesGeneration\", \"DatasetFeaturization\", \"DatasetFeaturizationCompleted\", \"DatasetBalancing\", \"DatasetCrossValidationSplit\", \"ModelSelection\"]}]}, {\"name\": \"experiment_status_description\", \"run_id\": \"AutoML_89b818da-96ca-4f06-81a5-999e5a71dd1a\", \"categories\": [0, 1, 2, 3, 4, 5, 6], \"series\": [{\"data\": [\"Gathering dataset statistics.\", \"Generating features for the dataset.\", \"Beginning to fit featurizers and featurize the dataset.\", \"Completed fit featurizers and featurizing the dataset.\", \"Performing class balancing sweeping\", \"Generating individually featurized CV splits.\", \"Beginning model selection.\"]}]}, {\"name\": \"precision_score_weighted\", \"run_id\": \"AutoML_89b818da-96ca-4f06-81a5-999e5a71dd1a\", \"categories\": [0], \"series\": [{\"data\": [0.9920068249000175]}]}, {\"name\": \"average_precision_score_macro\", \"run_id\": \"AutoML_89b818da-96ca-4f06-81a5-999e5a71dd1a\", \"categories\": [0], \"series\": [{\"data\": [1.0]}]}, {\"name\": \"f1_score_micro\", \"run_id\": \"AutoML_89b818da-96ca-4f06-81a5-999e5a71dd1a\", \"categories\": [0], \"series\": [{\"data\": [0.9906755346896192]}]}, {\"name\": \"balanced_accuracy\", \"run_id\": \"AutoML_89b818da-96ca-4f06-81a5-999e5a71dd1a\", \"categories\": [0], \"series\": [{\"data\": [0.9828042328042329]}]}, {\"name\": \"norm_macro_recall\", \"run_id\": \"AutoML_89b818da-96ca-4f06-81a5-999e5a71dd1a\", \"categories\": [0], \"series\": [{\"data\": [0.9793650793650794]}]}, {\"name\": \"recall_score_macro\", \"run_id\": \"AutoML_89b818da-96ca-4f06-81a5-999e5a71dd1a\", \"categories\": [0], \"series\": [{\"data\": [0.9828042328042329]}]}, {\"name\": \"log_loss\", \"run_id\": \"AutoML_89b818da-96ca-4f06-81a5-999e5a71dd1a\", \"categories\": [0], \"series\": [{\"data\": [0.17174619342267705]}]}, {\"name\": \"AUC_micro\", \"run_id\": \"AutoML_89b818da-96ca-4f06-81a5-999e5a71dd1a\", \"categories\": [0], \"series\": [{\"data\": [0.9999088850030572]}]}, {\"name\": \"precision_score_micro\", \"run_id\": \"AutoML_89b818da-96ca-4f06-81a5-999e5a71dd1a\", \"categories\": [0], \"series\": [{\"data\": [0.9906755346896192]}]}, {\"name\": \"f1_score_weighted\", \"run_id\": \"AutoML_89b818da-96ca-4f06-81a5-999e5a71dd1a\", \"categories\": [0], \"series\": [{\"data\": [0.990659505109412]}]}, {\"name\": \"matthews_correlation\", \"run_id\": \"AutoML_89b818da-96ca-4f06-81a5-999e5a71dd1a\", \"categories\": [0], \"series\": [{\"data\": [0.9875049784168884]}]}, {\"name\": \"f1_score_macro\", \"run_id\": \"AutoML_89b818da-96ca-4f06-81a5-999e5a71dd1a\", \"categories\": [0], \"series\": [{\"data\": [0.9816912647101327]}]}, {\"name\": \"recall_score_weighted\", \"run_id\": \"AutoML_89b818da-96ca-4f06-81a5-999e5a71dd1a\", \"categories\": [0], \"series\": [{\"data\": [0.9906755346896192]}]}, {\"name\": \"AUC_macro\", \"run_id\": \"AutoML_89b818da-96ca-4f06-81a5-999e5a71dd1a\", \"categories\": [0], \"series\": [{\"data\": [1.0]}]}, {\"name\": \"precision_score_macro\", \"run_id\": \"AutoML_89b818da-96ca-4f06-81a5-999e5a71dd1a\", \"categories\": [0], \"series\": [{\"data\": [0.9840534979423868]}]}, {\"name\": \"AUC_weighted\", \"run_id\": \"AutoML_89b818da-96ca-4f06-81a5-999e5a71dd1a\", \"categories\": [0], \"series\": [{\"data\": [1.0]}]}, {\"name\": \"recall_score_micro\", \"run_id\": \"AutoML_89b818da-96ca-4f06-81a5-999e5a71dd1a\", \"categories\": [0], \"series\": [{\"data\": [0.9906755346896192]}]}, {\"name\": \"weighted_accuracy\", \"run_id\": \"AutoML_89b818da-96ca-4f06-81a5-999e5a71dd1a\", \"categories\": [0], \"series\": [{\"data\": [0.9967707032875571]}]}, {\"name\": \"average_precision_score_micro\", \"run_id\": \"AutoML_89b818da-96ca-4f06-81a5-999e5a71dd1a\", \"categories\": [0], \"series\": [{\"data\": [0.9995557643219951]}]}, {\"name\": \"accuracy\", \"run_id\": \"AutoML_89b818da-96ca-4f06-81a5-999e5a71dd1a\", \"categories\": [0], \"series\": [{\"data\": [0.9906755346896192]}]}, {\"name\": \"average_precision_score_weighted\", \"run_id\": \"AutoML_89b818da-96ca-4f06-81a5-999e5a71dd1a\", \"categories\": [0], \"series\": [{\"data\": [1.0]}]}], \"run_logs\": \"\\nRun is completed.\", \"graph\": {}, \"widget_settings\": {\"childWidgetDisplay\": \"popup\", \"send_telemetry\": false, \"log_level\": \"INFO\", \"sdk_version\": \"1.20.0\"}, \"loading\": false}"
     },
     "metadata": {},
     "output_type": "display_data"
    }
   ],
   "source": [
    "# See the progress of the run\n",
    "\n",
    "RunDetails(remote_run).show()"
   ]
  },
  {
   "cell_type": "markdown",
   "metadata": {},
   "source": [
    "## Best Model"
   ]
  },
  {
   "cell_type": "code",
   "execution_count": 10,
   "metadata": {
    "collapsed": false,
    "gather": {
     "logged": 1598431425670
    },
    "jupyter": {
     "outputs_hidden": false,
     "source_hidden": false
    },
    "nteract": {
     "transient": {
      "deleting": false
     }
    }
   },
   "outputs": [
    {
     "data": {
      "text/html": [
       "<table style=\"width:100%\"><tr><th>Experiment</th><th>Id</th><th>Type</th><th>Status</th><th>Details Page</th><th>Docs Page</th></tr><tr><td>automl</td><td>AutoML_89b818da-96ca-4f06-81a5-999e5a71dd1a_36</td><td>azureml.scriptrun</td><td>Completed</td><td><a href=\"https://ml.azure.com/experiments/automl/runs/AutoML_89b818da-96ca-4f06-81a5-999e5a71dd1a_36?wsid=/subscriptions/d4ad7261-832d-46b2-b093-22156001df5b/resourcegroups/aml-quickstarts-136601/workspaces/quick-starts-ws-136601\" target=\"_blank\" rel=\"noopener\">Link to Azure Machine Learning studio</a></td><td><a href=\"https://docs.microsoft.com/en-us/python/api/azureml-core/azureml.core.run.Run?view=azure-ml-py\" target=\"_blank\" rel=\"noopener\">Link to Documentation</a></td></tr></table>"
      ],
      "text/plain": [
       "Run(Experiment: automl,\n",
       "Id: AutoML_89b818da-96ca-4f06-81a5-999e5a71dd1a_36,\n",
       "Type: azureml.scriptrun,\n",
       "Status: Completed)"
      ]
     },
     "execution_count": 10,
     "metadata": {},
     "output_type": "execute_result"
    }
   ],
   "source": [
    "best_run, fitted_model = remote_run.get_output()\n",
    "best_run"
   ]
  },
  {
   "cell_type": "code",
   "execution_count": 11,
   "metadata": {},
   "outputs": [
    {
     "name": "stdout",
     "output_type": "stream",
     "text": [
      "Best run:\n",
      "Run(Experiment: automl,\n",
      "Id: AutoML_89b818da-96ca-4f06-81a5-999e5a71dd1a_36,\n",
      "Type: azureml.scriptrun,\n",
      "Status: Completed)\n",
      "\n",
      "\n",
      "Fitted model:\n",
      "Pipeline(memory=None,\n",
      "         steps=[('datatransformer',\n",
      "                 DataTransformer(enable_dnn=None, enable_feature_sweeping=None,\n",
      "                                 feature_sweeping_config=None,\n",
      "                                 feature_sweeping_timeout=None,\n",
      "                                 featurization_config=None, force_text_dnn=None,\n",
      "                                 is_cross_validation=None,\n",
      "                                 is_onnx_compatible=None, logger=None,\n",
      "                                 observer=None, task=None, working_dir=None)),\n",
      "                ('prefittedsoftvotingclassifier',...\n",
      "                                                                                               n_jobs=1,\n",
      "                                                                                               nthread=None,\n",
      "                                                                                               objective='multi:softprob',\n",
      "                                                                                               random_state=0,\n",
      "                                                                                               reg_alpha=0,\n",
      "                                                                                               reg_lambda=2.5,\n",
      "                                                                                               scale_pos_weight=1,\n",
      "                                                                                               seed=None,\n",
      "                                                                                               silent=None,\n",
      "                                                                                               subsample=0.5,\n",
      "                                                                                               tree_method='auto',\n",
      "                                                                                               verbose=-10,\n",
      "                                                                                               verbosity=0))],\n",
      "                                                                     verbose=False))],\n",
      "                                               flatten_transform=None,\n",
      "                                               weights=[0.3333333333333333,\n",
      "                                                        0.16666666666666666,\n",
      "                                                        0.16666666666666666,\n",
      "                                                        0.16666666666666666,\n",
      "                                                        0.16666666666666666]))],\n",
      "         verbose=False)\n"
     ]
    }
   ],
   "source": [
    "print(\"Best run:\")\n",
    "print(best_run)\n",
    "print(\"\\n\")\n",
    "print(\"Fitted model:\")\n",
    "print(fitted_model)"
   ]
  },
  {
   "cell_type": "code",
   "execution_count": 12,
   "metadata": {
    "collapsed": false,
    "gather": {
     "logged": 1598431426111
    },
    "jupyter": {
     "outputs_hidden": false,
     "source_hidden": false
    },
    "nteract": {
     "transient": {
      "deleting": false
     }
    }
   },
   "outputs": [
    {
     "name": "stdout",
     "output_type": "stream",
     "text": [
      "Best model saved.\n"
     ]
    }
   ],
   "source": [
    "if \"outputs\" not in os.listdir():\n",
    "    os.mkdir(\"./outputs\")\n",
    "    \n",
    "pickle_filename = \"outputs/model.pkl\"\n",
    "best_run.download_file(pickle_filename, output_file_path=\"outputs/hiperdrive-model.pkl\")\n",
    "print(\"Best model saved.\")"
   ]
  },
  {
   "cell_type": "code",
   "execution_count": 13,
   "metadata": {},
   "outputs": [],
   "source": [
    "# Delete the compute target for cost-saving\n",
    "compute_cluster.delete()"
   ]
  },
  {
   "cell_type": "code",
   "execution_count": 19,
   "metadata": {},
   "outputs": [
    {
     "name": "stdout",
     "output_type": "stream",
     "text": [
      "Current provisioning state of AmlCompute is \"Deleting\"\n",
      "\n",
      "None\n"
     ]
    }
   ],
   "source": [
    "print(compute_cluster.get_status())"
   ]
  }
 ],
 "metadata": {
  "kernel_info": {
   "name": "python3"
  },
  "kernelspec": {
   "display_name": "Python 3",
   "language": "python",
   "name": "python3"
  },
  "language_info": {
   "codemirror_mode": {
    "name": "ipython",
    "version": 3
   },
   "file_extension": ".py",
   "mimetype": "text/x-python",
   "name": "python",
   "nbconvert_exporter": "python",
   "pygments_lexer": "ipython3",
   "version": "3.6.9"
  },
  "nteract": {
   "version": "nteract-front-end@1.0.0"
  }
 },
 "nbformat": 4,
 "nbformat_minor": 4
}
