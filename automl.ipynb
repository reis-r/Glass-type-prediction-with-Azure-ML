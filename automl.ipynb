{
 "cells": [
  {
   "cell_type": "markdown",
   "metadata": {},
   "source": [
    "# Automated ML"
   ]
  },
  {
   "cell_type": "markdown",
   "metadata": {},
   "source": [
    "Importing all modules needed."
   ]
  },
  {
   "cell_type": "code",
   "execution_count": 1,
   "metadata": {
    "collapsed": false,
    "gather": {
     "logged": 1598423888013
    },
    "jupyter": {
     "outputs_hidden": false,
     "source_hidden": false
    },
    "nteract": {
     "transient": {
      "deleting": false
     }
    }
   },
   "outputs": [],
   "source": [
    "from azureml.core import Workspace, Experiment, Dataset, Model\n",
    "from azureml.core.environment import Environment\n",
    "from azureml.core.model import InferenceConfig\n",
    "from azureml.data.dataset_factory import TabularDatasetFactory\n",
    "from train import clean_data\n",
    "from azureml.train.automl import AutoMLConfig\n",
    "from azureml.core.compute import ComputeTarget, AmlCompute\n",
    "from azureml.core.compute_target import ComputeTargetException\n",
    "import pandas as pd\n",
    "import os\n",
    "from azureml.widgets import RunDetails\n",
    "from azureml.core.webservice import AciWebservice\n",
    "import requests\n",
    "import json"
   ]
  },
  {
   "cell_type": "markdown",
   "metadata": {},
   "source": [
    "Loading the workspace."
   ]
  },
  {
   "cell_type": "code",
   "execution_count": 2,
   "metadata": {
    "collapsed": false,
    "gather": {
     "logged": 1598423890461
    },
    "jupyter": {
     "outputs_hidden": false,
     "source_hidden": false
    },
    "nteract": {
     "transient": {
      "deleting": false
     }
    }
   },
   "outputs": [],
   "source": [
    "ws = Workspace.from_config()\n",
    "\n",
    "# choose a name for experiment\n",
    "experiment_name = 'automl'\n",
    "\n",
    "experiment=Experiment(ws, experiment_name)"
   ]
  },
  {
   "cell_type": "markdown",
   "metadata": {},
   "source": [
    "## Dataset\n",
    "\n",
    "### Overview\n",
    "\n",
    "The dataset used is the [UCI Glass Identification](https://archive.ics.uci.edu/ml/datasets/Glass+Identification) dataset. All data importing and treating is done by the [train.py](https://github.com/reis-r/nd00333-capstone/blob/master/train.py) script. This will be the script used by our Hyperdrive run. The objective will be to classify the glass type according to it's composition and other characteristics. This dataset was chosen because it will not take too much time for cleaning, and it's a very known dataset for experimenting with machine learning."
   ]
  },
  {
   "cell_type": "code",
   "execution_count": 3,
   "metadata": {},
   "outputs": [
    {
     "data": {
      "text/html": [
       "<div>\n",
       "<style scoped>\n",
       "    .dataframe tbody tr th:only-of-type {\n",
       "        vertical-align: middle;\n",
       "    }\n",
       "\n",
       "    .dataframe tbody tr th {\n",
       "        vertical-align: top;\n",
       "    }\n",
       "\n",
       "    .dataframe thead th {\n",
       "        text-align: right;\n",
       "    }\n",
       "</style>\n",
       "<table border=\"1\" class=\"dataframe\">\n",
       "  <thead>\n",
       "    <tr style=\"text-align: right;\">\n",
       "      <th></th>\n",
       "      <th>RI</th>\n",
       "      <th>Na</th>\n",
       "      <th>Mg</th>\n",
       "      <th>Al</th>\n",
       "      <th>Si</th>\n",
       "      <th>K</th>\n",
       "      <th>Ca</th>\n",
       "      <th>Ba</th>\n",
       "      <th>Fe</th>\n",
       "      <th>Type</th>\n",
       "    </tr>\n",
       "  </thead>\n",
       "  <tbody>\n",
       "    <tr>\n",
       "      <th>0</th>\n",
       "      <td>1.52101</td>\n",
       "      <td>13.64</td>\n",
       "      <td>4.49</td>\n",
       "      <td>1.10</td>\n",
       "      <td>71.78</td>\n",
       "      <td>0.06</td>\n",
       "      <td>8.75</td>\n",
       "      <td>0.0</td>\n",
       "      <td>0.0</td>\n",
       "      <td>1</td>\n",
       "    </tr>\n",
       "    <tr>\n",
       "      <th>1</th>\n",
       "      <td>1.51761</td>\n",
       "      <td>13.89</td>\n",
       "      <td>3.60</td>\n",
       "      <td>1.36</td>\n",
       "      <td>72.73</td>\n",
       "      <td>0.48</td>\n",
       "      <td>7.83</td>\n",
       "      <td>0.0</td>\n",
       "      <td>0.0</td>\n",
       "      <td>1</td>\n",
       "    </tr>\n",
       "    <tr>\n",
       "      <th>2</th>\n",
       "      <td>1.51618</td>\n",
       "      <td>13.53</td>\n",
       "      <td>3.55</td>\n",
       "      <td>1.54</td>\n",
       "      <td>72.99</td>\n",
       "      <td>0.39</td>\n",
       "      <td>7.78</td>\n",
       "      <td>0.0</td>\n",
       "      <td>0.0</td>\n",
       "      <td>1</td>\n",
       "    </tr>\n",
       "    <tr>\n",
       "      <th>3</th>\n",
       "      <td>1.51766</td>\n",
       "      <td>13.21</td>\n",
       "      <td>3.69</td>\n",
       "      <td>1.29</td>\n",
       "      <td>72.61</td>\n",
       "      <td>0.57</td>\n",
       "      <td>8.22</td>\n",
       "      <td>0.0</td>\n",
       "      <td>0.0</td>\n",
       "      <td>1</td>\n",
       "    </tr>\n",
       "    <tr>\n",
       "      <th>4</th>\n",
       "      <td>1.51742</td>\n",
       "      <td>13.27</td>\n",
       "      <td>3.62</td>\n",
       "      <td>1.24</td>\n",
       "      <td>73.08</td>\n",
       "      <td>0.55</td>\n",
       "      <td>8.07</td>\n",
       "      <td>0.0</td>\n",
       "      <td>0.0</td>\n",
       "      <td>1</td>\n",
       "    </tr>\n",
       "  </tbody>\n",
       "</table>\n",
       "</div>"
      ],
      "text/plain": [
       "        RI     Na    Mg    Al     Si     K    Ca   Ba   Fe Type\n",
       "0  1.52101  13.64  4.49  1.10  71.78  0.06  8.75  0.0  0.0    1\n",
       "1  1.51761  13.89  3.60  1.36  72.73  0.48  7.83  0.0  0.0    1\n",
       "2  1.51618  13.53  3.55  1.54  72.99  0.39  7.78  0.0  0.0    1\n",
       "3  1.51766  13.21  3.69  1.29  72.61  0.57  8.22  0.0  0.0    1\n",
       "4  1.51742  13.27  3.62  1.24  73.08  0.55  8.07  0.0  0.0    1"
      ]
     },
     "execution_count": 3,
     "metadata": {},
     "output_type": "execute_result"
    }
   ],
   "source": [
    "# Select the data URL\n",
    "data_url = 'https://archive.ics.uci.edu/ml/machine-learning-databases/glass/glass.data'\n",
    "ds = TabularDatasetFactory.from_delimited_files(path=data_url, header=False)\n",
    "x, y = clean_data(ds)\n",
    "\n",
    "# Use of X= and y= are deprecated on AutoMLConfig instantiation\n",
    "# See more at the official docs: https://docs.microsoft.com/en-us/python/api/azureml-train-automl-client/azureml.train.automl.automlconfig.automlconfig?view=azure-ml-py\n",
    "training_data = x.join(y)\n",
    "training_data.head()"
   ]
  },
  {
   "cell_type": "markdown",
   "metadata": {},
   "source": [
    "It's not allowed to create an automl remote job from a pandas dataframe. The dataset is properly registered first."
   ]
  },
  {
   "cell_type": "code",
   "execution_count": 4,
   "metadata": {},
   "outputs": [
    {
     "name": "stdout",
     "output_type": "stream",
     "text": [
      "Uploading an estimated of 1 files\n",
      "Uploading automl-data/prepared-automl.csv\n",
      "Uploaded automl-data/prepared-automl.csv, 1 files out of an estimated total of 1\n",
      "Uploaded 1 files\n"
     ]
    }
   ],
   "source": [
    "# Create a dataset from the clean data\n",
    "if \"automl-data\" not in os.listdir():\n",
    "    os.mkdir(\"./automl-data\")\n",
    "    \n",
    "training_data.to_csv(\"automl-data/prepared-automl.csv\", index=False)\n",
    "\n",
    "datastore = ws.get_default_datastore()\n",
    "datastore.upload(src_dir=\"automl-data\", target_path=\"automl-data\")\n",
    "training_data = Dataset.Tabular.from_delimited_files(path = [(datastore, (\"automl-data/prepared-automl.csv\"))])"
   ]
  },
  {
   "cell_type": "markdown",
   "metadata": {},
   "source": [
    "## AutoML Configuration\n",
    "\n",
    "The automl run is configured with accuracy as the primary metric, that way, it's possible to compare it to the Hyperdrive-optimized SVC model from the other notebook in the project.\n",
    "The concurrency settings were choosen acording to the compute cluster used. There should not be more concurrent iterations than the number of processing unities on the compute cluster. A experiment timeout of one hour was set, so that the experiment does not take too long. This also helps to avoide extra charges."
   ]
  },
  {
   "cell_type": "code",
   "execution_count": 5,
   "metadata": {},
   "outputs": [
    {
     "name": "stdout",
     "output_type": "stream",
     "text": [
      "Trying to connect to an existing cluster...\n",
      "Creating a compute cluster...\n",
      "Creating\n",
      "Succeeded\n",
      "AmlCompute wait for completion finished\n",
      "\n",
      "Minimum number of nodes requested have been provisioned\n",
      "Success!\n"
     ]
    }
   ],
   "source": [
    "# Create a computer cluster\n",
    "cluster_name = \"automl\"\n",
    "# Check if a compute cluster already exists\n",
    "try:\n",
    "    print(\"Trying to connect to an existing cluster...\")\n",
    "    compute_cluster = ComputeTarget(workspace=ws, name=cluster_name)\n",
    "except ComputeTargetException:\n",
    "    print(\"Creating a compute cluster...\")\n",
    "    compute_configuration = AmlCompute.provisioning_configuration(vm_size=\"STANDARD_D2_V2\", max_nodes=4)\n",
    "    compute_cluster = ComputeTarget.create(ws, cluster_name, compute_configuration)\n",
    "    compute_cluster.wait_for_completion(show_output=True)\n",
    "print(\"Success!\")"
   ]
  },
  {
   "cell_type": "code",
   "execution_count": 6,
   "metadata": {
    "collapsed": false,
    "gather": {
     "logged": 1598429217746
    },
    "jupyter": {
     "outputs_hidden": false,
     "source_hidden": false
    },
    "nteract": {
     "transient": {
      "deleting": false
     }
    }
   },
   "outputs": [],
   "source": [
    " automl_settings = {\n",
    "       \"n_cross_validations\": 3,\n",
    "       \"primary_metric\": 'accuracy',\n",
    "       \"enable_early_stopping\": True,\n",
    "       \"experiment_timeout_hours\": 1.0,\n",
    "       \"max_concurrent_iterations\": 4,\n",
    "       \"max_cores_per_iteration\": 1,\n",
    "   }\n",
    "\n",
    "# automl config here\n",
    "automl_config = AutoMLConfig(task=\"classification\",\n",
    "                             compute_target = compute_cluster,\n",
    "                             training_data=training_data,\n",
    "                             label_column_name=\"Type\",\n",
    "                             **automl_settings)"
   ]
  },
  {
   "cell_type": "code",
   "execution_count": 7,
   "metadata": {
    "collapsed": false,
    "gather": {
     "logged": 1598431107951
    },
    "jupyter": {
     "outputs_hidden": false,
     "source_hidden": false
    },
    "nteract": {
     "transient": {
      "deleting": false
     }
    }
   },
   "outputs": [
    {
     "name": "stdout",
     "output_type": "stream",
     "text": [
      "Running on remote.\n"
     ]
    }
   ],
   "source": [
    "# TODO: Submit your experiment\n",
    "remote_run = experiment.submit(automl_config)"
   ]
  },
  {
   "cell_type": "markdown",
   "metadata": {},
   "source": [
    "## Run Details\n",
    "\n",
    "We can watch the development of the training using a widget:"
   ]
  },
  {
   "cell_type": "code",
   "execution_count": 8,
   "metadata": {
    "collapsed": false,
    "gather": {
     "logged": 1598431121770
    },
    "jupyter": {
     "outputs_hidden": false,
     "source_hidden": false
    },
    "nteract": {
     "transient": {
      "deleting": false
     }
    }
   },
   "outputs": [
    {
     "data": {
      "application/vnd.jupyter.widget-view+json": {
       "model_id": "ebe154d98e104892983b7a5fd2202f35",
       "version_major": 2,
       "version_minor": 0
      },
      "text/plain": [
       "_AutoMLWidget(widget_settings={'childWidgetDisplay': 'popup', 'send_telemetry': False, 'log_level': 'INFO', 's…"
      ]
     },
     "metadata": {},
     "output_type": "display_data"
    },
    {
     "data": {
      "application/aml.mini.widget.v1": "{\"status\": \"Completed\", \"workbench_run_details_uri\": \"https://ml.azure.com/experiments/automl/runs/AutoML_fe62415d-cb89-433a-8b59-ba4737fbd123?wsid=/subscriptions/6971f5ac-8af1-446e-8034-05acea24681f/resourcegroups/aml-quickstarts-136621/workspaces/quick-starts-ws-136621\", \"run_id\": \"AutoML_fe62415d-cb89-433a-8b59-ba4737fbd123\", \"run_properties\": {\"run_id\": \"AutoML_fe62415d-cb89-433a-8b59-ba4737fbd123\", \"created_utc\": \"2021-01-30T16:54:29.48964Z\", \"properties\": {\"num_iterations\": \"1000\", \"training_type\": \"TrainFull\", \"acquisition_function\": \"EI\", \"primary_metric\": \"accuracy\", \"train_split\": \"0\", \"acquisition_parameter\": \"0\", \"num_cross_validation\": \"3\", \"target\": \"automl\", \"AMLSettingsJsonString\": \"{\\\"path\\\":null,\\\"name\\\":\\\"automl\\\",\\\"subscription_id\\\":\\\"6971f5ac-8af1-446e-8034-05acea24681f\\\",\\\"resource_group\\\":\\\"aml-quickstarts-136621\\\",\\\"workspace_name\\\":\\\"quick-starts-ws-136621\\\",\\\"region\\\":\\\"southcentralus\\\",\\\"compute_target\\\":\\\"automl\\\",\\\"spark_service\\\":null,\\\"azure_service\\\":\\\"remote\\\",\\\"many_models\\\":false,\\\"pipeline_fetch_max_batch_size\\\":1,\\\"iterations\\\":1000,\\\"primary_metric\\\":\\\"accuracy\\\",\\\"task_type\\\":\\\"classification\\\",\\\"data_script\\\":null,\\\"validation_size\\\":0.0,\\\"n_cross_validations\\\":3,\\\"y_min\\\":null,\\\"y_max\\\":null,\\\"num_classes\\\":null,\\\"featurization\\\":\\\"auto\\\",\\\"_ignore_package_version_incompatibilities\\\":false,\\\"is_timeseries\\\":false,\\\"max_cores_per_iteration\\\":1,\\\"max_concurrent_iterations\\\":4,\\\"iteration_timeout_minutes\\\":null,\\\"mem_in_mb\\\":null,\\\"enforce_time_on_windows\\\":false,\\\"experiment_timeout_minutes\\\":60,\\\"experiment_exit_score\\\":null,\\\"whitelist_models\\\":null,\\\"blacklist_algos\\\":[\\\"TensorFlowLinearClassifier\\\",\\\"TensorFlowDNN\\\"],\\\"supported_models\\\":[\\\"RandomForest\\\",\\\"TensorFlowLinearClassifier\\\",\\\"XGBoostClassifier\\\",\\\"DecisionTree\\\",\\\"TensorFlowDNN\\\",\\\"SGD\\\",\\\"LinearSVM\\\",\\\"LogisticRegression\\\",\\\"MultinomialNaiveBayes\\\",\\\"AveragedPerceptronClassifier\\\",\\\"SVM\\\",\\\"BernoulliNaiveBayes\\\",\\\"GradientBoosting\\\",\\\"LightGBM\\\",\\\"ExtremeRandomTrees\\\",\\\"KNN\\\"],\\\"auto_blacklist\\\":true,\\\"blacklist_samples_reached\\\":false,\\\"exclude_nan_labels\\\":true,\\\"verbosity\\\":20,\\\"_debug_log\\\":\\\"azureml_automl.log\\\",\\\"show_warnings\\\":false,\\\"model_explainability\\\":true,\\\"service_url\\\":null,\\\"sdk_url\\\":null,\\\"sdk_packages\\\":null,\\\"enable_onnx_compatible_models\\\":false,\\\"enable_split_onnx_featurizer_estimator_models\\\":false,\\\"vm_type\\\":\\\"STANDARD_D2_V2\\\",\\\"telemetry_verbosity\\\":20,\\\"send_telemetry\\\":true,\\\"enable_dnn\\\":false,\\\"scenario\\\":\\\"SDK-1.13.0\\\",\\\"environment_label\\\":null,\\\"force_text_dnn\\\":false,\\\"enable_feature_sweeping\\\":true,\\\"enable_early_stopping\\\":true,\\\"early_stopping_n_iters\\\":10,\\\"metrics\\\":null,\\\"enable_ensembling\\\":true,\\\"enable_stack_ensembling\\\":true,\\\"ensemble_iterations\\\":15,\\\"enable_tf\\\":false,\\\"enable_subsampling\\\":null,\\\"subsample_seed\\\":null,\\\"enable_nimbusml\\\":false,\\\"enable_streaming\\\":false,\\\"force_streaming\\\":false,\\\"track_child_runs\\\":true,\\\"allowed_private_models\\\":[],\\\"label_column_name\\\":\\\"Type\\\",\\\"weight_column_name\\\":null,\\\"cv_split_column_names\\\":null,\\\"enable_local_managed\\\":false,\\\"_local_managed_run_id\\\":null,\\\"cost_mode\\\":1,\\\"lag_length\\\":0,\\\"metric_operation\\\":\\\"maximize\\\",\\\"preprocess\\\":true}\", \"DataPrepJsonString\": \"{\\\\\\\"training_data\\\\\\\": \\\\\\\"{\\\\\\\\\\\\\\\"blocks\\\\\\\\\\\\\\\": [{\\\\\\\\\\\\\\\"id\\\\\\\\\\\\\\\": \\\\\\\\\\\\\\\"5e0bf47d-1872-49a0-893d-36832cdfda06\\\\\\\\\\\\\\\", \\\\\\\\\\\\\\\"type\\\\\\\\\\\\\\\": \\\\\\\\\\\\\\\"Microsoft.DPrep.GetDatastoreFilesBlock\\\\\\\\\\\\\\\", \\\\\\\\\\\\\\\"arguments\\\\\\\\\\\\\\\": {\\\\\\\\\\\\\\\"datastores\\\\\\\\\\\\\\\": [{\\\\\\\\\\\\\\\"datastoreName\\\\\\\\\\\\\\\": \\\\\\\\\\\\\\\"workspaceblobstore\\\\\\\\\\\\\\\", \\\\\\\\\\\\\\\"path\\\\\\\\\\\\\\\": \\\\\\\\\\\\\\\"automl-data/prepared-automl.csv\\\\\\\\\\\\\\\", \\\\\\\\\\\\\\\"resourceGroup\\\\\\\\\\\\\\\": \\\\\\\\\\\\\\\"aml-quickstarts-136621\\\\\\\\\\\\\\\", \\\\\\\\\\\\\\\"subscription\\\\\\\\\\\\\\\": \\\\\\\\\\\\\\\"6971f5ac-8af1-446e-8034-05acea24681f\\\\\\\\\\\\\\\", \\\\\\\\\\\\\\\"workspaceName\\\\\\\\\\\\\\\": \\\\\\\\\\\\\\\"quick-starts-ws-136621\\\\\\\\\\\\\\\"}]}, \\\\\\\\\\\\\\\"localData\\\\\\\\\\\\\\\": {}, \\\\\\\\\\\\\\\"isEnabled\\\\\\\\\\\\\\\": true, \\\\\\\\\\\\\\\"name\\\\\\\\\\\\\\\": null, \\\\\\\\\\\\\\\"annotation\\\\\\\\\\\\\\\": null}, {\\\\\\\\\\\\\\\"id\\\\\\\\\\\\\\\": \\\\\\\\\\\\\\\"f2210c85-2e80-4473-b2de-429954c6122f\\\\\\\\\\\\\\\", \\\\\\\\\\\\\\\"type\\\\\\\\\\\\\\\": \\\\\\\\\\\\\\\"Microsoft.DPrep.ParseDelimitedBlock\\\\\\\\\\\\\\\", \\\\\\\\\\\\\\\"arguments\\\\\\\\\\\\\\\": {\\\\\\\\\\\\\\\"columnHeadersMode\\\\\\\\\\\\\\\": 3, \\\\\\\\\\\\\\\"fileEncoding\\\\\\\\\\\\\\\": 0, \\\\\\\\\\\\\\\"handleQuotedLineBreaks\\\\\\\\\\\\\\\": false, \\\\\\\\\\\\\\\"preview\\\\\\\\\\\\\\\": false, \\\\\\\\\\\\\\\"separator\\\\\\\\\\\\\\\": \\\\\\\\\\\\\\\",\\\\\\\\\\\\\\\", \\\\\\\\\\\\\\\"skipRows\\\\\\\\\\\\\\\": 0, \\\\\\\\\\\\\\\"skipRowsMode\\\\\\\\\\\\\\\": 0}, \\\\\\\\\\\\\\\"localData\\\\\\\\\\\\\\\": {}, \\\\\\\\\\\\\\\"isEnabled\\\\\\\\\\\\\\\": true, \\\\\\\\\\\\\\\"name\\\\\\\\\\\\\\\": null, \\\\\\\\\\\\\\\"annotation\\\\\\\\\\\\\\\": null}, {\\\\\\\\\\\\\\\"id\\\\\\\\\\\\\\\": \\\\\\\\\\\\\\\"2eabbd0a-7676-4b5c-b491-08a93c3f8c96\\\\\\\\\\\\\\\", \\\\\\\\\\\\\\\"type\\\\\\\\\\\\\\\": \\\\\\\\\\\\\\\"Microsoft.DPrep.DropColumnsBlock\\\\\\\\\\\\\\\", \\\\\\\\\\\\\\\"arguments\\\\\\\\\\\\\\\": {\\\\\\\\\\\\\\\"columns\\\\\\\\\\\\\\\": {\\\\\\\\\\\\\\\"type\\\\\\\\\\\\\\\": 0, \\\\\\\\\\\\\\\"details\\\\\\\\\\\\\\\": {\\\\\\\\\\\\\\\"selectedColumns\\\\\\\\\\\\\\\": [\\\\\\\\\\\\\\\"Path\\\\\\\\\\\\\\\"]}}}, \\\\\\\\\\\\\\\"localData\\\\\\\\\\\\\\\": {}, \\\\\\\\\\\\\\\"isEnabled\\\\\\\\\\\\\\\": true, \\\\\\\\\\\\\\\"name\\\\\\\\\\\\\\\": null, \\\\\\\\\\\\\\\"annotation\\\\\\\\\\\\\\\": null}, {\\\\\\\\\\\\\\\"id\\\\\\\\\\\\\\\": \\\\\\\\\\\\\\\"64064513-abc0-4e9d-ae1d-058b79ca2243\\\\\\\\\\\\\\\", \\\\\\\\\\\\\\\"type\\\\\\\\\\\\\\\": \\\\\\\\\\\\\\\"Microsoft.DPrep.SetColumnTypesBlock\\\\\\\\\\\\\\\", \\\\\\\\\\\\\\\"arguments\\\\\\\\\\\\\\\": {\\\\\\\\\\\\\\\"columnConversion\\\\\\\\\\\\\\\": [{\\\\\\\\\\\\\\\"column\\\\\\\\\\\\\\\": {\\\\\\\\\\\\\\\"type\\\\\\\\\\\\\\\": 2, \\\\\\\\\\\\\\\"details\\\\\\\\\\\\\\\": {\\\\\\\\\\\\\\\"selectedColumn\\\\\\\\\\\\\\\": \\\\\\\\\\\\\\\"RI\\\\\\\\\\\\\\\"}}, \\\\\\\\\\\\\\\"typeProperty\\\\\\\\\\\\\\\": 3}, {\\\\\\\\\\\\\\\"column\\\\\\\\\\\\\\\": {\\\\\\\\\\\\\\\"type\\\\\\\\\\\\\\\": 2, \\\\\\\\\\\\\\\"details\\\\\\\\\\\\\\\": {\\\\\\\\\\\\\\\"selectedColumn\\\\\\\\\\\\\\\": \\\\\\\\\\\\\\\"Na\\\\\\\\\\\\\\\"}}, \\\\\\\\\\\\\\\"typeProperty\\\\\\\\\\\\\\\": 3}, {\\\\\\\\\\\\\\\"column\\\\\\\\\\\\\\\": {\\\\\\\\\\\\\\\"type\\\\\\\\\\\\\\\": 2, \\\\\\\\\\\\\\\"details\\\\\\\\\\\\\\\": {\\\\\\\\\\\\\\\"selectedColumn\\\\\\\\\\\\\\\": \\\\\\\\\\\\\\\"Mg\\\\\\\\\\\\\\\"}}, \\\\\\\\\\\\\\\"typeProperty\\\\\\\\\\\\\\\": 3}, {\\\\\\\\\\\\\\\"column\\\\\\\\\\\\\\\": {\\\\\\\\\\\\\\\"type\\\\\\\\\\\\\\\": 2, \\\\\\\\\\\\\\\"details\\\\\\\\\\\\\\\": {\\\\\\\\\\\\\\\"selectedColumn\\\\\\\\\\\\\\\": \\\\\\\\\\\\\\\"Al\\\\\\\\\\\\\\\"}}, \\\\\\\\\\\\\\\"typeProperty\\\\\\\\\\\\\\\": 3}, {\\\\\\\\\\\\\\\"column\\\\\\\\\\\\\\\": {\\\\\\\\\\\\\\\"type\\\\\\\\\\\\\\\": 2, \\\\\\\\\\\\\\\"details\\\\\\\\\\\\\\\": {\\\\\\\\\\\\\\\"selectedColumn\\\\\\\\\\\\\\\": \\\\\\\\\\\\\\\"Si\\\\\\\\\\\\\\\"}}, \\\\\\\\\\\\\\\"typeProperty\\\\\\\\\\\\\\\": 3}, {\\\\\\\\\\\\\\\"column\\\\\\\\\\\\\\\": {\\\\\\\\\\\\\\\"type\\\\\\\\\\\\\\\": 2, \\\\\\\\\\\\\\\"details\\\\\\\\\\\\\\\": {\\\\\\\\\\\\\\\"selectedColumn\\\\\\\\\\\\\\\": \\\\\\\\\\\\\\\"K\\\\\\\\\\\\\\\"}}, \\\\\\\\\\\\\\\"typeProperty\\\\\\\\\\\\\\\": 3}, {\\\\\\\\\\\\\\\"column\\\\\\\\\\\\\\\": {\\\\\\\\\\\\\\\"type\\\\\\\\\\\\\\\": 2, \\\\\\\\\\\\\\\"details\\\\\\\\\\\\\\\": {\\\\\\\\\\\\\\\"selectedColumn\\\\\\\\\\\\\\\": \\\\\\\\\\\\\\\"Ca\\\\\\\\\\\\\\\"}}, \\\\\\\\\\\\\\\"typeProperty\\\\\\\\\\\\\\\": 3}, {\\\\\\\\\\\\\\\"column\\\\\\\\\\\\\\\": {\\\\\\\\\\\\\\\"type\\\\\\\\\\\\\\\": 2, \\\\\\\\\\\\\\\"details\\\\\\\\\\\\\\\": {\\\\\\\\\\\\\\\"selectedColumn\\\\\\\\\\\\\\\": \\\\\\\\\\\\\\\"Ba\\\\\\\\\\\\\\\"}}, \\\\\\\\\\\\\\\"typeProperty\\\\\\\\\\\\\\\": 3}, {\\\\\\\\\\\\\\\"column\\\\\\\\\\\\\\\": {\\\\\\\\\\\\\\\"type\\\\\\\\\\\\\\\": 2, \\\\\\\\\\\\\\\"details\\\\\\\\\\\\\\\": {\\\\\\\\\\\\\\\"selectedColumn\\\\\\\\\\\\\\\": \\\\\\\\\\\\\\\"Fe\\\\\\\\\\\\\\\"}}, \\\\\\\\\\\\\\\"typeProperty\\\\\\\\\\\\\\\": 3}, {\\\\\\\\\\\\\\\"column\\\\\\\\\\\\\\\": {\\\\\\\\\\\\\\\"type\\\\\\\\\\\\\\\": 2, \\\\\\\\\\\\\\\"details\\\\\\\\\\\\\\\": {\\\\\\\\\\\\\\\"selectedColumn\\\\\\\\\\\\\\\": \\\\\\\\\\\\\\\"Type\\\\\\\\\\\\\\\"}}, \\\\\\\\\\\\\\\"typeProperty\\\\\\\\\\\\\\\": 2}]}, \\\\\\\\\\\\\\\"localData\\\\\\\\\\\\\\\": {}, \\\\\\\\\\\\\\\"isEnabled\\\\\\\\\\\\\\\": true, \\\\\\\\\\\\\\\"name\\\\\\\\\\\\\\\": null, \\\\\\\\\\\\\\\"annotation\\\\\\\\\\\\\\\": null}], \\\\\\\\\\\\\\\"inspectors\\\\\\\\\\\\\\\": [], \\\\\\\\\\\\\\\"meta\\\\\\\\\\\\\\\": {\\\\\\\\\\\\\\\"savedDatasetId\\\\\\\\\\\\\\\": \\\\\\\\\\\\\\\"6e67430e-d857-4884-a0b6-80c7eb526bb3\\\\\\\\\\\\\\\", \\\\\\\\\\\\\\\"datasetType\\\\\\\\\\\\\\\": \\\\\\\\\\\\\\\"tabular\\\\\\\\\\\\\\\", \\\\\\\\\\\\\\\"subscriptionId\\\\\\\\\\\\\\\": \\\\\\\\\\\\\\\"6971f5ac-8af1-446e-8034-05acea24681f\\\\\\\\\\\\\\\", \\\\\\\\\\\\\\\"workspaceId\\\\\\\\\\\\\\\": \\\\\\\\\\\\\\\"69c728b7-e046-444a-853d-fe6cd5c0f6df\\\\\\\\\\\\\\\", \\\\\\\\\\\\\\\"workspaceLocation\\\\\\\\\\\\\\\": \\\\\\\\\\\\\\\"southcentralus\\\\\\\\\\\\\\\"}}\\\\\\\", \\\\\\\"activities\\\\\\\": 0}\", \"EnableSubsampling\": null, \"runTemplate\": \"AutoML\", \"azureml.runsource\": \"automl\", \"display_task_type\": \"classification\", \"dependencies_versions\": \"{\\\"azureml-widgets\\\": \\\"1.20.0\\\", \\\"azureml-train\\\": \\\"1.20.0\\\", \\\"azureml-train-restclients-hyperdrive\\\": \\\"1.20.0\\\", \\\"azureml-train-core\\\": \\\"1.20.0\\\", \\\"azureml-train-automl\\\": \\\"1.20.0\\\", \\\"azureml-train-automl-runtime\\\": \\\"1.20.0\\\", \\\"azureml-train-automl-client\\\": \\\"1.20.0\\\", \\\"azureml-tensorboard\\\": \\\"1.20.0\\\", \\\"azureml-telemetry\\\": \\\"1.20.0\\\", \\\"azureml-sdk\\\": \\\"1.20.0\\\", \\\"azureml-samples\\\": \\\"0+unknown\\\", \\\"azureml-pipeline\\\": \\\"1.20.0\\\", \\\"azureml-pipeline-steps\\\": \\\"1.20.0\\\", \\\"azureml-pipeline-core\\\": \\\"1.20.0\\\", \\\"azureml-opendatasets\\\": \\\"1.20.0\\\", \\\"azureml-model-management-sdk\\\": \\\"1.0.1b6.post1\\\", \\\"azureml-mlflow\\\": \\\"1.20.0.post1\\\", \\\"azureml-interpret\\\": \\\"1.20.0\\\", \\\"azureml-explain-model\\\": \\\"1.20.0\\\", \\\"azureml-defaults\\\": \\\"1.20.0\\\", \\\"azureml-dataset-runtime\\\": \\\"1.20.0\\\", \\\"azureml-dataprep\\\": \\\"2.7.3\\\", \\\"azureml-dataprep-rslex\\\": \\\"1.5.0\\\", \\\"azureml-dataprep-native\\\": \\\"27.0.0\\\", \\\"azureml-datadrift\\\": \\\"1.20.0\\\", \\\"azureml-core\\\": \\\"1.20.0\\\", \\\"azureml-contrib-services\\\": \\\"1.20.0\\\", \\\"azureml-contrib-server\\\": \\\"1.20.0\\\", \\\"azureml-contrib-reinforcementlearning\\\": \\\"1.20.0\\\", \\\"azureml-contrib-pipeline-steps\\\": \\\"1.20.0\\\", \\\"azureml-contrib-notebook\\\": \\\"1.20.0\\\", \\\"azureml-contrib-interpret\\\": \\\"1.20.0\\\", \\\"azureml-contrib-gbdt\\\": \\\"1.20.0\\\", \\\"azureml-contrib-fairness\\\": \\\"1.20.0\\\", \\\"azureml-contrib-dataset\\\": \\\"1.20.0\\\", \\\"azureml-cli-common\\\": \\\"1.20.0\\\", \\\"azureml-automl-runtime\\\": \\\"1.20.0\\\", \\\"azureml-automl-core\\\": \\\"1.20.0\\\", \\\"azureml-accel-models\\\": \\\"1.20.0\\\"}\", \"_aml_system_scenario_identification\": \"Remote.Parent\", \"ClientType\": \"SDK\", \"environment_cpu_name\": \"AzureML-AutoML\", \"environment_cpu_label\": \"prod\", \"environment_gpu_name\": \"AzureML-AutoML-GPU\", \"environment_gpu_label\": \"prod\", \"root_attribution\": \"automl\", \"attribution\": \"AutoML\", \"Orchestrator\": \"AutoML\", \"CancelUri\": \"https://southcentralus.experiments.azureml.net/jasmine/v1.0/subscriptions/6971f5ac-8af1-446e-8034-05acea24681f/resourceGroups/aml-quickstarts-136621/providers/Microsoft.MachineLearningServices/workspaces/quick-starts-ws-136621/experimentids/cc18ded1-90d5-4d57-be3b-885410298f92/cancel/AutoML_fe62415d-cb89-433a-8b59-ba4737fbd123\", \"ClientSdkVersion\": \"1.20.0.post1\", \"snapshotId\": \"00000000-0000-0000-0000-000000000000\", \"SetupRunId\": \"AutoML_fe62415d-cb89-433a-8b59-ba4737fbd123_setup\", \"SetupRunContainerId\": \"dcid.AutoML_fe62415d-cb89-433a-8b59-ba4737fbd123_setup\", \"FeaturizationRunJsonPath\": \"featurizer_container.json\", \"FeaturizationRunId\": \"AutoML_fe62415d-cb89-433a-8b59-ba4737fbd123_featurize\", \"ProblemInfoJsonString\": \"{\\\"dataset_num_categorical\\\": 0, \\\"is_sparse\\\": false, \\\"subsampling\\\": false, \\\"dataset_classes\\\": 6, \\\"dataset_features\\\": 9, \\\"dataset_samples\\\": 214, \\\"single_frequency_class_detected\\\": false}\", \"ModelExplainRunId\": \"AutoML_fe62415d-cb89-433a-8b59-ba4737fbd123_ModelExplain\"}, \"tags\": {\"model_explain_run\": \"best_run\", \"_aml_system_azureml.automlComponent\": \"AutoML\", \"pipeline_id\": \"\", \"score\": \"\", \"predicted_cost\": \"\", \"fit_time\": \"\", \"training_percent\": \"\", \"iteration\": \"\", \"run_preprocessor\": \"\", \"run_algorithm\": \"\", \"dynamic_whitelisting_iterations\": \"<25>;<30>;<35>;\", \"automl_best_child_run_id\": \"AutoML_fe62415d-cb89-433a-8b59-ba4737fbd123_36\", \"model_explain_best_run_child_id\": \"AutoML_fe62415d-cb89-433a-8b59-ba4737fbd123_36\"}, \"end_time_utc\": \"2021-01-30T17:16:46.656413Z\", \"status\": \"Completed\", \"log_files\": {}, \"log_groups\": [], \"run_duration\": \"0:22:17\"}, \"child_runs\": [{\"run_id\": \"AutoML_fe62415d-cb89-433a-8b59-ba4737fbd123_0\", \"run_number\": 5, \"metric\": null, \"status\": \"Completed\", \"run_type\": \"azureml.scriptrun\", \"training_percent\": \"100\", \"start_time\": \"2021-01-30T17:04:36.110036Z\", \"end_time\": \"2021-01-30T17:07:53.161334Z\", \"created_time\": \"2021-01-30T17:02:31.195273Z\", \"created_time_dt\": \"2021-01-30T17:02:31.195273Z\", \"duration\": \"0:05:21\", \"iteration\": \"0\", \"goal\": \"accuracy_max\", \"run_name\": \"MaxAbsScaler, LightGBM\", \"run_properties\": \"copy=True\", \"primary_metric\": 0.75228221, \"best_metric\": 0.75228221}, {\"run_id\": \"AutoML_fe62415d-cb89-433a-8b59-ba4737fbd123_2\", \"run_number\": 6, \"metric\": null, \"status\": \"Completed\", \"run_type\": \"azureml.scriptrun\", \"training_percent\": \"100\", \"start_time\": \"2021-01-30T17:02:41.388675Z\", \"end_time\": \"2021-01-30T17:03:32.283902Z\", \"created_time\": \"2021-01-30T17:02:31.21886Z\", \"created_time_dt\": \"2021-01-30T17:02:31.21886Z\", \"duration\": \"0:01:01\", \"iteration\": \"2\", \"goal\": \"accuracy_max\", \"run_name\": \"MinMaxScaler, RandomForest\", \"run_properties\": \"copy=True, feature_range=(0, 1\", \"primary_metric\": 0.74778299, \"best_metric\": 0.78032081}, {\"run_id\": \"AutoML_fe62415d-cb89-433a-8b59-ba4737fbd123_3\", \"run_number\": 7, \"metric\": null, \"status\": \"Completed\", \"run_type\": \"azureml.scriptrun\", \"training_percent\": \"100\", \"start_time\": \"2021-01-30T17:04:35.072152Z\", \"end_time\": \"2021-01-30T17:07:59.31792Z\", \"created_time\": \"2021-01-30T17:02:31.222339Z\", \"created_time_dt\": \"2021-01-30T17:02:31.222339Z\", \"duration\": \"0:05:28\", \"iteration\": \"3\", \"goal\": \"accuracy_max\", \"run_name\": \"MinMaxScaler, RandomForest\", \"run_properties\": \"copy=True, feature_range=(0, 1\", \"primary_metric\": 0.68205529, \"best_metric\": 0.78032081}, {\"run_id\": \"AutoML_fe62415d-cb89-433a-8b59-ba4737fbd123_1\", \"run_number\": 8, \"metric\": null, \"status\": \"Completed\", \"run_type\": \"azureml.scriptrun\", \"training_percent\": \"100\", \"start_time\": \"2021-01-30T17:03:34.789377Z\", \"end_time\": \"2021-01-30T17:04:33.618263Z\", \"created_time\": \"2021-01-30T17:02:31.235661Z\", \"created_time_dt\": \"2021-01-30T17:02:31.235661Z\", \"duration\": \"0:02:02\", \"iteration\": \"1\", \"goal\": \"accuracy_max\", \"run_name\": \"MaxAbsScaler, XGBoostClassifier\", \"run_properties\": \"copy=True\", \"primary_metric\": 0.78032081, \"best_metric\": 0.78032081}, {\"run_id\": \"AutoML_fe62415d-cb89-433a-8b59-ba4737fbd123_4\", \"run_number\": 9, \"metric\": null, \"status\": \"Completed\", \"run_type\": \"azureml.scriptrun\", \"training_percent\": \"100\", \"start_time\": \"2021-01-30T17:04:33.442795Z\", \"end_time\": \"2021-01-30T17:07:49.003953Z\", \"created_time\": \"2021-01-30T17:03:35.690632Z\", \"created_time_dt\": \"2021-01-30T17:03:35.690632Z\", \"duration\": \"0:04:13\", \"iteration\": \"4\", \"goal\": \"accuracy_max\", \"run_name\": \"MinMaxScaler, RandomForest\", \"run_properties\": \"copy=True, feature_range=(0, 1\", \"primary_metric\": 0.77556077, \"best_metric\": 0.78032081}, {\"run_id\": \"AutoML_fe62415d-cb89-433a-8b59-ba4737fbd123_5\", \"run_number\": 10, \"metric\": null, \"status\": \"Completed\", \"run_type\": \"azureml.scriptrun\", \"training_percent\": \"100\", \"start_time\": \"2021-01-30T17:04:48.150384Z\", \"end_time\": \"2021-01-30T17:05:37.407239Z\", \"created_time\": \"2021-01-30T17:04:36.552721Z\", \"created_time_dt\": \"2021-01-30T17:04:36.552721Z\", \"duration\": \"0:01:00\", \"iteration\": \"5\", \"goal\": \"accuracy_max\", \"run_name\": \"RobustScaler, LightGBM\", \"run_properties\": \"copy=True, quantile_range=[25, 75], with_centering=True,\\n             with_scaling=False\", \"primary_metric\": 0.69157538, \"best_metric\": 0.78032081}, {\"run_id\": \"AutoML_fe62415d-cb89-433a-8b59-ba4737fbd123_6\", \"run_number\": 11, \"metric\": null, \"status\": \"Completed\", \"run_type\": \"azureml.scriptrun\", \"training_percent\": \"100\", \"start_time\": \"2021-01-30T17:05:50.384859Z\", \"end_time\": \"2021-01-30T17:06:38.898304Z\", \"created_time\": \"2021-01-30T17:05:39.874352Z\", \"created_time_dt\": \"2021-01-30T17:05:39.874352Z\", \"duration\": \"0:00:59\", \"iteration\": \"6\", \"goal\": \"accuracy_max\", \"run_name\": \"MinMaxScaler, SVM\", \"run_properties\": \"copy=True, feature_range=(0, 1\", \"primary_metric\": 0.66803599, \"best_metric\": 0.78032081}, {\"run_id\": \"AutoML_fe62415d-cb89-433a-8b59-ba4737fbd123_7\", \"run_number\": 12, \"metric\": null, \"status\": \"Completed\", \"run_type\": \"azureml.scriptrun\", \"training_percent\": \"100\", \"start_time\": \"2021-01-30T17:06:57.30241Z\", \"end_time\": \"2021-01-30T17:07:46.419403Z\", \"created_time\": \"2021-01-30T17:06:44.548181Z\", \"created_time_dt\": \"2021-01-30T17:06:44.548181Z\", \"duration\": \"0:01:01\", \"iteration\": \"7\", \"goal\": \"accuracy_max\", \"run_name\": \"MaxAbsScaler, GradientBoosting\", \"run_properties\": \"copy=True\", \"primary_metric\": 0.75228221, \"best_metric\": 0.78032081}, {\"run_id\": \"AutoML_fe62415d-cb89-433a-8b59-ba4737fbd123_8\", \"run_number\": 13, \"metric\": null, \"status\": \"Completed\", \"run_type\": \"azureml.scriptrun\", \"training_percent\": \"100\", \"start_time\": \"2021-01-30T17:08:00.246718Z\", \"end_time\": \"2021-01-30T17:08:46.13078Z\", \"created_time\": \"2021-01-30T17:07:48.808163Z\", \"created_time_dt\": \"2021-01-30T17:07:48.808163Z\", \"duration\": \"0:00:57\", \"iteration\": \"8\", \"goal\": \"accuracy_max\", \"run_name\": \"MaxAbsScaler, RandomForest\", \"run_properties\": \"copy=True\", \"primary_metric\": 0.69131455, \"best_metric\": 0.78032081}, {\"run_id\": \"AutoML_fe62415d-cb89-433a-8b59-ba4737fbd123_9\", \"run_number\": 14, \"metric\": null, \"status\": \"Completed\", \"run_type\": \"azureml.scriptrun\", \"training_percent\": \"100\", \"start_time\": \"2021-01-30T17:08:03.675066Z\", \"end_time\": \"2021-01-30T17:08:49.825619Z\", \"created_time\": \"2021-01-30T17:07:52.041509Z\", \"created_time_dt\": \"2021-01-30T17:07:52.041509Z\", \"duration\": \"0:00:57\", \"iteration\": \"9\", \"goal\": \"accuracy_max\", \"run_name\": \"SparseNormalizer, LightGBM\", \"run_properties\": \"<azureml.automl.runtime.shared.model_wrappers.SparseNormalizer object at 0x7ff2ad9c7cf8\", \"primary_metric\": 0.68688054, \"best_metric\": 0.78032081}, {\"run_id\": \"AutoML_fe62415d-cb89-433a-8b59-ba4737fbd123_10\", \"run_number\": 15, \"metric\": null, \"status\": \"Completed\", \"run_type\": \"azureml.scriptrun\", \"training_percent\": \"100\", \"start_time\": \"2021-01-30T17:08:07.703259Z\", \"end_time\": \"2021-01-30T17:08:50.54321Z\", \"created_time\": \"2021-01-30T17:07:55.58202Z\", \"created_time_dt\": \"2021-01-30T17:07:55.58202Z\", \"duration\": \"0:00:54\", \"iteration\": \"10\", \"goal\": \"accuracy_max\", \"run_name\": \"StandardScalerWrapper, RandomForest\", \"run_properties\": \"<azureml.automl.runtime.shared.model_wrappers.StandardScalerWrapper object at 0x7ff0500effd0\", \"primary_metric\": 0.7241784, \"best_metric\": 0.78032081}, {\"run_id\": \"AutoML_fe62415d-cb89-433a-8b59-ba4737fbd123_11\", \"run_number\": 16, \"metric\": null, \"status\": \"Completed\", \"run_type\": \"azureml.scriptrun\", \"training_percent\": \"100\", \"start_time\": \"2021-01-30T17:08:10.856695Z\", \"end_time\": \"2021-01-30T17:08:55.402755Z\", \"created_time\": \"2021-01-30T17:08:01.069411Z\", \"created_time_dt\": \"2021-01-30T17:08:01.069411Z\", \"duration\": \"0:00:54\", \"iteration\": \"11\", \"goal\": \"accuracy_max\", \"run_name\": \"StandardScalerWrapper, XGBoostClassifier\", \"run_properties\": \"<azureml.automl.runtime.shared.model_wrappers.StandardScalerWrapper object at 0x7f27c07c00f0\", \"primary_metric\": 0.64919144, \"best_metric\": 0.78032081}, {\"run_id\": \"AutoML_fe62415d-cb89-433a-8b59-ba4737fbd123_12\", \"run_number\": 17, \"metric\": null, \"status\": \"Completed\", \"run_type\": \"azureml.scriptrun\", \"training_percent\": \"100\", \"start_time\": \"2021-01-30T17:09:01.054843Z\", \"end_time\": \"2021-01-30T17:10:12.902992Z\", \"created_time\": \"2021-01-30T17:08:48.243141Z\", \"created_time_dt\": \"2021-01-30T17:08:48.243141Z\", \"duration\": \"0:01:24\", \"iteration\": \"12\", \"goal\": \"accuracy_max\", \"run_name\": \"StandardScalerWrapper, LightGBM\", \"run_properties\": \"<azureml.automl.runtime.shared.model_wrappers.StandardScalerWrapper object at 0x7fba7dd49ef0\", \"primary_metric\": 0.66797079, \"best_metric\": 0.78032081}, {\"run_id\": \"AutoML_fe62415d-cb89-433a-8b59-ba4737fbd123_13\", \"run_number\": 18, \"metric\": null, \"status\": \"Completed\", \"run_type\": \"azureml.scriptrun\", \"training_percent\": \"100\", \"start_time\": \"2021-01-30T17:09:01.486936Z\", \"end_time\": \"2021-01-30T17:09:46.534596Z\", \"created_time\": \"2021-01-30T17:08:51.647253Z\", \"created_time_dt\": \"2021-01-30T17:08:51.647253Z\", \"duration\": \"0:00:54\", \"iteration\": \"13\", \"goal\": \"accuracy_max\", \"run_name\": \"SparseNormalizer, XGBoostClassifier\", \"run_properties\": \"<azureml.automl.runtime.shared.model_wrappers.SparseNormalizer object at 0x7f2482a90e80\", \"primary_metric\": 0.72430882, \"best_metric\": 0.78032081}, {\"run_id\": \"AutoML_fe62415d-cb89-433a-8b59-ba4737fbd123_14\", \"run_number\": 19, \"metric\": null, \"status\": \"Completed\", \"run_type\": \"azureml.scriptrun\", \"training_percent\": \"100\", \"start_time\": \"2021-01-30T17:09:04.386755Z\", \"end_time\": \"2021-01-30T17:09:59.019237Z\", \"created_time\": \"2021-01-30T17:08:54.337619Z\", \"created_time_dt\": \"2021-01-30T17:08:54.337619Z\", \"duration\": \"0:01:04\", \"iteration\": \"14\", \"goal\": \"accuracy_max\", \"run_name\": \"RobustScaler, ExtremeRandomTrees\", \"run_properties\": \"copy=True, quantile_range=[25, 75], with_centering=True,\\n             with_scaling=False\", \"primary_metric\": 0.63993219, \"best_metric\": 0.78032081}, {\"run_id\": \"AutoML_fe62415d-cb89-433a-8b59-ba4737fbd123_15\", \"run_number\": 20, \"metric\": null, \"status\": \"Completed\", \"run_type\": \"azureml.scriptrun\", \"training_percent\": \"100\", \"start_time\": \"2021-01-30T17:09:07.424639Z\", \"end_time\": \"2021-01-30T17:10:00.309755Z\", \"created_time\": \"2021-01-30T17:08:57.487867Z\", \"created_time_dt\": \"2021-01-30T17:08:57.487867Z\", \"duration\": \"0:01:02\", \"iteration\": \"15\", \"goal\": \"accuracy_max\", \"run_name\": \"StandardScalerWrapper, ExtremeRandomTrees\", \"run_properties\": \"<azureml.automl.runtime.shared.model_wrappers.StandardScalerWrapper object at 0x7f1bf5b6df28\", \"primary_metric\": 0.62584768, \"best_metric\": 0.78032081}, {\"run_id\": \"AutoML_fe62415d-cb89-433a-8b59-ba4737fbd123_16\", \"run_number\": 21, \"metric\": null, \"status\": \"Completed\", \"run_type\": \"azureml.scriptrun\", \"training_percent\": \"100\", \"start_time\": \"2021-01-30T17:10:02.462471Z\", \"end_time\": \"2021-01-30T17:10:54.503667Z\", \"created_time\": \"2021-01-30T17:09:49.777504Z\", \"created_time_dt\": \"2021-01-30T17:09:49.777504Z\", \"duration\": \"0:01:04\", \"iteration\": \"16\", \"goal\": \"accuracy_max\", \"run_name\": \"RobustScaler, LightGBM\", \"run_properties\": \"copy=True, quantile_range=[10, 90], with_centering=False,\\n             with_scaling=False\", \"primary_metric\": 0.65871153, \"best_metric\": 0.78032081}, {\"run_id\": \"AutoML_fe62415d-cb89-433a-8b59-ba4737fbd123_17\", \"run_number\": 22, \"metric\": null, \"status\": \"Completed\", \"run_type\": \"azureml.scriptrun\", \"training_percent\": \"100\", \"start_time\": \"2021-01-30T17:10:14.819905Z\", \"end_time\": \"2021-01-30T17:11:06.42165Z\", \"created_time\": \"2021-01-30T17:10:01.55097Z\", \"created_time_dt\": \"2021-01-30T17:10:01.55097Z\", \"duration\": \"0:01:04\", \"iteration\": \"17\", \"goal\": \"accuracy_max\", \"run_name\": \"MaxAbsScaler, LightGBM\", \"run_properties\": \"copy=True\", \"primary_metric\": 0.66360198, \"best_metric\": 0.78032081}, {\"run_id\": \"AutoML_fe62415d-cb89-433a-8b59-ba4737fbd123_18\", \"run_number\": 23, \"metric\": null, \"status\": \"Completed\", \"run_type\": \"azureml.scriptrun\", \"training_percent\": \"100\", \"start_time\": \"2021-01-30T17:10:17.542357Z\", \"end_time\": \"2021-01-30T17:11:06.124026Z\", \"created_time\": \"2021-01-30T17:10:04.927423Z\", \"created_time_dt\": \"2021-01-30T17:10:04.927423Z\", \"duration\": \"0:01:01\", \"iteration\": \"18\", \"goal\": \"accuracy_max\", \"run_name\": \"MaxAbsScaler, ExtremeRandomTrees\", \"run_properties\": \"copy=True\", \"primary_metric\": 0.6681012, \"best_metric\": 0.78032081}, {\"run_id\": \"AutoML_fe62415d-cb89-433a-8b59-ba4737fbd123_19\", \"run_number\": 24, \"metric\": null, \"status\": \"Completed\", \"run_type\": \"azureml.scriptrun\", \"training_percent\": \"100\", \"start_time\": \"2021-01-30T17:10:28.148761Z\", \"end_time\": \"2021-01-30T17:11:13.924435Z\", \"created_time\": \"2021-01-30T17:10:14.688077Z\", \"created_time_dt\": \"2021-01-30T17:10:14.688077Z\", \"duration\": \"0:00:59\", \"iteration\": \"19\", \"goal\": \"accuracy_max\", \"run_name\": \"SparseNormalizer, XGBoostClassifier\", \"run_properties\": \"<azureml.automl.runtime.shared.model_wrappers.SparseNormalizer object at 0x7f7ae997def0\", \"primary_metric\": 0.70103026, \"best_metric\": 0.78032081}, {\"run_id\": \"AutoML_fe62415d-cb89-433a-8b59-ba4737fbd123_20\", \"run_number\": 25, \"metric\": null, \"status\": \"Completed\", \"run_type\": \"azureml.scriptrun\", \"training_percent\": \"100\", \"start_time\": \"2021-01-30T17:11:07.712668Z\", \"end_time\": \"2021-01-30T17:11:53.94223Z\", \"created_time\": \"2021-01-30T17:10:56.135976Z\", \"created_time_dt\": \"2021-01-30T17:10:56.135976Z\", \"duration\": \"0:00:57\", \"iteration\": \"20\", \"goal\": \"accuracy_max\", \"run_name\": \"StandardScalerWrapper, LightGBM\", \"run_properties\": \"<azureml.automl.runtime.shared.model_wrappers.StandardScalerWrapper object at 0x7f6680fa2860\", \"primary_metric\": 0.71478873, \"best_metric\": 0.78032081}, {\"run_id\": \"AutoML_fe62415d-cb89-433a-8b59-ba4737fbd123_21\", \"run_number\": 26, \"metric\": null, \"status\": \"Completed\", \"run_type\": \"azureml.scriptrun\", \"training_percent\": \"100\", \"start_time\": \"2021-01-30T17:11:19.380674Z\", \"end_time\": \"2021-01-30T17:12:14.519551Z\", \"created_time\": \"2021-01-30T17:11:07.983708Z\", \"created_time_dt\": \"2021-01-30T17:11:07.983708Z\", \"duration\": \"0:01:06\", \"iteration\": \"21\", \"goal\": \"accuracy_max\", \"run_name\": \"RobustScaler, ExtremeRandomTrees\", \"run_properties\": \"copy=True, quantile_range=[25, 75], with_centering=True,\\n             with_scaling=False\", \"primary_metric\": 0.63054251, \"best_metric\": 0.78032081}, {\"run_id\": \"AutoML_fe62415d-cb89-433a-8b59-ba4737fbd123_22\", \"run_number\": 27, \"metric\": null, \"status\": \"Completed\", \"run_type\": \"azureml.scriptrun\", \"training_percent\": \"100\", \"start_time\": \"2021-01-30T17:11:19.565029Z\", \"end_time\": \"2021-01-30T17:12:05.615636Z\", \"created_time\": \"2021-01-30T17:11:07.996099Z\", \"created_time_dt\": \"2021-01-30T17:11:07.996099Z\", \"duration\": \"0:00:57\", \"iteration\": \"22\", \"goal\": \"accuracy_max\", \"run_name\": \"SparseNormalizer, XGBoostClassifier\", \"run_properties\": \"<azureml.automl.runtime.shared.model_wrappers.SparseNormalizer object at 0x7fdd2da9db00\", \"primary_metric\": 0.70070423, \"best_metric\": 0.78032081}, {\"run_id\": \"AutoML_fe62415d-cb89-433a-8b59-ba4737fbd123_23\", \"run_number\": 28, \"metric\": null, \"status\": \"Completed\", \"run_type\": \"azureml.scriptrun\", \"training_percent\": \"100\", \"start_time\": \"2021-01-30T17:11:27.087877Z\", \"end_time\": \"2021-01-30T17:12:16.03501Z\", \"created_time\": \"2021-01-30T17:11:15.616975Z\", \"created_time_dt\": \"2021-01-30T17:11:15.616975Z\", \"duration\": \"0:01:00\", \"iteration\": \"23\", \"goal\": \"accuracy_max\", \"run_name\": \"MinMaxScaler, ExtremeRandomTrees\", \"run_properties\": \"copy=True, feature_range=(0, 1\", \"primary_metric\": 0.68185968, \"best_metric\": 0.78032081}, {\"run_id\": \"AutoML_fe62415d-cb89-433a-8b59-ba4737fbd123_24\", \"run_number\": 29, \"metric\": null, \"status\": \"Completed\", \"run_type\": \"azureml.scriptrun\", \"training_percent\": \"100\", \"start_time\": \"2021-01-30T17:12:07.49494Z\", \"end_time\": \"2021-01-30T17:12:55.737133Z\", \"created_time\": \"2021-01-30T17:11:55.72168Z\", \"created_time_dt\": \"2021-01-30T17:11:55.72168Z\", \"duration\": \"0:01:00\", \"iteration\": \"24\", \"goal\": \"accuracy_max\", \"run_name\": \"StandardScalerWrapper, LightGBM\", \"run_properties\": \"<azureml.automl.runtime.shared.model_wrappers.StandardScalerWrapper object at 0x7fd2dd052be0\", \"primary_metric\": 0.67260042, \"best_metric\": 0.78032081}, {\"run_id\": \"AutoML_fe62415d-cb89-433a-8b59-ba4737fbd123_25\", \"run_number\": 30, \"metric\": null, \"status\": \"Completed\", \"run_type\": \"azureml.scriptrun\", \"training_percent\": \"100\", \"start_time\": \"2021-01-30T17:12:21.877161Z\", \"end_time\": \"2021-01-30T17:13:16.603403Z\", \"created_time\": \"2021-01-30T17:12:09.926976Z\", \"created_time_dt\": \"2021-01-30T17:12:09.926976Z\", \"duration\": \"0:01:06\", \"iteration\": \"25\", \"goal\": \"accuracy_max\", \"run_name\": \"PCA, XGBoostClassifier\", \"run_properties\": \"copy=True, iterated_power='auto', n_components=0.40578947368421053,\\n    random_state=None, svd_solver='auto', tol=0.0, whiten=True\", \"primary_metric\": 0.56077204, \"best_metric\": 0.78032081}, {\"run_id\": \"AutoML_fe62415d-cb89-433a-8b59-ba4737fbd123_26\", \"run_number\": 31, \"metric\": null, \"status\": \"Completed\", \"run_type\": \"azureml.scriptrun\", \"training_percent\": \"100\", \"start_time\": \"2021-01-30T17:12:26.163666Z\", \"end_time\": \"2021-01-30T17:13:23.029007Z\", \"created_time\": \"2021-01-30T17:12:16.123075Z\", \"created_time_dt\": \"2021-01-30T17:12:16.123075Z\", \"duration\": \"0:01:06\", \"iteration\": \"26\", \"goal\": \"accuracy_max\", \"run_name\": \"SparseNormalizer, ExtremeRandomTrees\", \"run_properties\": \"<azureml.automl.runtime.shared.model_wrappers.SparseNormalizer object at 0x7fc8f9a66ac8\", \"primary_metric\": 0.64964789, \"best_metric\": 0.78032081}, {\"run_id\": \"AutoML_fe62415d-cb89-433a-8b59-ba4737fbd123_27\", \"run_number\": 32, \"metric\": null, \"status\": \"Completed\", \"run_type\": \"azureml.scriptrun\", \"training_percent\": \"100\", \"start_time\": \"2021-01-30T17:12:30.274689Z\", \"end_time\": \"2021-01-30T17:13:22.103909Z\", \"created_time\": \"2021-01-30T17:12:18.718261Z\", \"created_time_dt\": \"2021-01-30T17:12:18.718261Z\", \"duration\": \"0:01:03\", \"iteration\": \"27\", \"goal\": \"accuracy_max\", \"run_name\": \"StandardScalerWrapper, LogisticRegression\", \"run_properties\": \"<azureml.automl.runtime.shared.model_wrappers.StandardScalerWrapper object at 0x7fab4a8b3518\", \"primary_metric\": 0.64482264, \"best_metric\": 0.78032081}, {\"run_id\": \"AutoML_fe62415d-cb89-433a-8b59-ba4737fbd123_28\", \"run_number\": 33, \"metric\": null, \"status\": \"Completed\", \"run_type\": \"azureml.scriptrun\", \"training_percent\": \"100\", \"start_time\": \"2021-01-30T17:13:08.968401Z\", \"end_time\": \"2021-01-30T17:14:00.715154Z\", \"created_time\": \"2021-01-30T17:12:57.527835Z\", \"created_time_dt\": \"2021-01-30T17:12:57.527835Z\", \"duration\": \"0:01:03\", \"iteration\": \"28\", \"goal\": \"accuracy_max\", \"run_name\": \"RobustScaler, LogisticRegression\", \"run_properties\": \"copy=True, quantile_range=[10, 90], with_centering=True,\\n             with_scaling=True\", \"primary_metric\": 0.60745957, \"best_metric\": 0.78032081}, {\"run_id\": \"AutoML_fe62415d-cb89-433a-8b59-ba4737fbd123_29\", \"run_number\": 34, \"metric\": null, \"status\": \"Completed\", \"run_type\": \"azureml.scriptrun\", \"training_percent\": \"100\", \"start_time\": \"2021-01-30T17:13:29.970322Z\", \"end_time\": \"2021-01-30T17:14:16.03751Z\", \"created_time\": \"2021-01-30T17:13:18.641536Z\", \"created_time_dt\": \"2021-01-30T17:13:18.641536Z\", \"duration\": \"0:00:57\", \"iteration\": \"29\", \"goal\": \"accuracy_max\", \"run_name\": \"StandardScalerWrapper, XGBoostClassifier\", \"run_properties\": \"<azureml.automl.runtime.shared.model_wrappers.StandardScalerWrapper object at 0x7f0f876cd518\", \"primary_metric\": 0.69627021, \"best_metric\": 0.78032081}, {\"run_id\": \"AutoML_fe62415d-cb89-433a-8b59-ba4737fbd123_30\", \"run_number\": 35, \"metric\": null, \"status\": \"Completed\", \"run_type\": \"azureml.scriptrun\", \"training_percent\": \"100\", \"start_time\": \"2021-01-30T17:13:37.263463Z\", \"end_time\": \"2021-01-30T17:14:24.005777Z\", \"created_time\": \"2021-01-30T17:13:25.220735Z\", \"created_time_dt\": \"2021-01-30T17:13:25.220735Z\", \"duration\": \"0:00:58\", \"iteration\": \"30\", \"goal\": \"accuracy_max\", \"run_name\": \"SparseNormalizer, XGBoostClassifier\", \"run_properties\": \"<azureml.automl.runtime.shared.model_wrappers.SparseNormalizer object at 0x7f28b06a0e48\", \"primary_metric\": 0.71961398, \"best_metric\": 0.78032081}, {\"run_id\": \"AutoML_fe62415d-cb89-433a-8b59-ba4737fbd123_31\", \"run_number\": 36, \"metric\": null, \"status\": \"Completed\", \"run_type\": \"azureml.scriptrun\", \"training_percent\": \"100\", \"start_time\": \"2021-01-30T17:13:38.878746Z\", \"end_time\": \"2021-01-30T17:14:29.13814Z\", \"created_time\": \"2021-01-30T17:13:29.402324Z\", \"created_time_dt\": \"2021-01-30T17:13:29.402324Z\", \"duration\": \"0:00:59\", \"iteration\": \"31\", \"goal\": \"accuracy_max\", \"run_name\": \"StandardScalerWrapper, XGBoostClassifier\", \"run_properties\": \"<azureml.automl.runtime.shared.model_wrappers.StandardScalerWrapper object at 0x7ff286348358\", \"primary_metric\": 0.7758216, \"best_metric\": 0.78032081}, {\"run_id\": \"AutoML_fe62415d-cb89-433a-8b59-ba4737fbd123_32\", \"run_number\": 37, \"metric\": null, \"status\": \"Completed\", \"run_type\": \"azureml.scriptrun\", \"training_percent\": \"100\", \"start_time\": \"2021-01-30T17:14:12.08285Z\", \"end_time\": \"2021-01-30T17:14:57.014235Z\", \"created_time\": \"2021-01-30T17:14:02.621833Z\", \"created_time_dt\": \"2021-01-30T17:14:02.621833Z\", \"duration\": \"0:00:54\", \"iteration\": \"32\", \"goal\": \"accuracy_max\", \"run_name\": \"SparseNormalizer, XGBoostClassifier\", \"run_properties\": \"<azureml.automl.runtime.shared.model_wrappers.SparseNormalizer object at 0x7eff81939d30\", \"primary_metric\": 0.6400626, \"best_metric\": 0.78032081}, {\"run_id\": \"AutoML_fe62415d-cb89-433a-8b59-ba4737fbd123_33\", \"run_number\": 38, \"metric\": null, \"status\": \"Canceled\", \"run_type\": \"azureml.scriptrun\", \"training_percent\": \"100\", \"start_time\": \"2021-01-30T17:14:30.6355Z\", \"end_time\": \"2021-01-30T17:15:05.041303Z\", \"created_time\": \"2021-01-30T17:14:17.922221Z\", \"created_time_dt\": \"2021-01-30T17:14:17.922221Z\", \"duration\": \"0:00:47\", \"iteration\": \"33\", \"goal\": \"accuracy_max\", \"run_name\": \"MaxAbsScaler, LightGBM\", \"run_properties\": \"copy=True\", \"primary_metric\": 0.7381325, \"best_metric\": 0.78032081}, {\"run_id\": \"AutoML_fe62415d-cb89-433a-8b59-ba4737fbd123_34\", \"run_number\": 39, \"metric\": null, \"status\": \"Canceled\", \"run_type\": \"azureml.scriptrun\", \"training_percent\": \"100\", \"start_time\": \"2021-01-30T17:14:36.932807Z\", \"end_time\": \"2021-01-30T17:15:05.69065Z\", \"created_time\": \"2021-01-30T17:14:25.590491Z\", \"created_time_dt\": \"2021-01-30T17:14:25.590491Z\", \"duration\": \"0:00:40\", \"iteration\": \"34\", \"goal\": \"accuracy_max\", \"run_name\": \"SparseNormalizer, LightGBM\", \"run_properties\": \"<azureml.automl.runtime.shared.model_wrappers.SparseNormalizer object at 0x7fee19ac2e80\", \"primary_metric\": 0.72887324, \"best_metric\": 0.78032081}, {\"run_id\": \"AutoML_fe62415d-cb89-433a-8b59-ba4737fbd123_35\", \"run_number\": 40, \"metric\": null, \"status\": \"Canceled\", \"run_type\": \"azureml.scriptrun\", \"training_percent\": \"100\", \"start_time\": \"2021-01-30T17:14:43.311373Z\", \"end_time\": \"2021-01-30T17:15:06.617013Z\", \"created_time\": \"2021-01-30T17:14:31.746818Z\", \"created_time_dt\": \"2021-01-30T17:14:31.746818Z\", \"duration\": \"0:00:34\", \"iteration\": \"35\", \"goal\": null, \"run_name\": \"SparseNormalizer, XGBoostClassifier\", \"run_properties\": null, \"primary_metric\": 0.68694575, \"best_metric\": 0.78032081}, {\"run_id\": \"AutoML_fe62415d-cb89-433a-8b59-ba4737fbd123_36\", \"run_number\": 41, \"metric\": null, \"status\": \"Completed\", \"run_type\": \"azureml.scriptrun\", \"training_percent\": \"100\", \"start_time\": \"2021-01-30T17:15:23.53338Z\", \"end_time\": \"2021-01-30T17:16:35.242539Z\", \"created_time\": \"2021-01-30T17:15:08.479328Z\", \"created_time_dt\": \"2021-01-30T17:15:08.479328Z\", \"duration\": \"0:01:26\", \"iteration\": \"36\", \"goal\": \"accuracy_max\", \"run_name\": \"VotingEnsemble\", \"run_properties\": \"classification_labels=None,\\n                              estimators=[('1',\\n                                           Pipeline(memory=None,\\n                                                    steps=[('maxabsscaler',\\n                                                            MaxAbsScaler(copy=True\", \"primary_metric\": 0.78977569, \"best_metric\": 0.78977569}, {\"run_id\": \"AutoML_fe62415d-cb89-433a-8b59-ba4737fbd123_37\", \"run_number\": 42, \"metric\": null, \"status\": \"Completed\", \"run_type\": \"azureml.scriptrun\", \"training_percent\": \"100\", \"start_time\": \"2021-01-30T17:15:20.192366Z\", \"end_time\": \"2021-01-30T17:16:40.174246Z\", \"created_time\": \"2021-01-30T17:15:08.507334Z\", \"created_time_dt\": \"2021-01-30T17:15:08.507334Z\", \"duration\": \"0:01:31\", \"iteration\": \"37\", \"goal\": \"accuracy_max\", \"run_name\": \"StackEnsemble\", \"run_properties\": \"base_learners=[('1',\\n                                        Pipeline(memory=None,\\n                                                 steps=[('maxabsscaler',\\n                                                         MaxAbsScaler(copy=True\", \"primary_metric\": 0.77106155, \"best_metric\": 0.78977569}], \"children_metrics\": {\"categories\": [0], \"series\": {\"f1_score_macro\": [{\"categories\": [\"0\", \"1\", \"2\", \"3\", \"4\", \"5\", \"6\", \"7\", \"8\", \"9\", \"10\", \"11\", \"12\", \"13\", \"14\", \"15\", \"16\", \"17\", \"18\", \"19\", \"20\", \"21\", \"22\", \"23\", \"24\", \"25\", \"26\", \"27\", \"28\", \"29\", \"30\", \"31\", \"32\", \"33\", \"34\", \"35\", \"36\", \"37\"], \"mode\": \"markers\", \"name\": \"f1_score_macro\", \"stepped\": false, \"type\": \"scatter\", \"data\": [0.6862163388101682, 0.7192363171875907, 0.706848620268894, 0.5024279967658122, 0.73292593824265, 0.5331799163397444, 0.535512705869028, 0.6722210342308381, 0.46765793229976005, 0.5121294589829771, 0.6349790886628264, 0.5483704659587326, 0.3825656995299516, 0.6495032193277807, 0.3569541352362584, 0.3501923403163572, 0.3780755075774233, 0.3774557876636331, 0.37443434153687344, 0.574869684606952, 0.5395675843888356, 0.35273600090095353, 0.577410926338605, 0.5135363778235896, 0.38075288145133906, 0.43203834716386186, 0.6362847004605819, 0.6267305940856643, 0.6262027745416304, 0.5611756652933124, 0.6488372336616618, 0.7045052594761403, 0.42448849114474924, 0.6489517054971424, 0.616275757863368, 0.5887997964483805, 0.6993182615728486, 0.6411820371018959]}, {\"categories\": [\"0\", \"1\", \"2\", \"3\", \"4\", \"5\", \"6\", \"7\", \"8\", \"9\", \"10\", \"11\", \"12\", \"13\", \"14\", \"15\", \"16\", \"17\", \"18\", \"19\", \"20\", \"21\", \"22\", \"23\", \"24\", \"25\", \"26\", \"27\", \"28\", \"29\", \"30\", \"31\", \"32\", \"33\", \"34\", \"35\", \"36\", \"37\"], \"mode\": \"lines\", \"name\": \"f1_score_macro_max\", \"stepped\": true, \"type\": \"scatter\", \"data\": [0.6862163388101682, 0.7192363171875907, 0.7192363171875907, 0.7192363171875907, 0.73292593824265, 0.73292593824265, 0.73292593824265, 0.73292593824265, 0.73292593824265, 0.73292593824265, 0.73292593824265, 0.73292593824265, 0.73292593824265, 0.73292593824265, 0.73292593824265, 0.73292593824265, 0.73292593824265, 0.73292593824265, 0.73292593824265, 0.73292593824265, 0.73292593824265, 0.73292593824265, 0.73292593824265, 0.73292593824265, 0.73292593824265, 0.73292593824265, 0.73292593824265, 0.73292593824265, 0.73292593824265, 0.73292593824265, 0.73292593824265, 0.73292593824265, 0.73292593824265, 0.73292593824265, 0.73292593824265, 0.73292593824265, 0.73292593824265, 0.73292593824265]}], \"recall_score_weighted\": [{\"categories\": [\"0\", \"1\", \"2\", \"3\", \"4\", \"5\", \"6\", \"7\", \"8\", \"9\", \"10\", \"11\", \"12\", \"13\", \"14\", \"15\", \"16\", \"17\", \"18\", \"19\", \"20\", \"21\", \"22\", \"23\", \"24\", \"25\", \"26\", \"27\", \"28\", \"29\", \"30\", \"31\", \"32\", \"33\", \"34\", \"35\", \"36\", \"37\"], \"mode\": \"markers\", \"name\": \"recall_score_weighted\", \"stepped\": false, \"type\": \"scatter\", \"data\": [0.7522822117892539, 0.780320813771518, 0.7477829942618675, 0.6820552947313511, 0.7755607720396452, 0.6915753781950965, 0.6680359937402192, 0.7522822117892539, 0.6913145539906104, 0.6868805425143454, 0.7241784037558685, 0.6491914449660928, 0.6679707876890976, 0.7243088158581116, 0.6399321857068335, 0.62584767866458, 0.6587115284298383, 0.6636019822639541, 0.6681011997913405, 0.7010302556077205, 0.7147887323943661, 0.6305425143453313, 0.7007042253521126, 0.6818596765779864, 0.6726004173187272, 0.560772039645279, 0.6496478873239436, 0.6448226395409494, 0.6074595722483047, 0.6962702138758475, 0.7196139801773604, 0.7758215962441315, 0.6400625978090767, 0.7381324986958789, 0.7288732394366196, 0.686945748565467, 0.7897756911841419, 0.7710615545122588]}, {\"categories\": [\"0\", \"1\", \"2\", \"3\", \"4\", \"5\", \"6\", \"7\", \"8\", \"9\", \"10\", \"11\", \"12\", \"13\", \"14\", \"15\", \"16\", \"17\", \"18\", \"19\", \"20\", \"21\", \"22\", \"23\", \"24\", \"25\", \"26\", \"27\", \"28\", \"29\", \"30\", \"31\", \"32\", \"33\", \"34\", \"35\", \"36\", \"37\"], \"mode\": \"lines\", \"name\": \"recall_score_weighted_max\", \"stepped\": true, \"type\": \"scatter\", \"data\": [0.7522822117892539, 0.780320813771518, 0.780320813771518, 0.780320813771518, 0.780320813771518, 0.780320813771518, 0.780320813771518, 0.780320813771518, 0.780320813771518, 0.780320813771518, 0.780320813771518, 0.780320813771518, 0.780320813771518, 0.780320813771518, 0.780320813771518, 0.780320813771518, 0.780320813771518, 0.780320813771518, 0.780320813771518, 0.780320813771518, 0.780320813771518, 0.780320813771518, 0.780320813771518, 0.780320813771518, 0.780320813771518, 0.780320813771518, 0.780320813771518, 0.780320813771518, 0.780320813771518, 0.780320813771518, 0.780320813771518, 0.780320813771518, 0.780320813771518, 0.780320813771518, 0.780320813771518, 0.780320813771518, 0.7897756911841419, 0.7897756911841419]}], \"norm_macro_recall\": [{\"categories\": [\"0\", \"1\", \"2\", \"3\", \"4\", \"5\", \"6\", \"7\", \"8\", \"9\", \"10\", \"11\", \"12\", \"13\", \"14\", \"15\", \"16\", \"17\", \"18\", \"19\", \"20\", \"21\", \"22\", \"23\", \"24\", \"25\", \"26\", \"27\", \"28\", \"29\", \"30\", \"31\", \"32\", \"33\", \"34\", \"35\", \"36\", \"37\"], \"mode\": \"markers\", \"name\": \"norm_macro_recall\", \"stepped\": false, \"type\": \"scatter\", \"data\": [0.6010497956150129, 0.6506503158677072, 0.6349033816425121, 0.3948824122737167, 0.6976256834952487, 0.4243457026065722, 0.4558714232627276, 0.5736064659977703, 0.37970616340181557, 0.39952487126400166, 0.5537957211870256, 0.4789204756596061, 0.28673222912353347, 0.5747106757976325, 0.2800777724690768, 0.26509130965652705, 0.28370892392631525, 0.2751048468439773, 0.2885026808939853, 0.48877873334395067, 0.4381921218877742, 0.2744014439666614, 0.5208618676009981, 0.44048149917715135, 0.2867640813292987, 0.34504698200350364, 0.6237697085523174, 0.6295920263311567, 0.6235839040186867, 0.45724239528587357, 0.5888397834050009, 0.6395392047565961, 0.3254366406540319, 0.5756211180124223, 0.5294380740032915, 0.4980649784997611, 0.6394463024897807, 0.5847149227584009]}, {\"categories\": [\"0\", \"1\", \"2\", \"3\", \"4\", \"5\", \"6\", \"7\", \"8\", \"9\", \"10\", \"11\", \"12\", \"13\", \"14\", \"15\", \"16\", \"17\", \"18\", \"19\", \"20\", \"21\", \"22\", \"23\", \"24\", \"25\", \"26\", \"27\", \"28\", \"29\", \"30\", \"31\", \"32\", \"33\", \"34\", \"35\", \"36\", \"37\"], \"mode\": \"lines\", \"name\": \"norm_macro_recall_max\", \"stepped\": true, \"type\": \"scatter\", \"data\": [0.6010497956150129, 0.6506503158677072, 0.6506503158677072, 0.6506503158677072, 0.6976256834952487, 0.6976256834952487, 0.6976256834952487, 0.6976256834952487, 0.6976256834952487, 0.6976256834952487, 0.6976256834952487, 0.6976256834952487, 0.6976256834952487, 0.6976256834952487, 0.6976256834952487, 0.6976256834952487, 0.6976256834952487, 0.6976256834952487, 0.6976256834952487, 0.6976256834952487, 0.6976256834952487, 0.6976256834952487, 0.6976256834952487, 0.6976256834952487, 0.6976256834952487, 0.6976256834952487, 0.6976256834952487, 0.6976256834952487, 0.6976256834952487, 0.6976256834952487, 0.6976256834952487, 0.6976256834952487, 0.6976256834952487, 0.6976256834952487, 0.6976256834952487, 0.6976256834952487, 0.6976256834952487, 0.6976256834952487]}], \"average_precision_score_macro\": [{\"categories\": [\"0\", \"1\", \"2\", \"3\", \"4\", \"5\", \"6\", \"7\", \"8\", \"9\", \"10\", \"11\", \"12\", \"13\", \"14\", \"15\", \"16\", \"17\", \"18\", \"19\", \"20\", \"21\", \"22\", \"23\", \"24\", \"25\", \"26\", \"27\", \"28\", \"29\", \"30\", \"31\", \"32\", \"33\", \"34\", \"35\", \"36\", \"37\"], \"mode\": \"markers\", \"name\": \"average_precision_score_macro\", \"stepped\": false, \"type\": \"scatter\", \"data\": [0.725373969661606, 0.7872443171617922, 0.7840661938343851, 0.7440297367342, 0.7940319093743019, 0.7158883678040929, 0.7409719113573615, 0.7897444019581302, 0.7665410872193118, 0.7242247086944161, 0.7781835428970716, 0.6860106455830479, 0.6599394365774708, 0.7178159708556068, 0.7192121385899267, 0.7249766332306624, 0.6961042120536639, 0.708352827966499, 0.7366566517511145, 0.7296783946641149, 0.7201923211853761, 0.6908472593095952, 0.7043549317729584, 0.748422938092758, 0.6470711269254373, 0.49273534239097955, 0.7312155525879557, 0.619699862030142, 0.6518174866330234, 0.7438688317440647, 0.7048402418601761, 0.7927208991245189, 0.658401394226608, 0.731374347083678, 0.7051652986496008, 0.7032594585729838, 0.802038102416386, 0.7884821112404875]}, {\"categories\": [\"0\", \"1\", \"2\", \"3\", \"4\", \"5\", \"6\", \"7\", \"8\", \"9\", \"10\", \"11\", \"12\", \"13\", \"14\", \"15\", \"16\", \"17\", \"18\", \"19\", \"20\", \"21\", \"22\", \"23\", \"24\", \"25\", \"26\", \"27\", \"28\", \"29\", \"30\", \"31\", \"32\", \"33\", \"34\", \"35\", \"36\", \"37\"], \"mode\": \"lines\", \"name\": \"average_precision_score_macro_max\", \"stepped\": true, \"type\": \"scatter\", \"data\": [0.725373969661606, 0.7872443171617922, 0.7872443171617922, 0.7872443171617922, 0.7940319093743019, 0.7940319093743019, 0.7940319093743019, 0.7940319093743019, 0.7940319093743019, 0.7940319093743019, 0.7940319093743019, 0.7940319093743019, 0.7940319093743019, 0.7940319093743019, 0.7940319093743019, 0.7940319093743019, 0.7940319093743019, 0.7940319093743019, 0.7940319093743019, 0.7940319093743019, 0.7940319093743019, 0.7940319093743019, 0.7940319093743019, 0.7940319093743019, 0.7940319093743019, 0.7940319093743019, 0.7940319093743019, 0.7940319093743019, 0.7940319093743019, 0.7940319093743019, 0.7940319093743019, 0.7940319093743019, 0.7940319093743019, 0.7940319093743019, 0.7940319093743019, 0.7940319093743019, 0.802038102416386, 0.802038102416386]}], \"weighted_accuracy\": [{\"categories\": [\"0\", \"1\", \"2\", \"3\", \"4\", \"5\", \"6\", \"7\", \"8\", \"9\", \"10\", \"11\", \"12\", \"13\", \"14\", \"15\", \"16\", \"17\", \"18\", \"19\", \"20\", \"21\", \"22\", \"23\", \"24\", \"25\", \"26\", \"27\", \"28\", \"29\", \"30\", \"31\", \"32\", \"33\", \"34\", \"35\", \"36\", \"37\"], \"mode\": \"markers\", \"name\": \"weighted_accuracy\", \"stepped\": false, \"type\": \"scatter\", \"data\": [0.7955556819340971, 0.8226565431436782, 0.7715348102170431, 0.7611627367453734, 0.7968782935526783, 0.773118616191077, 0.725145658791779, 0.8046816690031652, 0.783807400306137, 0.7780993208958794, 0.7774676267825016, 0.6904667069272591, 0.7788801055802445, 0.7687624260948819, 0.7331401486873631, 0.7195881503868536, 0.7631026955038426, 0.7813927998534008, 0.7761394785801912, 0.7613302244212088, 0.7968763256582441, 0.7218180094838068, 0.7553748101688988, 0.7546988594938419, 0.7881272716166734, 0.6167683622755238, 0.6334087452145409, 0.6270667450213624, 0.5708267834645112, 0.7652954895799388, 0.755395470051445, 0.8208922625941483, 0.7243201842478776, 0.7897519580399169, 0.7935895146733009, 0.7417883767248038, 0.8432082155680911, 0.8322448289361123]}, {\"categories\": [\"0\", \"1\", \"2\", \"3\", \"4\", \"5\", \"6\", \"7\", \"8\", \"9\", \"10\", \"11\", \"12\", \"13\", \"14\", \"15\", \"16\", \"17\", \"18\", \"19\", \"20\", \"21\", \"22\", \"23\", \"24\", \"25\", \"26\", \"27\", \"28\", \"29\", \"30\", \"31\", \"32\", \"33\", \"34\", \"35\", \"36\", \"37\"], \"mode\": \"lines\", \"name\": \"weighted_accuracy_max\", \"stepped\": true, \"type\": \"scatter\", \"data\": [0.7955556819340971, 0.8226565431436782, 0.8226565431436782, 0.8226565431436782, 0.8226565431436782, 0.8226565431436782, 0.8226565431436782, 0.8226565431436782, 0.8226565431436782, 0.8226565431436782, 0.8226565431436782, 0.8226565431436782, 0.8226565431436782, 0.8226565431436782, 0.8226565431436782, 0.8226565431436782, 0.8226565431436782, 0.8226565431436782, 0.8226565431436782, 0.8226565431436782, 0.8226565431436782, 0.8226565431436782, 0.8226565431436782, 0.8226565431436782, 0.8226565431436782, 0.8226565431436782, 0.8226565431436782, 0.8226565431436782, 0.8226565431436782, 0.8226565431436782, 0.8226565431436782, 0.8226565431436782, 0.8226565431436782, 0.8226565431436782, 0.8226565431436782, 0.8226565431436782, 0.8432082155680911, 0.8432082155680911]}], \"matthews_correlation\": [{\"categories\": [\"0\", \"1\", \"2\", \"3\", \"4\", \"5\", \"6\", \"7\", \"8\", \"9\", \"10\", \"11\", \"12\", \"13\", \"14\", \"15\", \"16\", \"17\", \"18\", \"19\", \"20\", \"21\", \"22\", \"23\", \"24\", \"25\", \"26\", \"27\", \"28\", \"29\", \"30\", \"31\", \"32\", \"33\", \"34\", \"35\", \"36\", \"37\"], \"mode\": \"markers\", \"name\": \"matthews_correlation\", \"stepped\": false, \"type\": \"scatter\", \"data\": [0.6605235967108184, 0.7038157258023986, 0.6524790172144019, 0.5512913519707595, 0.6958472799493989, 0.5669986369716439, 0.5407345360924624, 0.6562288298059987, 0.5668031956340657, 0.5579032849970199, 0.6178708670779813, 0.5170762826864247, 0.5291402817466258, 0.6201282269820627, 0.49461592982548436, 0.4701760909514912, 0.5141163969500689, 0.5235798223030472, 0.5289881497294181, 0.5861736972038957, 0.6018862260910646, 0.48078193037882055, 0.5846733432829273, 0.5564069634677311, 0.5341002370970969, 0.395657588465087, 0.5406471928839996, 0.539767591536975, 0.4928094781925037, 0.5774580795392769, 0.6195127534017107, 0.6952716855681293, 0.49539930932492443, 0.6382268089401834, 0.623217365695183, 0.5649329156600648, 0.7158401708806785, 0.6905648893541988]}, {\"categories\": [\"0\", \"1\", \"2\", \"3\", \"4\", \"5\", \"6\", \"7\", \"8\", \"9\", \"10\", \"11\", \"12\", \"13\", \"14\", \"15\", \"16\", \"17\", \"18\", \"19\", \"20\", \"21\", \"22\", \"23\", \"24\", \"25\", \"26\", \"27\", \"28\", \"29\", \"30\", \"31\", \"32\", \"33\", \"34\", \"35\", \"36\", \"37\"], \"mode\": \"lines\", \"name\": \"matthews_correlation_max\", \"stepped\": true, \"type\": \"scatter\", \"data\": [0.6605235967108184, 0.7038157258023986, 0.7038157258023986, 0.7038157258023986, 0.7038157258023986, 0.7038157258023986, 0.7038157258023986, 0.7038157258023986, 0.7038157258023986, 0.7038157258023986, 0.7038157258023986, 0.7038157258023986, 0.7038157258023986, 0.7038157258023986, 0.7038157258023986, 0.7038157258023986, 0.7038157258023986, 0.7038157258023986, 0.7038157258023986, 0.7038157258023986, 0.7038157258023986, 0.7038157258023986, 0.7038157258023986, 0.7038157258023986, 0.7038157258023986, 0.7038157258023986, 0.7038157258023986, 0.7038157258023986, 0.7038157258023986, 0.7038157258023986, 0.7038157258023986, 0.7038157258023986, 0.7038157258023986, 0.7038157258023986, 0.7038157258023986, 0.7038157258023986, 0.7158401708806785, 0.7158401708806785]}], \"recall_score_micro\": [{\"categories\": [\"0\", \"1\", \"2\", \"3\", \"4\", \"5\", \"6\", \"7\", \"8\", \"9\", \"10\", \"11\", \"12\", \"13\", \"14\", \"15\", \"16\", \"17\", \"18\", \"19\", \"20\", \"21\", \"22\", \"23\", \"24\", \"25\", \"26\", \"27\", \"28\", \"29\", \"30\", \"31\", \"32\", \"33\", \"34\", \"35\", \"36\", \"37\"], \"mode\": \"markers\", \"name\": \"recall_score_micro\", \"stepped\": false, \"type\": \"scatter\", \"data\": [0.7522822117892539, 0.780320813771518, 0.7477829942618675, 0.6820552947313511, 0.7755607720396452, 0.6915753781950965, 0.6680359937402192, 0.7522822117892539, 0.6913145539906104, 0.6868805425143454, 0.7241784037558685, 0.6491914449660928, 0.6679707876890976, 0.7243088158581116, 0.6399321857068335, 0.62584767866458, 0.6587115284298383, 0.6636019822639541, 0.6681011997913405, 0.7010302556077205, 0.7147887323943661, 0.6305425143453313, 0.7007042253521126, 0.6818596765779864, 0.6726004173187272, 0.560772039645279, 0.6496478873239436, 0.6448226395409494, 0.6074595722483047, 0.6962702138758475, 0.7196139801773604, 0.7758215962441315, 0.6400625978090767, 0.7381324986958789, 0.7288732394366196, 0.686945748565467, 0.7897756911841419, 0.7710615545122588]}, {\"categories\": [\"0\", \"1\", \"2\", \"3\", \"4\", \"5\", \"6\", \"7\", \"8\", \"9\", \"10\", \"11\", \"12\", \"13\", \"14\", \"15\", \"16\", \"17\", \"18\", \"19\", \"20\", \"21\", \"22\", \"23\", \"24\", \"25\", \"26\", \"27\", \"28\", \"29\", \"30\", \"31\", \"32\", \"33\", \"34\", \"35\", \"36\", \"37\"], \"mode\": \"lines\", \"name\": \"recall_score_micro_max\", \"stepped\": true, \"type\": \"scatter\", \"data\": [0.7522822117892539, 0.780320813771518, 0.780320813771518, 0.780320813771518, 0.780320813771518, 0.780320813771518, 0.780320813771518, 0.780320813771518, 0.780320813771518, 0.780320813771518, 0.780320813771518, 0.780320813771518, 0.780320813771518, 0.780320813771518, 0.780320813771518, 0.780320813771518, 0.780320813771518, 0.780320813771518, 0.780320813771518, 0.780320813771518, 0.780320813771518, 0.780320813771518, 0.780320813771518, 0.780320813771518, 0.780320813771518, 0.780320813771518, 0.780320813771518, 0.780320813771518, 0.780320813771518, 0.780320813771518, 0.780320813771518, 0.780320813771518, 0.780320813771518, 0.780320813771518, 0.780320813771518, 0.780320813771518, 0.7897756911841419, 0.7897756911841419]}], \"f1_score_micro\": [{\"categories\": [\"0\", \"1\", \"2\", \"3\", \"4\", \"5\", \"6\", \"7\", \"8\", \"9\", \"10\", \"11\", \"12\", \"13\", \"14\", \"15\", \"16\", \"17\", \"18\", \"19\", \"20\", \"21\", \"22\", \"23\", \"24\", \"25\", \"26\", \"27\", \"28\", \"29\", \"30\", \"31\", \"32\", \"33\", \"34\", \"35\", \"36\", \"37\"], \"mode\": \"markers\", \"name\": \"f1_score_micro\", \"stepped\": false, \"type\": \"scatter\", \"data\": [0.7522822117892541, 0.780320813771518, 0.7477829942618675, 0.6820552947313511, 0.7755607720396452, 0.6915753781950965, 0.6680359937402192, 0.7522822117892541, 0.6913145539906104, 0.6868805425143454, 0.7241784037558685, 0.6491914449660928, 0.6679707876890976, 0.7243088158581116, 0.6399321857068335, 0.62584767866458, 0.6587115284298383, 0.6636019822639541, 0.6681011997913405, 0.7010302556077205, 0.7147887323943661, 0.6305425143453313, 0.7007042253521126, 0.6818596765779864, 0.6726004173187272, 0.560772039645279, 0.6496478873239436, 0.6448226395409494, 0.6074595722483047, 0.6962702138758475, 0.7196139801773604, 0.7758215962441315, 0.6400625978090767, 0.738132498695879, 0.7288732394366196, 0.686945748565467, 0.7897756911841419, 0.7710615545122588]}, {\"categories\": [\"0\", \"1\", \"2\", \"3\", \"4\", \"5\", \"6\", \"7\", \"8\", \"9\", \"10\", \"11\", \"12\", \"13\", \"14\", \"15\", \"16\", \"17\", \"18\", \"19\", \"20\", \"21\", \"22\", \"23\", \"24\", \"25\", \"26\", \"27\", \"28\", \"29\", \"30\", \"31\", \"32\", \"33\", \"34\", \"35\", \"36\", \"37\"], \"mode\": \"lines\", \"name\": \"f1_score_micro_max\", \"stepped\": true, \"type\": \"scatter\", \"data\": [0.7522822117892541, 0.780320813771518, 0.780320813771518, 0.780320813771518, 0.780320813771518, 0.780320813771518, 0.780320813771518, 0.780320813771518, 0.780320813771518, 0.780320813771518, 0.780320813771518, 0.780320813771518, 0.780320813771518, 0.780320813771518, 0.780320813771518, 0.780320813771518, 0.780320813771518, 0.780320813771518, 0.780320813771518, 0.780320813771518, 0.780320813771518, 0.780320813771518, 0.780320813771518, 0.780320813771518, 0.780320813771518, 0.780320813771518, 0.780320813771518, 0.780320813771518, 0.780320813771518, 0.780320813771518, 0.780320813771518, 0.780320813771518, 0.780320813771518, 0.780320813771518, 0.780320813771518, 0.780320813771518, 0.7897756911841419, 0.7897756911841419]}], \"accuracy\": [{\"categories\": [\"0\", \"1\", \"2\", \"3\", \"4\", \"5\", \"6\", \"7\", \"8\", \"9\", \"10\", \"11\", \"12\", \"13\", \"14\", \"15\", \"16\", \"17\", \"18\", \"19\", \"20\", \"21\", \"22\", \"23\", \"24\", \"25\", \"26\", \"27\", \"28\", \"29\", \"30\", \"31\", \"32\", \"33\", \"34\", \"35\", \"36\", \"37\"], \"mode\": \"markers\", \"name\": \"accuracy\", \"stepped\": false, \"type\": \"scatter\", \"data\": [0.7522822117892539, 0.780320813771518, 0.7477829942618675, 0.6820552947313511, 0.7755607720396452, 0.6915753781950965, 0.6680359937402192, 0.7522822117892539, 0.6913145539906104, 0.6868805425143454, 0.7241784037558685, 0.6491914449660928, 0.6679707876890976, 0.7243088158581116, 0.6399321857068335, 0.62584767866458, 0.6587115284298383, 0.6636019822639541, 0.6681011997913405, 0.7010302556077205, 0.7147887323943661, 0.6305425143453313, 0.7007042253521126, 0.6818596765779864, 0.6726004173187272, 0.560772039645279, 0.6496478873239436, 0.6448226395409494, 0.6074595722483047, 0.6962702138758475, 0.7196139801773604, 0.7758215962441315, 0.6400625978090767, 0.7381324986958789, 0.7288732394366196, 0.686945748565467, 0.7897756911841419, 0.7710615545122588]}, {\"categories\": [\"0\", \"1\", \"2\", \"3\", \"4\", \"5\", \"6\", \"7\", \"8\", \"9\", \"10\", \"11\", \"12\", \"13\", \"14\", \"15\", \"16\", \"17\", \"18\", \"19\", \"20\", \"21\", \"22\", \"23\", \"24\", \"25\", \"26\", \"27\", \"28\", \"29\", \"30\", \"31\", \"32\", \"33\", \"34\", \"35\", \"36\", \"37\"], \"mode\": \"lines\", \"name\": \"accuracy_max\", \"stepped\": true, \"type\": \"scatter\", \"data\": [0.7522822117892539, 0.780320813771518, 0.780320813771518, 0.780320813771518, 0.780320813771518, 0.780320813771518, 0.780320813771518, 0.780320813771518, 0.780320813771518, 0.780320813771518, 0.780320813771518, 0.780320813771518, 0.780320813771518, 0.780320813771518, 0.780320813771518, 0.780320813771518, 0.780320813771518, 0.780320813771518, 0.780320813771518, 0.780320813771518, 0.780320813771518, 0.780320813771518, 0.780320813771518, 0.780320813771518, 0.780320813771518, 0.780320813771518, 0.780320813771518, 0.780320813771518, 0.780320813771518, 0.780320813771518, 0.780320813771518, 0.780320813771518, 0.780320813771518, 0.780320813771518, 0.780320813771518, 0.780320813771518, 0.7897756911841419, 0.7897756911841419]}], \"f1_score_weighted\": [{\"categories\": [\"0\", \"1\", \"2\", \"3\", \"4\", \"5\", \"6\", \"7\", \"8\", \"9\", \"10\", \"11\", \"12\", \"13\", \"14\", \"15\", \"16\", \"17\", \"18\", \"19\", \"20\", \"21\", \"22\", \"23\", \"24\", \"25\", \"26\", \"27\", \"28\", \"29\", \"30\", \"31\", \"32\", \"33\", \"34\", \"35\", \"36\", \"37\"], \"mode\": \"markers\", \"name\": \"f1_score_weighted\", \"stepped\": false, \"type\": \"scatter\", \"data\": [0.7389308040481355, 0.7682345837762835, 0.7354686460222561, 0.640438999131424, 0.7604670251536353, 0.6522887852073732, 0.6310759571245429, 0.7296153162238154, 0.6330097078036895, 0.6397292857380205, 0.6989460575965983, 0.6112835611359979, 0.6036040117345415, 0.6972896856992071, 0.5782827752162172, 0.5640896891698003, 0.5941494265781947, 0.6021479763437521, 0.6023222238818181, 0.6721333244194642, 0.6695865800181832, 0.5703944086200596, 0.6596166539971832, 0.6363760271807929, 0.6075131540370863, 0.5411882013997216, 0.6531250854352754, 0.6350706615736869, 0.6071329526034978, 0.6659355816651223, 0.6992972777484251, 0.7573799334415101, 0.5843101879994883, 0.7126821167941229, 0.6942003057908334, 0.6607430201793959, 0.766467658404914, 0.7359998716365185]}, {\"categories\": [\"0\", \"1\", \"2\", \"3\", \"4\", \"5\", \"6\", \"7\", \"8\", \"9\", \"10\", \"11\", \"12\", \"13\", \"14\", \"15\", \"16\", \"17\", \"18\", \"19\", \"20\", \"21\", \"22\", \"23\", \"24\", \"25\", \"26\", \"27\", \"28\", \"29\", \"30\", \"31\", \"32\", \"33\", \"34\", \"35\", \"36\", \"37\"], \"mode\": \"lines\", \"name\": \"f1_score_weighted_max\", \"stepped\": true, \"type\": \"scatter\", \"data\": [0.7389308040481355, 0.7682345837762835, 0.7682345837762835, 0.7682345837762835, 0.7682345837762835, 0.7682345837762835, 0.7682345837762835, 0.7682345837762835, 0.7682345837762835, 0.7682345837762835, 0.7682345837762835, 0.7682345837762835, 0.7682345837762835, 0.7682345837762835, 0.7682345837762835, 0.7682345837762835, 0.7682345837762835, 0.7682345837762835, 0.7682345837762835, 0.7682345837762835, 0.7682345837762835, 0.7682345837762835, 0.7682345837762835, 0.7682345837762835, 0.7682345837762835, 0.7682345837762835, 0.7682345837762835, 0.7682345837762835, 0.7682345837762835, 0.7682345837762835, 0.7682345837762835, 0.7682345837762835, 0.7682345837762835, 0.7682345837762835, 0.7682345837762835, 0.7682345837762835, 0.7682345837762835, 0.7682345837762835]}], \"average_precision_score_micro\": [{\"categories\": [\"0\", \"1\", \"2\", \"3\", \"4\", \"5\", \"6\", \"7\", \"8\", \"9\", \"10\", \"11\", \"12\", \"13\", \"14\", \"15\", \"16\", \"17\", \"18\", \"19\", \"20\", \"21\", \"22\", \"23\", \"24\", \"25\", \"26\", \"27\", \"28\", \"29\", \"30\", \"31\", \"32\", \"33\", \"34\", \"35\", \"36\", \"37\"], \"mode\": \"markers\", \"name\": \"average_precision_score_micro\", \"stepped\": false, \"type\": \"scatter\", \"data\": [0.7810069818645591, 0.8089387262883242, 0.7937084194888565, 0.7424214450150762, 0.8330172666119361, 0.7412274441375407, 0.7328406410932322, 0.8082225227973522, 0.7549981176734507, 0.7272584472853056, 0.8043599819075827, 0.7171161129352132, 0.665788242506803, 0.7320725049289175, 0.7302868453045827, 0.7296427138737763, 0.7076800388447149, 0.632646050959384, 0.7442446870811219, 0.7745321634955945, 0.7148456722810194, 0.7044379932445016, 0.7400176564736158, 0.7650471793126375, 0.6672477604875314, 0.5829064636886648, 0.7643145508955613, 0.6315933114021738, 0.6281324225718573, 0.8081512580684708, 0.7550108489229843, 0.8267849176035033, 0.6737106898179855, 0.7594135163881202, 0.7373448458810467, 0.7490660654030669, 0.8396786969325732, 0.8257889976271287]}, {\"categories\": [\"0\", \"1\", \"2\", \"3\", \"4\", \"5\", \"6\", \"7\", \"8\", \"9\", \"10\", \"11\", \"12\", \"13\", \"14\", \"15\", \"16\", \"17\", \"18\", \"19\", \"20\", \"21\", \"22\", \"23\", \"24\", \"25\", \"26\", \"27\", \"28\", \"29\", \"30\", \"31\", \"32\", \"33\", \"34\", \"35\", \"36\", \"37\"], \"mode\": \"lines\", \"name\": \"average_precision_score_micro_max\", \"stepped\": true, \"type\": \"scatter\", \"data\": [0.7810069818645591, 0.8089387262883242, 0.8089387262883242, 0.8089387262883242, 0.8330172666119361, 0.8330172666119361, 0.8330172666119361, 0.8330172666119361, 0.8330172666119361, 0.8330172666119361, 0.8330172666119361, 0.8330172666119361, 0.8330172666119361, 0.8330172666119361, 0.8330172666119361, 0.8330172666119361, 0.8330172666119361, 0.8330172666119361, 0.8330172666119361, 0.8330172666119361, 0.8330172666119361, 0.8330172666119361, 0.8330172666119361, 0.8330172666119361, 0.8330172666119361, 0.8330172666119361, 0.8330172666119361, 0.8330172666119361, 0.8330172666119361, 0.8330172666119361, 0.8330172666119361, 0.8330172666119361, 0.8330172666119361, 0.8330172666119361, 0.8330172666119361, 0.8330172666119361, 0.8396786969325732, 0.8396786969325732]}], \"precision_score_macro\": [{\"categories\": [\"0\", \"1\", \"2\", \"3\", \"4\", \"5\", \"6\", \"7\", \"8\", \"9\", \"10\", \"11\", \"12\", \"13\", \"14\", \"15\", \"16\", \"17\", \"18\", \"19\", \"20\", \"21\", \"22\", \"23\", \"24\", \"25\", \"26\", \"27\", \"28\", \"29\", \"30\", \"31\", \"32\", \"33\", \"34\", \"35\", \"36\", \"37\"], \"mode\": \"markers\", \"name\": \"precision_score_macro\", \"stepped\": false, \"type\": \"scatter\", \"data\": [0.7892856970083981, 0.7906025653968681, 0.7687341769908821, 0.5687783175211336, 0.7617295340355685, 0.6248979813495942, 0.5546274411179214, 0.7598370895481882, 0.47347421097421094, 0.5956895299626875, 0.707348847337724, 0.5930273145550924, 0.3773666775279679, 0.7157021517908614, 0.32597899114028145, 0.3230164388987919, 0.36855962758599675, 0.3787979341159166, 0.3500010089952619, 0.6376748513437427, 0.5976695021972271, 0.3234136223604915, 0.5722029153230488, 0.5326890685313624, 0.3743819800192349, 0.4606891625198261, 0.6240702539290087, 0.6195634333601534, 0.633603258622328, 0.6408994708994707, 0.7110714454864072, 0.7627063835506488, 0.4511049811891327, 0.7125691724413198, 0.6964434646894323, 0.6676419432954472, 0.7437798126496976, 0.6664370419885125]}, {\"categories\": [\"0\", \"1\", \"2\", \"3\", \"4\", \"5\", \"6\", \"7\", \"8\", \"9\", \"10\", \"11\", \"12\", \"13\", \"14\", \"15\", \"16\", \"17\", \"18\", \"19\", \"20\", \"21\", \"22\", \"23\", \"24\", \"25\", \"26\", \"27\", \"28\", \"29\", \"30\", \"31\", \"32\", \"33\", \"34\", \"35\", \"36\", \"37\"], \"mode\": \"lines\", \"name\": \"precision_score_macro_max\", \"stepped\": true, \"type\": \"scatter\", \"data\": [0.7892856970083981, 0.7906025653968681, 0.7906025653968681, 0.7906025653968681, 0.7906025653968681, 0.7906025653968681, 0.7906025653968681, 0.7906025653968681, 0.7906025653968681, 0.7906025653968681, 0.7906025653968681, 0.7906025653968681, 0.7906025653968681, 0.7906025653968681, 0.7906025653968681, 0.7906025653968681, 0.7906025653968681, 0.7906025653968681, 0.7906025653968681, 0.7906025653968681, 0.7906025653968681, 0.7906025653968681, 0.7906025653968681, 0.7906025653968681, 0.7906025653968681, 0.7906025653968681, 0.7906025653968681, 0.7906025653968681, 0.7906025653968681, 0.7906025653968681, 0.7906025653968681, 0.7906025653968681, 0.7906025653968681, 0.7906025653968681, 0.7906025653968681, 0.7906025653968681, 0.7906025653968681, 0.7906025653968681]}], \"precision_score_weighted\": [{\"categories\": [\"0\", \"1\", \"2\", \"3\", \"4\", \"5\", \"6\", \"7\", \"8\", \"9\", \"10\", \"11\", \"12\", \"13\", \"14\", \"15\", \"16\", \"17\", \"18\", \"19\", \"20\", \"21\", \"22\", \"23\", \"24\", \"25\", \"26\", \"27\", \"28\", \"29\", \"30\", \"31\", \"32\", \"33\", \"34\", \"35\", \"36\", \"37\"], \"mode\": \"markers\", \"name\": \"precision_score_weighted\", \"stepped\": false, \"type\": \"scatter\", \"data\": [0.7718764121164153, 0.7992567774093446, 0.754992550934756, 0.6332208609254505, 0.7753551229722916, 0.6575760851539854, 0.6115687594188008, 0.7409055037803137, 0.5929994203761809, 0.6276093856858124, 0.714600283965502, 0.6149598193612278, 0.5650376525107709, 0.710714244843618, 0.5331074893742537, 0.5190696011159972, 0.551477041228634, 0.5691063466066555, 0.5521634999828297, 0.6789320907385842, 0.6511086078814875, 0.5272931686535128, 0.6326781199325028, 0.6138341368098045, 0.5681546241767866, 0.5457768605019386, 0.6772784232508688, 0.6637545751914554, 0.6457677344301852, 0.669927962838761, 0.7245215790893256, 0.7752723163599592, 0.5566809090375453, 0.7271452041324148, 0.699540883292587, 0.6727152989113656, 0.7764910930805381, 0.7287308757974665]}, {\"categories\": [\"0\", \"1\", \"2\", \"3\", \"4\", \"5\", \"6\", \"7\", \"8\", \"9\", \"10\", \"11\", \"12\", \"13\", \"14\", \"15\", \"16\", \"17\", \"18\", \"19\", \"20\", \"21\", \"22\", \"23\", \"24\", \"25\", \"26\", \"27\", \"28\", \"29\", \"30\", \"31\", \"32\", \"33\", \"34\", \"35\", \"36\", \"37\"], \"mode\": \"lines\", \"name\": \"precision_score_weighted_max\", \"stepped\": true, \"type\": \"scatter\", \"data\": [0.7718764121164153, 0.7992567774093446, 0.7992567774093446, 0.7992567774093446, 0.7992567774093446, 0.7992567774093446, 0.7992567774093446, 0.7992567774093446, 0.7992567774093446, 0.7992567774093446, 0.7992567774093446, 0.7992567774093446, 0.7992567774093446, 0.7992567774093446, 0.7992567774093446, 0.7992567774093446, 0.7992567774093446, 0.7992567774093446, 0.7992567774093446, 0.7992567774093446, 0.7992567774093446, 0.7992567774093446, 0.7992567774093446, 0.7992567774093446, 0.7992567774093446, 0.7992567774093446, 0.7992567774093446, 0.7992567774093446, 0.7992567774093446, 0.7992567774093446, 0.7992567774093446, 0.7992567774093446, 0.7992567774093446, 0.7992567774093446, 0.7992567774093446, 0.7992567774093446, 0.7992567774093446, 0.7992567774093446]}], \"log_loss\": [{\"categories\": [\"0\", \"1\", \"2\", \"3\", \"4\", \"5\", \"6\", \"7\", \"8\", \"9\", \"10\", \"11\", \"12\", \"13\", \"14\", \"15\", \"16\", \"17\", \"18\", \"19\", \"20\", \"21\", \"22\", \"23\", \"24\", \"25\", \"26\", \"27\", \"28\", \"29\", \"30\", \"31\", \"32\", \"33\", \"34\", \"35\", \"36\", \"37\"], \"mode\": \"markers\", \"name\": \"log_loss\", \"stepped\": false, \"type\": \"scatter\", \"data\": [0.8668647686095134, 0.7184916469048543, 0.8966551922125653, 0.8624647086335874, 0.9868178761165672, 0.9405400568424841, 0.8548397912017913, 0.7110833805386173, 0.938152667534569, 0.9872858045849385, 0.7911692811951978, 1.2259957284314713, 1.1709035815969597, 0.8615150567557048, 0.9331716124546579, 0.9530815866862882, 1.0640161328225515, 1.1970878348989542, 1.0261404055881618, 1.1205710420773694, 0.9840341248176795, 0.9709205421958389, 0.98662703231434, 0.8445992029539783, 1.180136871794459, 1.148057846334343, 0.9554420986664204, 1.0638105311790076, 1.256452579231281, 1.115293845558508, 1.1455002458869592, 0.6820338477516553, 1.3491068238535473, 0.8539375777122209, 0.8512321922181045, 0.8560146867604179, 0.6633581257611104, 0.7425730310754398]}, {\"categories\": [\"0\", \"1\", \"2\", \"3\", \"4\", \"5\", \"6\", \"7\", \"8\", \"9\", \"10\", \"11\", \"12\", \"13\", \"14\", \"15\", \"16\", \"17\", \"18\", \"19\", \"20\", \"21\", \"22\", \"23\", \"24\", \"25\", \"26\", \"27\", \"28\", \"29\", \"30\", \"31\", \"32\", \"33\", \"34\", \"35\", \"36\", \"37\"], \"mode\": \"lines\", \"name\": \"log_loss_min\", \"stepped\": true, \"type\": \"scatter\", \"data\": [0.8668647686095134, 0.7184916469048543, 0.7184916469048543, 0.7184916469048543, 0.7184916469048543, 0.7184916469048543, 0.7184916469048543, 0.7110833805386173, 0.7110833805386173, 0.7110833805386173, 0.7110833805386173, 0.7110833805386173, 0.7110833805386173, 0.7110833805386173, 0.7110833805386173, 0.7110833805386173, 0.7110833805386173, 0.7110833805386173, 0.7110833805386173, 0.7110833805386173, 0.7110833805386173, 0.7110833805386173, 0.7110833805386173, 0.7110833805386173, 0.7110833805386173, 0.7110833805386173, 0.7110833805386173, 0.7110833805386173, 0.7110833805386173, 0.7110833805386173, 0.7110833805386173, 0.6820338477516553, 0.6820338477516553, 0.6820338477516553, 0.6820338477516553, 0.6820338477516553, 0.6633581257611104, 0.6633581257611104]}], \"average_precision_score_weighted\": [{\"categories\": [\"0\", \"1\", \"2\", \"3\", \"4\", \"5\", \"6\", \"7\", \"8\", \"9\", \"10\", \"11\", \"12\", \"13\", \"14\", \"15\", \"16\", \"17\", \"18\", \"19\", \"20\", \"21\", \"22\", \"23\", \"24\", \"25\", \"26\", \"27\", \"28\", \"29\", \"30\", \"31\", \"32\", \"33\", \"34\", \"35\", \"36\", \"37\"], \"mode\": \"markers\", \"name\": \"average_precision_score_weighted\", \"stepped\": false, \"type\": \"scatter\", \"data\": [0.7735523035098756, 0.8150999846222656, 0.8043530102479443, 0.7670024668174064, 0.8239195542228965, 0.758735680894703, 0.7433733238854545, 0.8029290699255665, 0.7964392709014011, 0.7507031477965622, 0.8177445468550127, 0.7120846296475899, 0.7346072343625366, 0.7326983977766536, 0.773806290104838, 0.7626677875234735, 0.7396414186476247, 0.7320277104038789, 0.7782379990509233, 0.7714129339982182, 0.7399659755483329, 0.7387950628817412, 0.7426003130203181, 0.784105450314243, 0.7341208520074846, 0.5901563987146092, 0.7633924987828894, 0.6358293776583701, 0.6373791595764935, 0.810370968712379, 0.7377275417662568, 0.8296590393929483, 0.6997229283263167, 0.7570067731368941, 0.7298456128601875, 0.7379920500397107, 0.8340378045330906, 0.8235890290342351]}, {\"categories\": [\"0\", \"1\", \"2\", \"3\", \"4\", \"5\", \"6\", \"7\", \"8\", \"9\", \"10\", \"11\", \"12\", \"13\", \"14\", \"15\", \"16\", \"17\", \"18\", \"19\", \"20\", \"21\", \"22\", \"23\", \"24\", \"25\", \"26\", \"27\", \"28\", \"29\", \"30\", \"31\", \"32\", \"33\", \"34\", \"35\", \"36\", \"37\"], \"mode\": \"lines\", \"name\": \"average_precision_score_weighted_max\", \"stepped\": true, \"type\": \"scatter\", \"data\": [0.7735523035098756, 0.8150999846222656, 0.8150999846222656, 0.8150999846222656, 0.8239195542228965, 0.8239195542228965, 0.8239195542228965, 0.8239195542228965, 0.8239195542228965, 0.8239195542228965, 0.8239195542228965, 0.8239195542228965, 0.8239195542228965, 0.8239195542228965, 0.8239195542228965, 0.8239195542228965, 0.8239195542228965, 0.8239195542228965, 0.8239195542228965, 0.8239195542228965, 0.8239195542228965, 0.8239195542228965, 0.8239195542228965, 0.8239195542228965, 0.8239195542228965, 0.8239195542228965, 0.8239195542228965, 0.8239195542228965, 0.8239195542228965, 0.8239195542228965, 0.8239195542228965, 0.8296590393929483, 0.8296590393929483, 0.8296590393929483, 0.8296590393929483, 0.8296590393929483, 0.8340378045330906, 0.8340378045330906]}], \"precision_score_micro\": [{\"categories\": [\"0\", \"1\", \"2\", \"3\", \"4\", \"5\", \"6\", \"7\", \"8\", \"9\", \"10\", \"11\", \"12\", \"13\", \"14\", \"15\", \"16\", \"17\", \"18\", \"19\", \"20\", \"21\", \"22\", \"23\", \"24\", \"25\", \"26\", \"27\", \"28\", \"29\", \"30\", \"31\", \"32\", \"33\", \"34\", \"35\", \"36\", \"37\"], \"mode\": \"markers\", \"name\": \"precision_score_micro\", \"stepped\": false, \"type\": \"scatter\", \"data\": [0.7522822117892539, 0.780320813771518, 0.7477829942618675, 0.6820552947313511, 0.7755607720396452, 0.6915753781950965, 0.6680359937402192, 0.7522822117892539, 0.6913145539906104, 0.6868805425143454, 0.7241784037558685, 0.6491914449660928, 0.6679707876890976, 0.7243088158581116, 0.6399321857068335, 0.62584767866458, 0.6587115284298383, 0.6636019822639541, 0.6681011997913405, 0.7010302556077205, 0.7147887323943661, 0.6305425143453313, 0.7007042253521126, 0.6818596765779864, 0.6726004173187272, 0.560772039645279, 0.6496478873239436, 0.6448226395409494, 0.6074595722483047, 0.6962702138758475, 0.7196139801773604, 0.7758215962441315, 0.6400625978090767, 0.7381324986958789, 0.7288732394366196, 0.686945748565467, 0.7897756911841419, 0.7710615545122588]}, {\"categories\": [\"0\", \"1\", \"2\", \"3\", \"4\", \"5\", \"6\", \"7\", \"8\", \"9\", \"10\", \"11\", \"12\", \"13\", \"14\", \"15\", \"16\", \"17\", \"18\", \"19\", \"20\", \"21\", \"22\", \"23\", \"24\", \"25\", \"26\", \"27\", \"28\", \"29\", \"30\", \"31\", \"32\", \"33\", \"34\", \"35\", \"36\", \"37\"], \"mode\": \"lines\", \"name\": \"precision_score_micro_max\", \"stepped\": true, \"type\": \"scatter\", \"data\": [0.7522822117892539, 0.780320813771518, 0.780320813771518, 0.780320813771518, 0.780320813771518, 0.780320813771518, 0.780320813771518, 0.780320813771518, 0.780320813771518, 0.780320813771518, 0.780320813771518, 0.780320813771518, 0.780320813771518, 0.780320813771518, 0.780320813771518, 0.780320813771518, 0.780320813771518, 0.780320813771518, 0.780320813771518, 0.780320813771518, 0.780320813771518, 0.780320813771518, 0.780320813771518, 0.780320813771518, 0.780320813771518, 0.780320813771518, 0.780320813771518, 0.780320813771518, 0.780320813771518, 0.780320813771518, 0.780320813771518, 0.780320813771518, 0.780320813771518, 0.780320813771518, 0.780320813771518, 0.780320813771518, 0.7897756911841419, 0.7897756911841419]}], \"recall_score_macro\": [{\"categories\": [\"0\", \"1\", \"2\", \"3\", \"4\", \"5\", \"6\", \"7\", \"8\", \"9\", \"10\", \"11\", \"12\", \"13\", \"14\", \"15\", \"16\", \"17\", \"18\", \"19\", \"20\", \"21\", \"22\", \"23\", \"24\", \"25\", \"26\", \"27\", \"28\", \"29\", \"30\", \"31\", \"32\", \"33\", \"34\", \"35\", \"36\", \"37\"], \"mode\": \"markers\", \"name\": \"recall_score_macro\", \"stepped\": false, \"type\": \"scatter\", \"data\": [0.6675414963458443, 0.7088752632230891, 0.6957528180354267, 0.4957353435614305, 0.7480214029127072, 0.5202880855054769, 0.5465595193856063, 0.644672054998142, 0.48308846950151296, 0.499604059386668, 0.6281631009891879, 0.5657670630496717, 0.4056101909362779, 0.6455922298313603, 0.4000648103908973, 0.3875760913804392, 0.403090769938596, 0.39592070570331445, 0.4070855674116544, 0.5739822777866256, 0.5318267682398118, 0.3953345366388845, 0.6007182230008317, 0.5337345826476261, 0.4056367344410822, 0.4542058183362531, 0.6864747571269311, 0.6913266886092972, 0.6863199200155722, 0.5477019960715613, 0.6573664861708339, 0.6996160039638301, 0.43786386721169324, 0.6463509316770185, 0.6078650616694095, 0.5817208154164676, 0.6995385854081507, 0.6539291022986674]}, {\"categories\": [\"0\", \"1\", \"2\", \"3\", \"4\", \"5\", \"6\", \"7\", \"8\", \"9\", \"10\", \"11\", \"12\", \"13\", \"14\", \"15\", \"16\", \"17\", \"18\", \"19\", \"20\", \"21\", \"22\", \"23\", \"24\", \"25\", \"26\", \"27\", \"28\", \"29\", \"30\", \"31\", \"32\", \"33\", \"34\", \"35\", \"36\", \"37\"], \"mode\": \"lines\", \"name\": \"recall_score_macro_max\", \"stepped\": true, \"type\": \"scatter\", \"data\": [0.6675414963458443, 0.7088752632230891, 0.7088752632230891, 0.7088752632230891, 0.7480214029127072, 0.7480214029127072, 0.7480214029127072, 0.7480214029127072, 0.7480214029127072, 0.7480214029127072, 0.7480214029127072, 0.7480214029127072, 0.7480214029127072, 0.7480214029127072, 0.7480214029127072, 0.7480214029127072, 0.7480214029127072, 0.7480214029127072, 0.7480214029127072, 0.7480214029127072, 0.7480214029127072, 0.7480214029127072, 0.7480214029127072, 0.7480214029127072, 0.7480214029127072, 0.7480214029127072, 0.7480214029127072, 0.7480214029127072, 0.7480214029127072, 0.7480214029127072, 0.7480214029127072, 0.7480214029127072, 0.7480214029127072, 0.7480214029127072, 0.7480214029127072, 0.7480214029127072, 0.7480214029127072, 0.7480214029127072]}], \"AUC_macro\": [{\"categories\": [\"0\", \"1\", \"2\", \"3\", \"4\", \"5\", \"6\", \"7\", \"8\", \"9\", \"10\", \"11\", \"12\", \"13\", \"14\", \"15\", \"16\", \"17\", \"18\", \"19\", \"20\", \"21\", \"22\", \"23\", \"24\", \"25\", \"26\", \"27\", \"28\", \"29\", \"30\", \"31\", \"32\", \"33\", \"34\", \"35\", \"36\", \"37\"], \"mode\": \"markers\", \"name\": \"AUC_macro\", \"stepped\": false, \"type\": \"scatter\", \"data\": [0.9110210123633644, 0.9269298711163155, 0.9178389122029871, 0.9130974605029802, 0.9236641305775678, 0.8919035619321801, 0.9205932601967238, 0.9246558567574317, 0.9214751343688913, 0.8977378742857081, 0.9326482755042195, 0.8776252319718157, 0.8877635412526493, 0.8798307600861014, 0.9162514860287164, 0.9148217014380751, 0.9017716035487472, 0.8755238890229707, 0.919010976538042, 0.8786739675231363, 0.8880421477758619, 0.8986400510559958, 0.876450245939739, 0.91655334849569, 0.8846245387457845, 0.8399730823606427, 0.9035008908943462, 0.8718176212613863, 0.8625106560967478, 0.9074619449083196, 0.8725826909903632, 0.9303896443050305, 0.8383847033692081, 0.909966152881863, 0.8819459829293262, 0.881083590928355, 0.936290035811793, 0.9199127907995353]}, {\"categories\": [\"0\", \"1\", \"2\", \"3\", \"4\", \"5\", \"6\", \"7\", \"8\", \"9\", \"10\", \"11\", \"12\", \"13\", \"14\", \"15\", \"16\", \"17\", \"18\", \"19\", \"20\", \"21\", \"22\", \"23\", \"24\", \"25\", \"26\", \"27\", \"28\", \"29\", \"30\", \"31\", \"32\", \"33\", \"34\", \"35\", \"36\", \"37\"], \"mode\": \"lines\", \"name\": \"AUC_macro_max\", \"stepped\": true, \"type\": \"scatter\", \"data\": [0.9110210123633644, 0.9269298711163155, 0.9269298711163155, 0.9269298711163155, 0.9269298711163155, 0.9269298711163155, 0.9269298711163155, 0.9269298711163155, 0.9269298711163155, 0.9269298711163155, 0.9326482755042195, 0.9326482755042195, 0.9326482755042195, 0.9326482755042195, 0.9326482755042195, 0.9326482755042195, 0.9326482755042195, 0.9326482755042195, 0.9326482755042195, 0.9326482755042195, 0.9326482755042195, 0.9326482755042195, 0.9326482755042195, 0.9326482755042195, 0.9326482755042195, 0.9326482755042195, 0.9326482755042195, 0.9326482755042195, 0.9326482755042195, 0.9326482755042195, 0.9326482755042195, 0.9326482755042195, 0.9326482755042195, 0.9326482755042195, 0.9326482755042195, 0.9326482755042195, 0.936290035811793, 0.936290035811793]}], \"AUC_micro\": [{\"categories\": [\"0\", \"1\", \"2\", \"3\", \"4\", \"5\", \"6\", \"7\", \"8\", \"9\", \"10\", \"11\", \"12\", \"13\", \"14\", \"15\", \"16\", \"17\", \"18\", \"19\", \"20\", \"21\", \"22\", \"23\", \"24\", \"25\", \"26\", \"27\", \"28\", \"29\", \"30\", \"31\", \"32\", \"33\", \"34\", \"35\", \"36\", \"37\"], \"mode\": \"markers\", \"name\": \"AUC_micro\", \"stepped\": false, \"type\": \"scatter\", \"data\": [0.9372882767683596, 0.948733102040633, 0.9423549195975714, 0.9288452819595366, 0.9522792014942492, 0.9228058393396372, 0.9318255837115079, 0.9489242710800244, 0.9270274081747775, 0.9158818266347636, 0.9460153898525915, 0.9164206719917255, 0.8855482063539878, 0.9209729523463158, 0.9199988744557999, 0.9210393574132443, 0.9065069286786622, 0.876755746908274, 0.9196984419121231, 0.928249659377467, 0.9179226561332873, 0.9116653650967418, 0.923304731959251, 0.9338592497283592, 0.8807117311910645, 0.8774571124801321, 0.9305974853934363, 0.901662144591306, 0.8906880376182791, 0.9400455335181553, 0.9235898451626703, 0.9507106362600339, 0.8961440876173402, 0.9339445737340638, 0.926624638356424, 0.9259732436816459, 0.9563082339017587, 0.9438541230429]}, {\"categories\": [\"0\", \"1\", \"2\", \"3\", \"4\", \"5\", \"6\", \"7\", \"8\", \"9\", \"10\", \"11\", \"12\", \"13\", \"14\", \"15\", \"16\", \"17\", \"18\", \"19\", \"20\", \"21\", \"22\", \"23\", \"24\", \"25\", \"26\", \"27\", \"28\", \"29\", \"30\", \"31\", \"32\", \"33\", \"34\", \"35\", \"36\", \"37\"], \"mode\": \"lines\", \"name\": \"AUC_micro_max\", \"stepped\": true, \"type\": \"scatter\", \"data\": [0.9372882767683596, 0.948733102040633, 0.948733102040633, 0.948733102040633, 0.9522792014942492, 0.9522792014942492, 0.9522792014942492, 0.9522792014942492, 0.9522792014942492, 0.9522792014942492, 0.9522792014942492, 0.9522792014942492, 0.9522792014942492, 0.9522792014942492, 0.9522792014942492, 0.9522792014942492, 0.9522792014942492, 0.9522792014942492, 0.9522792014942492, 0.9522792014942492, 0.9522792014942492, 0.9522792014942492, 0.9522792014942492, 0.9522792014942492, 0.9522792014942492, 0.9522792014942492, 0.9522792014942492, 0.9522792014942492, 0.9522792014942492, 0.9522792014942492, 0.9522792014942492, 0.9522792014942492, 0.9522792014942492, 0.9522792014942492, 0.9522792014942492, 0.9522792014942492, 0.9563082339017587, 0.9563082339017587]}], \"balanced_accuracy\": [{\"categories\": [\"0\", \"1\", \"2\", \"3\", \"4\", \"5\", \"6\", \"7\", \"8\", \"9\", \"10\", \"11\", \"12\", \"13\", \"14\", \"15\", \"16\", \"17\", \"18\", \"19\", \"20\", \"21\", \"22\", \"23\", \"24\", \"25\", \"26\", \"27\", \"28\", \"29\", \"30\", \"31\", \"32\", \"33\", \"34\", \"35\", \"36\", \"37\"], \"mode\": \"markers\", \"name\": \"balanced_accuracy\", \"stepped\": false, \"type\": \"scatter\", \"data\": [0.6675414963458443, 0.7088752632230891, 0.6957528180354267, 0.4957353435614305, 0.7480214029127072, 0.5202880855054769, 0.5465595193856063, 0.644672054998142, 0.48308846950151296, 0.499604059386668, 0.6281631009891879, 0.5657670630496717, 0.4056101909362779, 0.6455922298313603, 0.4000648103908973, 0.3875760913804392, 0.403090769938596, 0.39592070570331445, 0.4070855674116544, 0.5739822777866256, 0.5318267682398118, 0.3953345366388845, 0.6007182230008317, 0.5337345826476261, 0.4056367344410822, 0.4542058183362531, 0.6864747571269311, 0.6913266886092972, 0.6863199200155722, 0.5477019960715613, 0.6573664861708339, 0.6996160039638301, 0.43786386721169324, 0.6463509316770185, 0.6078650616694095, 0.5817208154164676, 0.6995385854081507, 0.6539291022986674]}, {\"categories\": [\"0\", \"1\", \"2\", \"3\", \"4\", \"5\", \"6\", \"7\", \"8\", \"9\", \"10\", \"11\", \"12\", \"13\", \"14\", \"15\", \"16\", \"17\", \"18\", \"19\", \"20\", \"21\", \"22\", \"23\", \"24\", \"25\", \"26\", \"27\", \"28\", \"29\", \"30\", \"31\", \"32\", \"33\", \"34\", \"35\", \"36\", \"37\"], \"mode\": \"lines\", \"name\": \"balanced_accuracy_max\", \"stepped\": true, \"type\": \"scatter\", \"data\": [0.6675414963458443, 0.7088752632230891, 0.7088752632230891, 0.7088752632230891, 0.7480214029127072, 0.7480214029127072, 0.7480214029127072, 0.7480214029127072, 0.7480214029127072, 0.7480214029127072, 0.7480214029127072, 0.7480214029127072, 0.7480214029127072, 0.7480214029127072, 0.7480214029127072, 0.7480214029127072, 0.7480214029127072, 0.7480214029127072, 0.7480214029127072, 0.7480214029127072, 0.7480214029127072, 0.7480214029127072, 0.7480214029127072, 0.7480214029127072, 0.7480214029127072, 0.7480214029127072, 0.7480214029127072, 0.7480214029127072, 0.7480214029127072, 0.7480214029127072, 0.7480214029127072, 0.7480214029127072, 0.7480214029127072, 0.7480214029127072, 0.7480214029127072, 0.7480214029127072, 0.7480214029127072, 0.7480214029127072]}], \"AUC_weighted\": [{\"categories\": [\"0\", \"1\", \"2\", \"3\", \"4\", \"5\", \"6\", \"7\", \"8\", \"9\", \"10\", \"11\", \"12\", \"13\", \"14\", \"15\", \"16\", \"17\", \"18\", \"19\", \"20\", \"21\", \"22\", \"23\", \"24\", \"25\", \"26\", \"27\", \"28\", \"29\", \"30\", \"31\", \"32\", \"33\", \"34\", \"35\", \"36\", \"37\"], \"mode\": \"markers\", \"name\": \"AUC_weighted\", \"stepped\": false, \"type\": \"scatter\", \"data\": [0.8986237541677875, 0.9196327695786964, 0.8970731933505185, 0.8854527212005218, 0.9135559112208324, 0.8745920988552038, 0.8846464731513644, 0.9111238637525777, 0.9016683999752669, 0.8849111699770308, 0.9152874996512971, 0.8516456119505306, 0.8769566812986573, 0.8700614122812279, 0.8961274923845169, 0.8895372929050337, 0.8830910284280579, 0.8622047143466971, 0.9030910483912237, 0.8828621315783169, 0.8801942444306284, 0.8750376888431655, 0.8707155903444245, 0.8968411579079695, 0.8793725747675323, 0.8129604129468794, 0.8836321697854865, 0.8238020452011882, 0.8141204384597587, 0.9103923631401151, 0.8690276967400093, 0.9241622207503223, 0.8262606387086189, 0.8917200267186253, 0.8755802368927531, 0.8755908446704005, 0.9262273258079862, 0.9139564229923164]}, {\"categories\": [\"0\", \"1\", \"2\", \"3\", \"4\", \"5\", \"6\", \"7\", \"8\", \"9\", \"10\", \"11\", \"12\", \"13\", \"14\", \"15\", \"16\", \"17\", \"18\", \"19\", \"20\", \"21\", \"22\", \"23\", \"24\", \"25\", \"26\", \"27\", \"28\", \"29\", \"30\", \"31\", \"32\", \"33\", \"34\", \"35\", \"36\", \"37\"], \"mode\": \"lines\", \"name\": \"AUC_weighted_max\", \"stepped\": true, \"type\": \"scatter\", \"data\": [0.8986237541677875, 0.9196327695786964, 0.9196327695786964, 0.9196327695786964, 0.9196327695786964, 0.9196327695786964, 0.9196327695786964, 0.9196327695786964, 0.9196327695786964, 0.9196327695786964, 0.9196327695786964, 0.9196327695786964, 0.9196327695786964, 0.9196327695786964, 0.9196327695786964, 0.9196327695786964, 0.9196327695786964, 0.9196327695786964, 0.9196327695786964, 0.9196327695786964, 0.9196327695786964, 0.9196327695786964, 0.9196327695786964, 0.9196327695786964, 0.9196327695786964, 0.9196327695786964, 0.9196327695786964, 0.9196327695786964, 0.9196327695786964, 0.9196327695786964, 0.9196327695786964, 0.9241622207503223, 0.9241622207503223, 0.9241622207503223, 0.9241622207503223, 0.9241622207503223, 0.9262273258079862, 0.9262273258079862]}]}, \"metricName\": null, \"primaryMetricName\": \"accuracy\", \"showLegend\": false}, \"run_metrics\": [{\"name\": \"experiment_status\", \"run_id\": \"AutoML_fe62415d-cb89-433a-8b59-ba4737fbd123\", \"categories\": [0, 1, 2, 3, 4, 5, 6, 7, 8, 9, 10, 11, 12, 13, 14], \"series\": [{\"data\": [\"DatasetEvaluation\", \"FeaturesGeneration\", \"DatasetFeaturization\", \"DatasetFeaturizationCompleted\", \"DatasetBalancing\", \"DatasetCrossValidationSplit\", \"ModelSelection\", \"BestRunExplainModel\", \"ModelExplanationDataSetSetup\", \"PickSurrogateModel\", \"EngineeredFeatureExplanations\", \"EngineeredFeatureExplanations\", \"RawFeaturesExplanations\", \"RawFeaturesExplanations\", \"BestRunExplainModel\"]}]}, {\"name\": \"experiment_status_description\", \"run_id\": \"AutoML_fe62415d-cb89-433a-8b59-ba4737fbd123\", \"categories\": [0, 1, 2, 3, 4, 5, 6, 7, 8, 9, 10, 11, 12, 13, 14], \"series\": [{\"data\": [\"Gathering dataset statistics.\", \"Generating features for the dataset.\", \"Beginning to fit featurizers and featurize the dataset.\", \"Completed fit featurizers and featurizing the dataset.\", \"Performing class balancing sweeping\", \"Generating individually featurized CV splits.\", \"Beginning model selection.\", \"Best run model explanations started\", \"Model explanations data setup completed\", \"Choosing LightGBM as the surrogate model for explanations\", \"Computation of engineered features started\", \"Computation of engineered features completed\", \"Computation of raw features started\", \"Computation of raw features completed\", \"Best run model explanations completed\"]}]}, {\"name\": \"recall_score_micro\", \"run_id\": \"AutoML_fe62415d-cb89-433a-8b59-ba4737fbd123\", \"categories\": [0], \"series\": [{\"data\": [0.7897756911841419]}]}, {\"name\": \"precision_score_weighted\", \"run_id\": \"AutoML_fe62415d-cb89-433a-8b59-ba4737fbd123\", \"categories\": [0], \"series\": [{\"data\": [0.7764910930805381]}]}, {\"name\": \"f1_score_weighted\", \"run_id\": \"AutoML_fe62415d-cb89-433a-8b59-ba4737fbd123\", \"categories\": [0], \"series\": [{\"data\": [0.766467658404914]}]}, {\"name\": \"average_precision_score_micro\", \"run_id\": \"AutoML_fe62415d-cb89-433a-8b59-ba4737fbd123\", \"categories\": [0], \"series\": [{\"data\": [0.8396786969325732]}]}, {\"name\": \"weighted_accuracy\", \"run_id\": \"AutoML_fe62415d-cb89-433a-8b59-ba4737fbd123\", \"categories\": [0], \"series\": [{\"data\": [0.8432082155680911]}]}, {\"name\": \"log_loss\", \"run_id\": \"AutoML_fe62415d-cb89-433a-8b59-ba4737fbd123\", \"categories\": [0], \"series\": [{\"data\": [0.6633581257611104]}]}, {\"name\": \"balanced_accuracy\", \"run_id\": \"AutoML_fe62415d-cb89-433a-8b59-ba4737fbd123\", \"categories\": [0], \"series\": [{\"data\": [0.6995385854081507]}]}, {\"name\": \"norm_macro_recall\", \"run_id\": \"AutoML_fe62415d-cb89-433a-8b59-ba4737fbd123\", \"categories\": [0], \"series\": [{\"data\": [0.6394463024897807]}]}, {\"name\": \"AUC_macro\", \"run_id\": \"AutoML_fe62415d-cb89-433a-8b59-ba4737fbd123\", \"categories\": [0], \"series\": [{\"data\": [0.936290035811793]}]}, {\"name\": \"precision_score_micro\", \"run_id\": \"AutoML_fe62415d-cb89-433a-8b59-ba4737fbd123\", \"categories\": [0], \"series\": [{\"data\": [0.7897756911841419]}]}, {\"name\": \"f1_score_micro\", \"run_id\": \"AutoML_fe62415d-cb89-433a-8b59-ba4737fbd123\", \"categories\": [0], \"series\": [{\"data\": [0.7897756911841419]}]}, {\"name\": \"recall_score_macro\", \"run_id\": \"AutoML_fe62415d-cb89-433a-8b59-ba4737fbd123\", \"categories\": [0], \"series\": [{\"data\": [0.6995385854081507]}]}, {\"name\": \"average_precision_score_weighted\", \"run_id\": \"AutoML_fe62415d-cb89-433a-8b59-ba4737fbd123\", \"categories\": [0], \"series\": [{\"data\": [0.8340378045330906]}]}, {\"name\": \"f1_score_macro\", \"run_id\": \"AutoML_fe62415d-cb89-433a-8b59-ba4737fbd123\", \"categories\": [0], \"series\": [{\"data\": [0.6993182615728486]}]}, {\"name\": \"AUC_weighted\", \"run_id\": \"AutoML_fe62415d-cb89-433a-8b59-ba4737fbd123\", \"categories\": [0], \"series\": [{\"data\": [0.9262273258079862]}]}, {\"name\": \"accuracy\", \"run_id\": \"AutoML_fe62415d-cb89-433a-8b59-ba4737fbd123\", \"categories\": [0], \"series\": [{\"data\": [0.7897756911841419]}]}, {\"name\": \"matthews_correlation\", \"run_id\": \"AutoML_fe62415d-cb89-433a-8b59-ba4737fbd123\", \"categories\": [0], \"series\": [{\"data\": [0.7158401708806785]}]}, {\"name\": \"precision_score_macro\", \"run_id\": \"AutoML_fe62415d-cb89-433a-8b59-ba4737fbd123\", \"categories\": [0], \"series\": [{\"data\": [0.7437798126496976]}]}, {\"name\": \"recall_score_weighted\", \"run_id\": \"AutoML_fe62415d-cb89-433a-8b59-ba4737fbd123\", \"categories\": [0], \"series\": [{\"data\": [0.7897756911841419]}]}, {\"name\": \"AUC_micro\", \"run_id\": \"AutoML_fe62415d-cb89-433a-8b59-ba4737fbd123\", \"categories\": [0], \"series\": [{\"data\": [0.9563082339017587]}]}, {\"name\": \"average_precision_score_macro\", \"run_id\": \"AutoML_fe62415d-cb89-433a-8b59-ba4737fbd123\", \"categories\": [0], \"series\": [{\"data\": [0.802038102416386]}]}], \"run_logs\": \"\\nRun is completed.\", \"graph\": {}, \"widget_settings\": {\"childWidgetDisplay\": \"popup\", \"send_telemetry\": false, \"log_level\": \"INFO\", \"sdk_version\": \"1.20.0\"}, \"loading\": false}"
     },
     "metadata": {},
     "output_type": "display_data"
    }
   ],
   "source": [
    "# See the progress of the run\n",
    "\n",
    "RunDetails(remote_run).show()"
   ]
  },
  {
   "cell_type": "markdown",
   "metadata": {},
   "source": [
    "## Best Model"
   ]
  },
  {
   "cell_type": "code",
   "execution_count": 9,
   "metadata": {
    "collapsed": false,
    "gather": {
     "logged": 1598431425670
    },
    "jupyter": {
     "outputs_hidden": false,
     "source_hidden": false
    },
    "nteract": {
     "transient": {
      "deleting": false
     }
    }
   },
   "outputs": [
    {
     "data": {
      "text/html": [
       "<table style=\"width:100%\"><tr><th>Experiment</th><th>Id</th><th>Type</th><th>Status</th><th>Details Page</th><th>Docs Page</th></tr><tr><td>automl</td><td>AutoML_fe62415d-cb89-433a-8b59-ba4737fbd123_36</td><td>azureml.scriptrun</td><td>Completed</td><td><a href=\"https://ml.azure.com/experiments/automl/runs/AutoML_fe62415d-cb89-433a-8b59-ba4737fbd123_36?wsid=/subscriptions/6971f5ac-8af1-446e-8034-05acea24681f/resourcegroups/aml-quickstarts-136621/workspaces/quick-starts-ws-136621\" target=\"_blank\" rel=\"noopener\">Link to Azure Machine Learning studio</a></td><td><a href=\"https://docs.microsoft.com/en-us/python/api/azureml-core/azureml.core.run.Run?view=azure-ml-py\" target=\"_blank\" rel=\"noopener\">Link to Documentation</a></td></tr></table>"
      ],
      "text/plain": [
       "Run(Experiment: automl,\n",
       "Id: AutoML_fe62415d-cb89-433a-8b59-ba4737fbd123_36,\n",
       "Type: azureml.scriptrun,\n",
       "Status: Completed)"
      ]
     },
     "execution_count": 9,
     "metadata": {},
     "output_type": "execute_result"
    }
   ],
   "source": [
    "best_run, fitted_model = remote_run.get_output()\n",
    "best_run"
   ]
  },
  {
   "cell_type": "code",
   "execution_count": 10,
   "metadata": {},
   "outputs": [
    {
     "name": "stdout",
     "output_type": "stream",
     "text": [
      "Best run:\n",
      "Run(Experiment: automl,\n",
      "Id: AutoML_fe62415d-cb89-433a-8b59-ba4737fbd123_36,\n",
      "Type: azureml.scriptrun,\n",
      "Status: Completed)\n",
      "\n",
      "\n",
      "Fitted model:\n",
      "Pipeline(memory=None,\n",
      "         steps=[('datatransformer',\n",
      "                 DataTransformer(enable_dnn=None, enable_feature_sweeping=None,\n",
      "                                 feature_sweeping_config=None,\n",
      "                                 feature_sweeping_timeout=None,\n",
      "                                 featurization_config=None, force_text_dnn=None,\n",
      "                                 is_cross_validation=None,\n",
      "                                 is_onnx_compatible=None, logger=None,\n",
      "                                 observer=None, task=None, working_dir=None)),\n",
      "                ('prefittedsoftvotingclassifier',...\n",
      "                                                                                                    min_samples_leaf=0.01,\n",
      "                                                                                                    min_samples_split=0.10368421052631578,\n",
      "                                                                                                    min_weight_fraction_leaf=0.0,\n",
      "                                                                                                    n_estimators=25,\n",
      "                                                                                                    n_jobs=1,\n",
      "                                                                                                    oob_score=False,\n",
      "                                                                                                    random_state=None,\n",
      "                                                                                                    verbose=0,\n",
      "                                                                                                    warm_start=False))],\n",
      "                                                                     verbose=False))],\n",
      "                                               flatten_transform=None,\n",
      "                                               weights=[0.16666666666666666,\n",
      "                                                        0.16666666666666666,\n",
      "                                                        0.16666666666666666,\n",
      "                                                        0.16666666666666666,\n",
      "                                                        0.16666666666666666,\n",
      "                                                        0.16666666666666666]))],\n",
      "         verbose=False)\n"
     ]
    }
   ],
   "source": [
    "print(\"Best run:\")\n",
    "print(best_run)\n",
    "print(\"\\n\")\n",
    "print(\"Fitted model:\")\n",
    "print(fitted_model)"
   ]
  },
  {
   "cell_type": "markdown",
   "metadata": {},
   "source": [
    "We obtained an accuracy of 79%, that's better than our hyperdrive run. Thus, this will be the deployed model. But first, we retrieve and save the best performing model along with the scoring file and the conda environment we will use:"
   ]
  },
  {
   "cell_type": "code",
   "execution_count": 11,
   "metadata": {},
   "outputs": [
    {
     "data": {
      "text/plain": [
       "['accuracy_table',\n",
       " 'automl_driver.py',\n",
       " 'azureml-logs/55_azureml-execution-tvmps_02fe4edc80e81ddddf29320c64cc9a52594985ec7366a74892f4e06c6cc7b49a_d.txt',\n",
       " 'azureml-logs/65_job_prep-tvmps_02fe4edc80e81ddddf29320c64cc9a52594985ec7366a74892f4e06c6cc7b49a_d.txt',\n",
       " 'azureml-logs/70_driver_log.txt',\n",
       " 'azureml-logs/75_job_post-tvmps_02fe4edc80e81ddddf29320c64cc9a52594985ec7366a74892f4e06c6cc7b49a_d.txt',\n",
       " 'azureml-logs/process_info.json',\n",
       " 'azureml-logs/process_status.json',\n",
       " 'confusion_matrix',\n",
       " 'logs/azureml/106_azureml.log',\n",
       " 'logs/azureml/azureml_automl.log',\n",
       " 'logs/azureml/dataprep/python_span_62c633af-5c29-4fa3-9bca-d87fd0475412.jsonl',\n",
       " 'logs/azureml/dataprep/python_span_e301ce47-2ea8-41c7-9fd1-735024f0a78d.jsonl',\n",
       " 'logs/azureml/job_prep_azureml.log',\n",
       " 'logs/azureml/job_release_azureml.log',\n",
       " 'outputs/conda_env_v_1_0_0.yml',\n",
       " 'outputs/env_dependencies.json',\n",
       " 'outputs/internal_cross_validated_models.pkl',\n",
       " 'outputs/model.pkl',\n",
       " 'outputs/pipeline_graph.json',\n",
       " 'outputs/scoring_file_v_1_0_0.py']"
      ]
     },
     "execution_count": 11,
     "metadata": {},
     "output_type": "execute_result"
    }
   ],
   "source": [
    "best_run.get_file_names()"
   ]
  },
  {
   "cell_type": "code",
   "execution_count": 12,
   "metadata": {
    "collapsed": false,
    "gather": {
     "logged": 1598431426111
    },
    "jupyter": {
     "outputs_hidden": false,
     "source_hidden": false
    },
    "nteract": {
     "transient": {
      "deleting": false
     }
    }
   },
   "outputs": [
    {
     "name": "stdout",
     "output_type": "stream",
     "text": [
      "Best model saved.\n"
     ]
    }
   ],
   "source": [
    "if \"outputs\" not in os.listdir():\n",
    "    os.mkdir(\"./outputs\")\n",
    "    \n",
    "pickle_filename = \"outputs/model.pkl\"\n",
    "scoring_file = \"outputs/scoring_file_v_1_0_0.py\"\n",
    "conda_file = \"outputs/conda_env_v_1_0_0.yml\"\n",
    "best_run.download_file(pickle_filename, output_file_path=\"outputs/automl_model.pkl\")\n",
    "best_run.download_file(scoring_file, output_file_path=\"outputs/automl_scoring.py\")\n",
    "best_run.download_file(conda_file, output_file_path=\"outputs/automl_conda.yml\")\n",
    "print(\"Best model saved.\")"
   ]
  },
  {
   "cell_type": "markdown",
   "metadata": {},
   "source": [
    "## Model deployment"
   ]
  },
  {
   "cell_type": "markdown",
   "metadata": {},
   "source": [
    "For deployment, first we need to register our model:"
   ]
  },
  {
   "cell_type": "code",
   "execution_count": 13,
   "metadata": {},
   "outputs": [
    {
     "name": "stdout",
     "output_type": "stream",
     "text": [
      "automl-glass\n"
     ]
    }
   ],
   "source": [
    "model = remote_run.register_model(model_name=\"automl-glass\", description=\"Glass Type by AutoML\")\n",
    "print(remote_run.model_id)"
   ]
  },
  {
   "cell_type": "code",
   "execution_count": 14,
   "metadata": {},
   "outputs": [],
   "source": [
    "conda_env = Environment.from_conda_specification(name = \"automl_env\",\n",
    "                                                 file_path = \"outputs/automl_conda.yml\")"
   ]
  },
  {
   "cell_type": "code",
   "execution_count": 15,
   "metadata": {},
   "outputs": [],
   "source": [
    "inference_config = InferenceConfig(entry_script=\"outputs/automl_scoring.py\", environment=conda_env)"
   ]
  },
  {
   "cell_type": "code",
   "execution_count": 16,
   "metadata": {},
   "outputs": [],
   "source": [
    "# Deploying the model as a web service to an Azure Container Instance (ACI) with authentication\n",
    "service_name = 'glass-prediction'\n",
    "aci_config = AciWebservice.deploy_configuration(cpu_cores=1,\n",
    "                                                memory_gb=1,\n",
    "                                                auth_enabled=True,\n",
    "                                                enable_app_insights=True)"
   ]
  },
  {
   "cell_type": "code",
   "execution_count": 17,
   "metadata": {},
   "outputs": [
    {
     "name": "stdout",
     "output_type": "stream",
     "text": [
      "Tips: You can try get_logs(): https://aka.ms/debugimage#dockerlog or local deployment: https://aka.ms/debugimage#debug-locally to debug if deployment takes longer than 10 minutes.\n",
      "Running........................................................................................................................................................................................\n",
      "Succeeded\n",
      "ACI service creation operation finished, operation \"Succeeded\"\n"
     ]
    }
   ],
   "source": [
    "service = Model.deploy(workspace=ws,\n",
    "             name=\"glass-prediction-automl\",\n",
    "             models=[model],\n",
    "             inference_config=inference_config,\n",
    "             deployment_config=aci_config,\n",
    "             overwrite=True)\n",
    "service.wait_for_deployment(show_output=True)"
   ]
  },
  {
   "cell_type": "code",
   "execution_count": 18,
   "metadata": {},
   "outputs": [
    {
     "name": "stdout",
     "output_type": "stream",
     "text": [
      "Healthy\n"
     ]
    }
   ],
   "source": [
    "print(service.state)"
   ]
  },
  {
   "cell_type": "code",
   "execution_count": 19,
   "metadata": {},
   "outputs": [
    {
     "name": "stdout",
     "output_type": "stream",
     "text": [
      "2021-01-30T17:43:06,864940480+00:00 - iot-server/run \n",
      "2021-01-30T17:43:06,867891589+00:00 - rsyslog/run \n",
      "2021-01-30T17:43:06,867087787+00:00 - gunicorn/run \n",
      "2021-01-30T17:43:06,889410761+00:00 - nginx/run \n",
      "rsyslogd: /azureml-envs/azureml_4f26b5b9300bb3a3b89415c34dafac63/lib/libuuid.so.1: no version information available (required by rsyslogd)\n",
      "/usr/sbin/nginx: /azureml-envs/azureml_4f26b5b9300bb3a3b89415c34dafac63/lib/libcrypto.so.1.0.0: no version information available (required by /usr/sbin/nginx)\n",
      "/usr/sbin/nginx: /azureml-envs/azureml_4f26b5b9300bb3a3b89415c34dafac63/lib/libcrypto.so.1.0.0: no version information available (required by /usr/sbin/nginx)\n",
      "/usr/sbin/nginx: /azureml-envs/azureml_4f26b5b9300bb3a3b89415c34dafac63/lib/libssl.so.1.0.0: no version information available (required by /usr/sbin/nginx)\n",
      "/usr/sbin/nginx: /azureml-envs/azureml_4f26b5b9300bb3a3b89415c34dafac63/lib/libssl.so.1.0.0: no version information available (required by /usr/sbin/nginx)\n",
      "/usr/sbin/nginx: /azureml-envs/azureml_4f26b5b9300bb3a3b89415c34dafac63/lib/libssl.so.1.0.0: no version information available (required by /usr/sbin/nginx)\n",
      "EdgeHubConnectionString and IOTEDGE_IOTHUBHOSTNAME are not set. Exiting...\n",
      "2021-01-30T17:43:07,015203281+00:00 - iot-server/finish 1 0\n",
      "2021-01-30T17:43:07,016326785+00:00 - Exit code 1 is normal. Not restarting iot-server.\n",
      "Starting gunicorn 19.9.0\n",
      "Listening at: http://127.0.0.1:31311 (13)\n",
      "Using worker: sync\n",
      "worker timeout is set to 300\n",
      "Booting worker with pid: 42\n",
      "SPARK_HOME not set. Skipping PySpark Initialization.\n",
      "Generating new fontManager, this may take some time...\n",
      "Initializing logger\n",
      "2021-01-30 17:43:08,237 | root | INFO | Starting up app insights client\n",
      "2021-01-30 17:43:08,237 | root | INFO | Starting up request id generator\n",
      "2021-01-30 17:43:08,237 | root | INFO | Starting up app insight hooks\n",
      "2021-01-30 17:43:08,238 | root | INFO | Invoking user's init function\n",
      "2021-01-30 17:43:10,672 | azureml.core | WARNING | Failure while loading azureml_run_type_providers. Failed to load entrypoint automl = azureml.train.automl.run:AutoMLRun._from_run_dto with exception cannot import name 'RunType'.\n",
      "Failure while loading azureml_run_type_providers. Failed to load entrypoint automl = azureml.train.automl.run:AutoMLRun._from_run_dto with exception cannot import name 'RunType'.\n",
      "2021-01-30 17:43:10,837 | root | INFO | Users's init has completed successfully\n",
      "2021-01-30 17:43:10,839 | root | INFO | Skipping middleware: dbg_model_info as it's not enabled.\n",
      "2021-01-30 17:43:10,912 | root | INFO | Skipping middleware: dbg_resource_usage as it's not enabled.\n",
      "2021-01-30 17:43:10,913 | root | INFO | Scoring timeout is found from os.environ: 60000 ms\n",
      "2021-01-30 17:43:26,794 | root | INFO | 200\n",
      "127.0.0.1 - - [30/Jan/2021:17:43:26 +0000] \"GET /swagger.json HTTP/1.0\" 200 2493 \"-\" \"Go-http-client/1.1\"\n",
      "2021-01-30 17:43:30,249 | root | INFO | 200\n",
      "127.0.0.1 - - [30/Jan/2021:17:43:30 +0000] \"GET /swagger.json HTTP/1.0\" 200 2493 \"-\" \"Go-http-client/1.1\"\n",
      "\n"
     ]
    }
   ],
   "source": [
    "print(service.get_logs())"
   ]
  },
  {
   "cell_type": "markdown",
   "metadata": {},
   "source": [
    "## Consuming the model"
   ]
  },
  {
   "cell_type": "code",
   "execution_count": 20,
   "metadata": {},
   "outputs": [],
   "source": [
    "auth_key = service.get_keys()[0]\n",
    "scoring_uri = service.scoring_uri"
   ]
  },
  {
   "cell_type": "code",
   "execution_count": 21,
   "metadata": {},
   "outputs": [],
   "source": [
    "data = data = {\n",
    "    \"data\": [\n",
    "        {\n",
    "            \"RI\": 1.52101,\n",
    "            \"Na\": 13.64,\n",
    "            \"Mg\": 4.49,\n",
    "            \"Al\": 1.1,\n",
    "            \"Si\": 71.78,\n",
    "            \"K\": 0.06,\n",
    "            \"Ca\": 8.75,\n",
    "            \"Ba\": 0.0,\n",
    "            \"Fe\": 0.0\n",
    "            }\n",
    "    ]\n",
    "}\n",
    "input_data = json.dumps(data)"
   ]
  },
  {
   "cell_type": "code",
   "execution_count": 22,
   "metadata": {},
   "outputs": [],
   "source": [
    "headers = {'Content-Type': 'application/json'}"
   ]
  },
  {
   "cell_type": "code",
   "execution_count": 23,
   "metadata": {},
   "outputs": [],
   "source": [
    "# Set the authorization header\n",
    "headers['Authorization'] = f'Bearer {auth_key}'"
   ]
  },
  {
   "cell_type": "code",
   "execution_count": 24,
   "metadata": {},
   "outputs": [
    {
     "name": "stdout",
     "output_type": "stream",
     "text": [
      "{\"result\": [1]}\n"
     ]
    }
   ],
   "source": [
    "# Make the request and display the response\n",
    "resp = requests.post(scoring_uri, input_data, headers=headers)\n",
    "print(resp.json())"
   ]
  },
  {
   "cell_type": "code",
   "execution_count": 25,
   "metadata": {},
   "outputs": [],
   "source": [
    "# Delete the compute target for cost-saving\n",
    "compute_cluster.delete()"
   ]
  },
  {
   "cell_type": "code",
   "execution_count": 26,
   "metadata": {},
   "outputs": [],
   "source": [
    "# Delete the web service deployment\n",
    "service.delete()"
   ]
  },
  {
   "cell_type": "code",
   "execution_count": 27,
   "metadata": {},
   "outputs": [
    {
     "name": "stdout",
     "output_type": "stream",
     "text": [
      "Current provisioning state of AmlCompute is \"Deleting\"\n",
      "\n",
      "None\n"
     ]
    }
   ],
   "source": [
    "print(compute_cluster.get_status())"
   ]
  }
 ],
 "metadata": {
  "kernel_info": {
   "name": "python3"
  },
  "kernelspec": {
   "display_name": "Python 3",
   "language": "python",
   "name": "python3"
  },
  "language_info": {
   "codemirror_mode": {
    "name": "ipython",
    "version": 3
   },
   "file_extension": ".py",
   "mimetype": "text/x-python",
   "name": "python",
   "nbconvert_exporter": "python",
   "pygments_lexer": "ipython3",
   "version": "3.6.9"
  },
  "nteract": {
   "version": "nteract-front-end@1.0.0"
  }
 },
 "nbformat": 4,
 "nbformat_minor": 4
}
